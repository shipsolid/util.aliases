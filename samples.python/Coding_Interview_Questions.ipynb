{
 "cells": [
  {
   "cell_type": "markdown",
   "metadata": {
    "id": "-EVn32F3nCmR"
   },
   "source": [
    "# Question 1\n",
    "## **Medal Assignment Challenge**\n",
    "Given scores of N athletes,\n",
    "find their relative ranks and\n",
    "the people with the top three\n",
    "highest scores, who will be\n",
    "awarded medals: \"Gold\n",
    "Medal\", \"Silver Medal\" and\n",
    "\"Bronze Medal\".\n",
    "\n",
    "```\n",
    "Input: [5, 4, 3, 2, 1]\n",
    "\n",
    "Output: [\"Gold Medal\", \"Silver Medal\", \"Bronze Medal\", \"4\", \"5\" ]\n",
    "```"
   ]
  },
  {
   "cell_type": "markdown",
   "metadata": {
    "id": "O2YtK0OZE-hs"
   },
   "source": [
    "### **Case 1:** For Sorted Scores"
   ]
  },
  {
   "cell_type": "code",
   "execution_count": null,
   "metadata": {
    "colab": {
     "base_uri": "https://localhost:8080/"
    },
    "id": "bj1tnqEZkd0r",
    "outputId": "1f23e9ce-49bb-4004-f813-b13addc9b99a"
   },
   "outputs": [
    {
     "name": "stdout",
     "output_type": "stream",
     "text": [
      "Enter Number of Athletes: 5\n",
      "Enter Scores in Descending Order\n",
      "Enter Score: 5\n",
      "Enter Score: 4\n",
      "Enter Score: 3\n",
      "Enter Score: 2\n",
      "Enter Score: 1\n",
      "List After Assigning Score is:\n",
      "['Gold Medal', 'Silver Medal', 'Bronze Medal', '4', '5']\n"
     ]
    }
   ],
   "source": [
    "# Considering List is Sorted\n",
    "\n",
    "# Taking Input\n",
    "N = int(input(\"Enter Number of Athletes: \"))\n",
    "\n",
    "print(\"Enter Scores in Descending Order\")\n",
    "\n",
    "# List to Store Scores\n",
    "score_List = []\n",
    "\n",
    "# Loop to take Scores\n",
    "for i in range(N):\n",
    "\n",
    "  score = int(input(\"Enter Score: \"))\n",
    "  score_List.append(score)\n",
    "\n",
    "# Now Assigning Medals\n",
    "for i in range(0, len(score_List)):\n",
    "\n",
    "  if i == 0:\n",
    "    score_List[i] = 'Gold Medal'\n",
    "\n",
    "  elif i == 1:\n",
    "    score_List[i] = 'Silver Medal'\n",
    "\n",
    "  elif i == 2:\n",
    "    score_List[i] = 'Bronze Medal'\n",
    "\n",
    "  else:\n",
    "     score_List[i] = str(i+1)\n",
    "\n",
    "print(\"List After Assigning Score is:\")\n",
    "print(score_List)"
   ]
  },
  {
   "cell_type": "markdown",
   "metadata": {
    "id": "2HioRYeMFJNr"
   },
   "source": [
    "### **Case 2:** For Unsorted Scores"
   ]
  },
  {
   "cell_type": "code",
   "execution_count": null,
   "metadata": {
    "colab": {
     "base_uri": "https://localhost:8080/"
    },
    "id": "Ou7GUOKMo_DK",
    "outputId": "1cd35d28-9c88-452d-e470-6cfbae3a0184"
   },
   "outputs": [
    {
     "name": "stdout",
     "output_type": "stream",
     "text": [
      "Enter Number of Athletes: 5\n",
      "Enter Scores in Any Order\n",
      "Enter Score: 5\n",
      "Enter Score: 8\n",
      "Enter Score: 2\n",
      "Enter Score: 1\n",
      "Enter Score: 3\n",
      "List After Assigning Score is:\n",
      "['Silver Medal', 'Gold Medal', '4', '5', 'Bronze Medal']\n"
     ]
    }
   ],
   "source": [
    "# Considering List is Unsorted\n",
    "\n",
    "# Taking Input\n",
    "N = int(input(\"Enter Number of Athletes: \"))\n",
    "\n",
    "print(\"Enter Scores in Any Order\")\n",
    "\n",
    "# List to Store Scores\n",
    "score_List = []\n",
    "\n",
    "# Loop to take Scores\n",
    "for i in range(N):\n",
    "\n",
    "  score = int(input(\"Enter Score: \"))\n",
    "  score_List.append(score)\n",
    "\n",
    "# Finding Sorted Indices\n",
    "sorted_indexes = sorted(range(len(score_List)), key = lambda x: score_List[x], reverse = True)\n",
    "\n",
    "# Now Assigning Medals\n",
    "for i in range(len(score_List)):\n",
    "\n",
    "  if i == sorted_indexes[0]:\n",
    "    score_List[i] = 'Gold Medal'\n",
    "\n",
    "  elif i == sorted_indexes[1]:\n",
    "    score_List[i] = 'Silver Medal'\n",
    "\n",
    "  elif i == sorted_indexes[2]:\n",
    "    score_List[i] = 'Bronze Medal'\n",
    "\n",
    "  else:\n",
    "     score_List[i] = str(sorted_indexes.index(i) + 1)\n",
    "\n",
    "print(\"List After Assigning Score is:\")\n",
    "print(score_List)"
   ]
  },
  {
   "cell_type": "markdown",
   "metadata": {
    "id": "cav5TH6AFkTN"
   },
   "source": [
    "# Question 2\n",
    "## **Perfect Number**\n",
    "A perfect number is a positive\n",
    "integer that is equal to the\n",
    "sum of its positive divisors,\n",
    "excluding the number itself. A\n",
    "divisor of an integer x is an\n",
    "integer that can divide x\n",
    "evenly.\n",
    "\n",
    "Given an integer n, return true\n",
    "if n is a perfect number,\n",
    "otherwise return false.\n",
    "\n",
    "```\n",
    "Input: num = 28\n",
    "\n",
    "Output: True\n",
    "```\n"
   ]
  },
  {
   "cell_type": "code",
   "execution_count": null,
   "metadata": {
    "colab": {
     "base_uri": "https://localhost:8080/"
    },
    "id": "zcCPppBvx8yq",
    "outputId": "7eeb0c75-afaf-40eb-b1d3-34d1d4e565fc"
   },
   "outputs": [
    {
     "name": "stdout",
     "output_type": "stream",
     "text": [
      "Enter Number: 28\n",
      "True\n"
     ]
    }
   ],
   "source": [
    "# Taking Input\n",
    "n = int(input(\"Enter Number: \"))\n",
    "\n",
    "# List for Storing Positive Divisor\n",
    "# Adding 1 as 1 is Positive Divisor of all numbers\n",
    "positive_div = [1]\n",
    "\n",
    "# Finding Positive divisors\n",
    "# Any Number Positive divisor is always less than its half(or Median of the Number)\n",
    "for i in range(2, n//2 + 1):\n",
    "\n",
    "  # Finding Positive divisor and adding to\n",
    "  if n % i == 0:\n",
    "    positive_div.append(i)\n",
    "\n",
    "# Printing Result\n",
    "# Sum Function is used to find sum of list\n",
    "if n == sum(positive_div):\n",
    "  print(\"True\")\n",
    "else:\n",
    "  print(\"False\")"
   ]
  },
  {
   "cell_type": "markdown",
   "metadata": {
    "id": "q_1mpnPYIZNn"
   },
   "source": [
    "# Question 3\n",
    "## **Base 7 String**\n",
    "Given an integer, return\n",
    "its base 7 _ string\n",
    "representation.\n",
    "\n",
    "```\n",
    "Input: 100\n",
    "\n",
    "Output: \"202\"\n",
    "```\n",
    "\n",
    "### **Note**: Just By changing the base we can use this same function for any conversion."
   ]
  },
  {
   "cell_type": "code",
   "execution_count": null,
   "metadata": {
    "colab": {
     "base_uri": "https://localhost:8080/"
    },
    "id": "HmpNVV1sGqP5",
    "outputId": "8727fc8c-312a-4d64-bc0c-ca3385f70f2e"
   },
   "outputs": [
    {
     "name": "stdout",
     "output_type": "stream",
     "text": [
      "Enter Integer: 100\n",
      "Base 7 Conversion is: 202\n"
     ]
    }
   ],
   "source": [
    "# Taking Input\n",
    "n = int(input(\"Enter Integer: \"))\n",
    "\n",
    "# Defining Function for Conversion\n",
    "def base_7(n):\n",
    "\n",
    "  # If Number is 0 then string representation is 0\n",
    "  if n == 0:\n",
    "    return 0\n",
    "\n",
    "  # Converting to Absolute value for negative integers\n",
    "  if n < 0:\n",
    "    abs(n)\n",
    "\n",
    "  # Result String\n",
    "  res = \"\"\n",
    "\n",
    "  # Loop to Find base 7 representation\n",
    "  while n > 0:\n",
    "\n",
    "    # Finding Remainder\n",
    "    rem = n % 7\n",
    "\n",
    "    # Adding to Result\n",
    "    res = str(rem) + res\n",
    "\n",
    "    # Updating n by its integer 7 division\n",
    "    n //= 7\n",
    "\n",
    "  return res\n",
    "\n",
    "# Calling Function\n",
    "print(\"Base 7 Conversion is:\", base_7(n))"
   ]
  },
  {
   "cell_type": "markdown",
   "metadata": {
    "id": "O_5t2llLKjEb"
   },
   "source": [
    "### **Note**: Just By changing the base we can use this same function for any conversion."
   ]
  },
  {
   "cell_type": "code",
   "execution_count": null,
   "metadata": {
    "colab": {
     "base_uri": "https://localhost:8080/"
    },
    "id": "DViqScUjKKLp",
    "outputId": "7bf1e9fb-16df-48f5-9a00-deb11e0481bc"
   },
   "outputs": [
    {
     "name": "stdout",
     "output_type": "stream",
     "text": [
      "Enter Integer: 3\n",
      "Enter Base to Convert: 2\n",
      "Base 2 Conversion/Representation of Number 3 is: 11\n"
     ]
    }
   ],
   "source": [
    "# Taking Input\n",
    "n = int(input(\"Enter Integer: \"))\n",
    "bs = int(input(\"Enter Base to Convert: \"))\n",
    "\n",
    "# Defining Function for Conversion\n",
    "def base_gen(base, n):\n",
    "\n",
    "  # If Number is 0 then string representation is 0\n",
    "  if n == 0:\n",
    "    return 0\n",
    "\n",
    "  # Converting to Absolute value for negative integers\n",
    "  if n < 0:\n",
    "    abs(n)\n",
    "\n",
    "  # Result String\n",
    "  res = \"\"\n",
    "\n",
    "  # Loop to Find base representation\n",
    "  while n > 0:\n",
    "\n",
    "    # Finding Remainder\n",
    "    rem = n % base\n",
    "\n",
    "    # Adding to Result\n",
    "    res = str(rem) + res\n",
    "\n",
    "    # Updating n by its integer base division\n",
    "    n //= base\n",
    "\n",
    "  return res\n",
    "\n",
    "# Calling Function\n",
    "print(f\"Base {bs} Conversion/Representation of Number {n} is:\",base_gen(bs,n))"
   ]
  },
  {
   "cell_type": "markdown",
   "metadata": {
    "id": "HGhPXHPHiW1Z"
   },
   "source": [
    "# Question 4\n",
    "## **Next Greater Number**\n",
    "\n",
    "Given a circular array (the next\n",
    "element of the last element is\n",
    "the first element of the array),\n",
    "print the Next Greater Number\n",
    "for every element. The Next\n",
    "Greater Number of a number x\n",
    "is the first greater number to\n",
    "its traversing-order next in the\n",
    "array, which means you could\n",
    "search circularly to find its next\n",
    "greater number. If it doesn't\n",
    "exist, output -1 for this\n",
    "number.\n",
    "\n",
    "```\n",
    "Input: [1,2,1]\n",
    "\n",
    "Output: [2,-1,2]\n",
    "```"
   ]
  },
  {
   "cell_type": "code",
   "execution_count": null,
   "metadata": {
    "colab": {
     "base_uri": "https://localhost:8080/"
    },
    "id": "GBwbbCDxhDYu",
    "outputId": "65c73673-4dbe-40b6-b5bd-ee1a5e9d8718"
   },
   "outputs": [
    {
     "name": "stdout",
     "output_type": "stream",
     "text": [
      "Enter Number of Elements: 3\n",
      "Enter Element 1: 1\n",
      "Enter Element 2: 2\n",
      "Enter Element 3: 1\n",
      "Next Greater Number in Circular Array is:\n",
      "[2, -1, 2]\n"
     ]
    }
   ],
   "source": [
    "# Taking Input\n",
    "N = int(input(\"Enter Number of Elements: \"))\n",
    "\n",
    "# List to Store Scores\n",
    "circular_array = []\n",
    "\n",
    "# Loop to take Scores\n",
    "for i in range(N):\n",
    "\n",
    "  ele = int(input(f\"Enter Element {i+1}: \"))\n",
    "  circular_array.append(ele)\n",
    "\n",
    "def next_greater_element(circular_array):\n",
    "\n",
    "  # List to store next greater elements\n",
    "  next_greater_ele = []\n",
    "\n",
    "  # Finding the next greater element\n",
    "  for i in range(N):\n",
    "\n",
    "      next_greater = -1  # Default value if no greater element is found\n",
    "\n",
    "      for j in range(1, N):\n",
    "\n",
    "          # Use modulo to handle circular nature\n",
    "          index = (i + j) % N\n",
    "\n",
    "          if circular_array[index] > circular_array[i]:\n",
    "              next_greater = circular_array[index]\n",
    "              break\n",
    "\n",
    "      next_greater_ele.append(next_greater)\n",
    "\n",
    "  return next_greater_ele\n",
    "\n",
    "print(\"Next Greater Number in Circular Array is:\")\n",
    "# Calling Function\n",
    "print(next_greater_element(circular_array))"
   ]
  },
  {
   "cell_type": "markdown",
   "metadata": {
    "id": "0TYMBCD7nNaz"
   },
   "source": [
    "# Question 5\n",
    "## **Row Typability Challenge**\n",
    "Given a List of words, return\n",
    "the words that can be typed\n",
    "using letters of alphabet on\n",
    "only one row's of American\n",
    "keyboard.\n",
    "\n",
    "```\n",
    "Input: = [\"Hello\", \"Alaska\",\n",
    "\"Dad\", \"Peace\"]\n",
    "\n",
    "Output: [\"Alaska\", \"Dad\"]\n",
    "```"
   ]
  },
  {
   "cell_type": "code",
   "execution_count": null,
   "metadata": {
    "colab": {
     "base_uri": "https://localhost:8080/"
    },
    "id": "Lo4l40GMi32h",
    "outputId": "f21a2f72-ea1e-4368-943c-0ae2b87e2cf4"
   },
   "outputs": [
    {
     "name": "stdout",
     "output_type": "stream",
     "text": [
      "Enter Number of Words: 3\n",
      "Enter Word 1: all\n",
      "Enter Word 2: kk\n",
      "Enter Word 3: uii\n",
      "Words that can be typed from One Row Of American Keyboard are:\n",
      "['all', 'kk', 'uii']\n"
     ]
    }
   ],
   "source": [
    "# Taking Input\n",
    "N = int(input(\"Enter Number of Words: \"))\n",
    "\n",
    "# List to Store Scores\n",
    "word_list = []\n",
    "\n",
    "# Loop to take Scores\n",
    "for i in range(N):\n",
    "\n",
    "  word = input(f\"Enter Word {i+1}: \")\n",
    "  word_list.append(word)\n",
    "\n",
    "def word_row_type(w):\n",
    "\n",
    "  # Converting String to Uppercase\n",
    "  w = w.upper()\n",
    "\n",
    "  # List of Rows in American Keyboard\n",
    "  rows = [\"QWERTPOIUY\", \"ASDFLKJGH\", \"ZXCVMNB\"]\n",
    "\n",
    "  # Checking if all characters of Word can be typed using all letters of rows for any of the rows\n",
    "  # If any row satisfies the condition it will break\n",
    "  if any(all(char in row for char in w) for row in rows):\n",
    "    return 1\n",
    "\n",
    "# List of Typable Words\n",
    "word_typable = [w for w in word_list if(word_row_type(w) == 1)]\n",
    "\n",
    "print(\"Words that can be typed from One Row Of American Keyboard are:\")\n",
    "print(word_typable)"
   ]
  },
  {
   "cell_type": "markdown",
   "metadata": {
    "id": "biZx8Eubs-5a"
   },
   "source": [
    "# Question 6\n",
    "## **Matrix Zigzag Order**\n",
    "Given a matrix of M x N\n",
    "elements (M rows, N\n",
    "columns), return all elements\n",
    "of the matrix in Zigzag\n",
    "order as shown in the below.\n",
    "\n",
    "```\n",
    "Input:\n",
    "\n",
    "[\n",
    "[1,2,3], \n",
    "[4,5,6], \n",
    "[7,8,9]  \n",
    "\n",
    "]\n",
    "\n",
    "Output: [1, 2, 3, 6, 5, 4, 7, 8, 9]\n",
    "```"
   ]
  },
  {
   "cell_type": "code",
   "execution_count": null,
   "metadata": {
    "colab": {
     "base_uri": "https://localhost:8080/"
    },
    "id": "MY_LKQnpomxe",
    "outputId": "8263faf0-59da-45b2-f66a-efde86248ee8"
   },
   "outputs": [
    {
     "name": "stdout",
     "output_type": "stream",
     "text": [
      "Matrix is:\n",
      "[[1 2 3]\n",
      " [4 5 6]\n",
      " [7 8 9]]\n",
      "Zigzag Order Traversal Of Matrix is:\n",
      "[1, 2, 3, 6, 5, 4, 7, 8, 9]\n"
     ]
    }
   ],
   "source": [
    "# Importing Numpy for Matrix\n",
    "import numpy as np\n",
    "\n",
    "# This Function can be used to take input from user\n",
    "def Input_Matrix():\n",
    "\n",
    "  # Taking Input\n",
    "  M = int(input(\"Enter Number of Rows: \"))\n",
    "  N = int(input(\"Enter Number of Columns: \"))\n",
    "\n",
    "  # Declaring Matrix\n",
    "  mat = np.zeros((M,N), dtype = int)\n",
    "\n",
    "  # Loop to take input\n",
    "  for i in range(M):\n",
    "\n",
    "    for j in range(N):\n",
    "\n",
    "      ele = int(input(f\"Enter Element {i+1}: \"))\n",
    "      mat[i,j] = ele\n",
    "\n",
    "# Declaring Variables\n",
    "M, N = 3,3\n",
    "mat = np.array([[1,2,3], [4,5,6], [7,8,9]])\n",
    "\n",
    "print(\"Matrix is:\")\n",
    "print(mat)\n",
    "\n",
    "# Traversing Matrix\n",
    "def zigzag_order_mat(mat, m, n):\n",
    "\n",
    "  mat_trav_lst = []\n",
    "\n",
    "  for i in range(m):\n",
    "\n",
    "    if i == 0 or i == m - 1:\n",
    "\n",
    "      for j in range(n):\n",
    "        mat_trav_lst.append(mat[i,j])\n",
    "\n",
    "    else:\n",
    "\n",
    "      for j in range(n-1, -1, -1):\n",
    "        mat_trav_lst.append(mat[i,j])\n",
    "\n",
    "  return mat_trav_lst\n",
    "\n",
    "print(\"Zigzag Order Traversal Of Matrix is:\")\n",
    "print(zigzag_order_mat(mat, M, N))"
   ]
  },
  {
   "cell_type": "markdown",
   "metadata": {
    "id": "ztCClLWf6Ywz"
   },
   "source": [
    "## **Matrix Z Order**\n",
    "Given a matrix of M x N\n",
    "elements (M rows, N\n",
    "columns), return all elements\n",
    "of the matrix in Z\n",
    "order as shown in the below.\n",
    "\n",
    "\n",
    "Input:\n",
    "\n",
    "[\n",
    "\n",
    "&nbsp; &nbsp; [1,2,3], <br>\n",
    "&nbsp; &nbsp; [4,5,6], <br>\n",
    "&nbsp; &nbsp; [7,8,9]  <br>\n",
    "\n",
    "]\n",
    "\n",
    "Output: [1, 2, 3, 3, 5, 7, 7, 8, 9]"
   ]
  },
  {
   "cell_type": "code",
   "execution_count": null,
   "metadata": {
    "colab": {
     "base_uri": "https://localhost:8080/"
    },
    "id": "S1QhTour2jC_",
    "outputId": "b797b5ea-f52a-4011-cfb6-a2679a7f1987"
   },
   "outputs": [
    {
     "name": "stdout",
     "output_type": "stream",
     "text": [
      "Z Order Traversal Of Matrix is:\n",
      "[1, 2, 3, 3, 5, 7, 7, 8, 9]\n"
     ]
    }
   ],
   "source": [
    "# Finding Diagonal Elements\n",
    "def diag(mat,m,n):\n",
    "\n",
    "  j = n - 1\n",
    "  diag_lst = []\n",
    "\n",
    "  for i in range(m):\n",
    "\n",
    "    diag_lst.append(mat[i,j])\n",
    "    j -= 1\n",
    "\n",
    "  return diag_lst\n",
    "\n",
    "\n",
    "# Traversing Matrix\n",
    "def z_order_mat(mat, m, n):\n",
    "\n",
    "  mat_trav_lst = []\n",
    "\n",
    "  for i in range(m):\n",
    "\n",
    "    if i == 0 or i == m - 1:\n",
    "\n",
    "      for j in range(n):\n",
    "        mat_trav_lst.append(mat[i,j])\n",
    "\n",
    "    else:\n",
    "      diag_check = 0\n",
    "      if diag_check == 0:\n",
    "        diag_ele = diag(mat,m,n)\n",
    "        for i in diag_ele:\n",
    "          mat_trav_lst.append(i)\n",
    "      diag_check += 1\n",
    "\n",
    "  return mat_trav_lst\n",
    "\n",
    "print(\"Z Order Traversal Of Matrix is:\")\n",
    "print(z_order_mat(mat, M, N))"
   ]
  },
  {
   "cell_type": "markdown",
   "metadata": {
    "id": "ROjm4K1HICs7"
   },
   "source": [
    "# Question 7\n",
    "## **K-Reverse Shuffle**\n",
    "Given a string and an integer\n",
    "k, you need to reverse the\n",
    "first k characters for every 2k\n",
    "characters counting from the\n",
    "start of the string. If there are\n",
    "less than k characters left,\n",
    "reverse all of them. If there\n",
    "are less than 2k but greater\n",
    "than or equal to k characters,\n",
    "then reverse the first k\n",
    "characters and left the other\n",
    "as original.\n",
    "\n",
    "```\n",
    "Input: s = \"abcdefg\", k =2\n",
    "Output: \"bacdfeg\"\n",
    "```"
   ]
  },
  {
   "cell_type": "code",
   "execution_count": null,
   "metadata": {
    "colab": {
     "base_uri": "https://localhost:8080/"
    },
    "id": "dRHNGncCDx2b",
    "outputId": "cde77c63-790e-44f1-a24e-b799d44857aa"
   },
   "outputs": [
    {
     "name": "stdout",
     "output_type": "stream",
     "text": [
      "Enter String: abcdefg\n",
      "Enter K: 2\n",
      "bacdfeg\n"
     ]
    }
   ],
   "source": [
    "# Taking Input\n",
    "string = input(\"Enter String: \")\n",
    "k = int(input(\"Enter K: \"))\n",
    "\n",
    "def k_reverse_shuffle(string,k):\n",
    "\n",
    "  result = []\n",
    "\n",
    "  for i in range(0, len(string), 2 * k):\n",
    "\n",
    "    seg = string[i: i + 2*k]\n",
    "    rev = seg[:k][::-1] + seg[k:]\n",
    "    result.append(rev)\n",
    "\n",
    "  return ''.join(result)\n",
    "\n",
    "print(k_reverse_shuffle(string,k))"
   ]
  },
  {
   "cell_type": "markdown",
   "metadata": {
    "id": "sHfBxytvT2Mu"
   },
   "source": [
    "# Question 8\n",
    "## **Unique Element:**\n",
    "You are given a sorted array\n",
    "consisting of only integers\n",
    "where every element appears\n",
    "exactly twice, except for one\n",
    "element — which appears\n",
    "exactly once. Find this single\n",
    "element that appears only\n",
    "once.\n",
    "\n",
    "Follow up: Your solution\n",
    "should run in O(log n) time\n",
    "and O(1) space.\n",
    "\n",
    "```\n",
    "Input: nums\n",
    "[3,3,7,7,10,11,11]\n",
    "\n",
    "Output: 10\n",
    "```"
   ]
  },
  {
   "cell_type": "code",
   "execution_count": null,
   "metadata": {
    "colab": {
     "base_uri": "https://localhost:8080/"
    },
    "id": "SHLmkgFmMcMD",
    "outputId": "7cc3cc5a-c318-45c9-90e6-eee089205c57"
   },
   "outputs": [
    {
     "name": "stdout",
     "output_type": "stream",
     "text": [
      "Unique Number is: 10\n"
     ]
    }
   ],
   "source": [
    "# Input Sorted Array\n",
    "nums = [3,3,7,7,10,11,11]\n",
    "\n",
    "def unique_element(arr):\n",
    "\n",
    "  # We are initializing it as 0 because xor with 0 to any number is that number itsel\n",
    "  # Also Xor of same elements is 0\n",
    "  # Thus after this loop it will find the unique number\n",
    "  unique_ele = 0\n",
    "\n",
    "  for i in range(len(arr)):\n",
    "\n",
    "    unique_ele = unique_ele ^ arr[i]\n",
    "\n",
    "  return unique_ele\n",
    "\n",
    "print(\"Unique Number is:\",unique_element(nums))"
   ]
  },
  {
   "cell_type": "markdown",
   "metadata": {
    "id": "FZW4rSkfVtfp"
   },
   "source": [
    "# Question 9\n",
    "## **Capital Usage Validator:**\n",
    "Given a word, you need to judge\n",
    "whether the usage of capitals in it\n",
    "is right or not.\n",
    "\n",
    "We define the usage of capitals in\n",
    "a word to be right when one of the\n",
    "following cases holds:\n",
    "\n",
    "All letters in this word are capitals,\n",
    "like \"USA\".\n",
    "\n",
    "All letters in this word are not\n",
    "capitals, like \"leetcode\".\n",
    "\n",
    "Only the first letter in this word is\n",
    "capital, like \"Google\".\n",
    "\n",
    "Otherwise, we define that this\n",
    "word doesn't use capitals in a right\n",
    "Way.\n",
    "\n",
    "```\n",
    "Input: \"USA\"\n",
    "\n",
    "Output: True\n",
    "```\n"
   ]
  },
  {
   "cell_type": "code",
   "execution_count": null,
   "metadata": {
    "colab": {
     "base_uri": "https://localhost:8080/"
    },
    "id": "myx48cbRWupx",
    "outputId": "3d16cc54-ed72-48b0-caf5-fb441700c07d"
   },
   "outputs": [
    {
     "name": "stdout",
     "output_type": "stream",
     "text": [
      "Enter String: USA\n",
      "True\n"
     ]
    }
   ],
   "source": [
    "# Taking Input\n",
    "string = input(\"Enter String: \")\n",
    "\n",
    "# Checking\n",
    "def validate_Capital(string):\n",
    "\n",
    "  if string.islower() or string.isupper() or string.iscapitalize():\n",
    "    return True\n",
    "\n",
    "print(validate_Capital(string))"
   ]
  },
  {
   "cell_type": "markdown",
   "metadata": {
    "id": "TFk4CA7VhIm6"
   },
   "source": [
    "### Lambda Function for This Capital Letters Validator\n",
    "\n",
    "Since this can be done using a one liner function."
   ]
  },
  {
   "cell_type": "code",
   "execution_count": null,
   "metadata": {
    "colab": {
     "base_uri": "https://localhost:8080/"
    },
    "id": "N0HRkq-ZZvc4",
    "outputId": "fe632359-dc24-46e2-bd50-7bde14f195d3"
   },
   "outputs": [
    {
     "name": "stdout",
     "output_type": "stream",
     "text": [
      "True\n"
     ]
    }
   ],
   "source": [
    "# Checking\n",
    "validate_Capital = lambda string: True if string.islower() or string.isupper() or string.iscapitalize() else False\n",
    "print(validate_Capital(string))"
   ]
  },
  {
   "cell_type": "markdown",
   "metadata": {
    "id": "ySSeig-fpjq8"
   },
   "source": [
    "# Question 10\n",
    "## **Odd Harmony Pattern Printer:**\n",
    "- Develop a program to print an engaging pattern called the \"Odd Harmony Pattern.\"\n",
    "- This pattern showcases rows of ascending odd numbers, creating a symmetrical and visually pleasing arrangement.\n",
    "- The challenge is to implement the algorithm for this straightforward and charming pattern printer, ensuring each row follows the specified sequence of odd numbers.\n",
    "- The Number of Rows r will be given input by user.\n",
    "\n",
    "```\n",
    "Input: 5\n",
    "Output:\n",
    "1 3 5 7 9\n",
    "3 5 7 9 1\n",
    "5 7 9 1 3\n",
    "7 9 1 3 5\n",
    "9 1 3 5 7\n",
    "```\n"
   ]
  },
  {
   "cell_type": "markdown",
   "metadata": {
    "id": "kSEwSoKuqH0f"
   },
   "source": [
    "**First Approach:**\n",
    "- We will take two loops and then print the Pattern.\n",
    "- Here using the simple formula ***2 * i + 1*** , we are calculating odd numbers then directly printing them.\n",
    "- To ensure that the numbers does not exceed 9 we are using modulus 10.\n",
    "- The trick is to just use ***2 * r*** to figure the correct modulus as it is going to be one less than ***2 * r***.\n",
    "\n",
    "***First Iteration:***\n",
    "- The first iteration of this code will start from 0.\n",
    "- When i = 0, the calculation of j loop will be like 2 * 0 + 1 = 1.\n",
    "- Like this j will proceed and print the pattern."
   ]
  },
  {
   "cell_type": "code",
   "execution_count": null,
   "metadata": {
    "colab": {
     "base_uri": "https://localhost:8080/"
    },
    "id": "qzDPIuR1iQAU",
    "outputId": "d5f37fd7-751b-4490-b55e-4eaadf16f0fc"
   },
   "outputs": [
    {
     "name": "stdout",
     "output_type": "stream",
     "text": [
      "Enter Number of Rows: 6\n",
      "\n",
      "1 3 5 7 9 11 \n",
      "3 5 7 9 11 1 \n",
      "5 7 9 11 1 3 \n",
      "7 9 11 1 3 5 \n",
      "9 11 1 3 5 7 \n",
      "11 1 3 5 7 9 \n"
     ]
    }
   ],
   "source": [
    "# Number of Rows\n",
    "r = int(input(\"Enter Number of Rows: \"))\n",
    "\n",
    "# Calculatin Mod\n",
    "mod = 2 * r\n",
    "\n",
    "print()\n",
    "\n",
    "# Loop to Print Pattern\n",
    "for i in range(0 , r):\n",
    "\n",
    "    for j in range(i , r + i):\n",
    "\n",
    "        val = 2 * j + 1\n",
    "\n",
    "        print((val % mod)  , end=\" \")\n",
    "\n",
    "    print()"
   ]
  },
  {
   "cell_type": "markdown",
   "metadata": {
    "id": "cx86hCQNs2Sm"
   },
   "source": [
    "**Second Approach:**\n",
    "- We will take two loops and then print the Pattern.\n",
    "- The difference here is that we are going to take the step size 2 in the inner loop.\n",
    "- To understand it just look at the pattern it is having a difference of 2 so instead of using any formula we will directly give start and end range and it will print the pattern.\n",
    "- The modulus logic is same as above.\n",
    "- To calculate start range we are using ***2 * i***. The reason behind this is that the loop should begin with the correct number and that is also twice of original.\n",
    "- This ensures that loop starts with next number in the sequence.\n",
    "- Also the end condition is figured out based on twice of the original number plus mod so that it runs for all rows.\n",
    "\n",
    "***First Iteration:***\n",
    "- The first iteration of this code will start from 0.\n",
    "- s will be 2 * 0 = 1\n",
    "- Now inner loop will run from 1.\n",
    "- It will check if 1 is even or ***1 % 2 == 0*** since it will be false, 1 will be printed.\n",
    "- In case val is even it will increment to make it odd.\n",
    "- Like this j will proceed and print the pattern."
   ]
  },
  {
   "cell_type": "code",
   "execution_count": null,
   "metadata": {
    "colab": {
     "base_uri": "https://localhost:8080/"
    },
    "id": "R1JSIgHRryPj",
    "outputId": "a634e6d0-8556-4d84-bb1d-fa5e6d74ce70"
   },
   "outputs": [
    {
     "name": "stdout",
     "output_type": "stream",
     "text": [
      "Enter Number of Rows: 6\n",
      "\n",
      "1 3 5 7 9 11 \n",
      "3 5 7 9 11 1 \n",
      "5 7 9 11 1 3 \n",
      "7 9 11 1 3 5 \n",
      "9 11 1 3 5 7 \n",
      "11 1 3 5 7 9 \n"
     ]
    }
   ],
   "source": [
    "# Number of Rows\n",
    "r = int(input(\"Enter Number of Rows: \"))\n",
    "\n",
    "# Calculatin Mod\n",
    "mod = 2 * r\n",
    "\n",
    "print()\n",
    "\n",
    "# Loop to Print Pattern\n",
    "for i in range(0 , r):\n",
    "\n",
    "    s = 2 * i\n",
    "\n",
    "    for j in range(s , mod + 2 * i, 2):\n",
    "\n",
    "        val = j % mod\n",
    "\n",
    "        if val % 2 == 0:\n",
    "            val = val + 1\n",
    "\n",
    "        print(val  , end=\" \")\n",
    "\n",
    "    print()"
   ]
  },
  {
   "cell_type": "markdown",
   "metadata": {
    "id": "tiymthvDvAwu"
   },
   "source": [
    "**Third Approach:**\n",
    "- We will take two loops and then print the Pattern.\n",
    "- The difference here is that we are going to take the step size 2 in the inner loop.\n",
    "- To understand it just look at the pattern it is having a difference of 2 so instead of using any formula we will directly give start and end range and it will print the pattern.\n",
    "- The modulus logic is same as above.\n",
    "- To calculate start range we are using ***2 * i + 1***. The reason behind this is that the loop should begin with the correct number and that is also twice of original and it will be the required number.\n",
    "- This ensures that loop starts with next number in the sequence.\n",
    "- Also the end condition is figured out based on twice of the original number plus mod so that it runs for all rows.\n",
    "\n",
    "***First Iteration:***\n",
    "- The first iteration of this code will start from 0.\n",
    "- s will be 2 * 0 + 1 = 1\n",
    "- Now inner loop will run from 1.\n",
    "- Now here it will directly print odd number as start is from odd number.\n",
    "- We just need to use modulus so that it is cyclic.\n",
    "- Like this j will proceed and print the pattern."
   ]
  },
  {
   "cell_type": "code",
   "execution_count": null,
   "metadata": {
    "colab": {
     "base_uri": "https://localhost:8080/"
    },
    "id": "FHTsX5ontS0H",
    "outputId": "48187529-4160-452b-9d07-cc5e65f9c6e5"
   },
   "outputs": [
    {
     "name": "stdout",
     "output_type": "stream",
     "text": [
      "Enter Number of Rows: 4\n",
      "\n",
      "1 3 5 7 \n",
      "3 5 7 1 \n",
      "5 7 1 3 \n",
      "7 1 3 5 \n"
     ]
    }
   ],
   "source": [
    "# Number of Rows\n",
    "r = int(input(\"Enter Number of Rows: \"))\n",
    "\n",
    "# Calculatin Mod\n",
    "mod = 2 * r\n",
    "\n",
    "print()\n",
    "\n",
    "# Loop to Print Pattern\n",
    "for i in range(0 , r):\n",
    "\n",
    "    s = 2 * i + 1\n",
    "\n",
    "    for j in range(s , mod + 2 * i, 2):\n",
    "\n",
    "        val = j % mod\n",
    "\n",
    "        print(val  , end=\" \")\n",
    "\n",
    "    print()"
   ]
  },
  {
   "cell_type": "markdown",
   "metadata": {
    "id": "xcBG7C2j6LJR"
   },
   "source": [
    "**Fourth Approach:**\n",
    "- We will take one list to store sequence and then print the Pattern.\n",
    "- After this we will simply traverse the list and print the sequence.\n",
    "- To ensure cyclic pattern we are using modulus.\n",
    "- The logic for modulus is also same.\n",
    "\n",
    "***First Iteration:***\n",
    "- The first iteration of this code will start from 0.\n",
    "- It will go on till r and add sequence in list.\n",
    "- After this we will traverse the list and for cyclic property use modulus of r.\n",
    "- This will the desired pattern.\n",
    "- This can also be used to print the list element cyclic."
   ]
  },
  {
   "cell_type": "code",
   "execution_count": null,
   "metadata": {
    "colab": {
     "base_uri": "https://localhost:8080/"
    },
    "id": "B0C5SAdzvhat",
    "outputId": "b9798b32-e403-4379-a47f-3bfbed096c64"
   },
   "outputs": [
    {
     "name": "stdout",
     "output_type": "stream",
     "text": [
      "Enter Number of Rows: 13\n",
      "\n",
      "1 3 5 7 9 11 13 15 17 19 21 23 25 \n",
      "3 5 7 9 11 13 15 17 19 21 23 25 1 \n",
      "5 7 9 11 13 15 17 19 21 23 25 1 3 \n",
      "7 9 11 13 15 17 19 21 23 25 1 3 5 \n",
      "9 11 13 15 17 19 21 23 25 1 3 5 7 \n",
      "11 13 15 17 19 21 23 25 1 3 5 7 9 \n",
      "13 15 17 19 21 23 25 1 3 5 7 9 11 \n",
      "15 17 19 21 23 25 1 3 5 7 9 11 13 \n",
      "17 19 21 23 25 1 3 5 7 9 11 13 15 \n",
      "19 21 23 25 1 3 5 7 9 11 13 15 17 \n",
      "21 23 25 1 3 5 7 9 11 13 15 17 19 \n",
      "23 25 1 3 5 7 9 11 13 15 17 19 21 \n",
      "25 1 3 5 7 9 11 13 15 17 19 21 23 \n"
     ]
    }
   ],
   "source": [
    "# Number of Rows\n",
    "r = int(input(\"Enter Number of Rows: \"))\n",
    "\n",
    "# Calculatin Mod\n",
    "mod = 2 * r\n",
    "\n",
    "print()\n",
    "\n",
    "# List to Store Numbers\n",
    "lst = []\n",
    "\n",
    "# Storing Numbers in list\n",
    "for i in range(0 , r):\n",
    "\n",
    "    # Calculating next number in sequence\n",
    "    ele = 2 * i + 1\n",
    "\n",
    "    # Adding Element in list\n",
    "    lst.append(ele)\n",
    "\n",
    "# Traversing List and Printing Elements\n",
    "for i in range(0, r):\n",
    "\n",
    "    for j in range(i, r + i):\n",
    "\n",
    "        ind = j % r\n",
    "\n",
    "        print(lst[ind], end = \" \")\n",
    "\n",
    "    print()"
   ]
  },
  {
   "cell_type": "markdown",
   "metadata": {
    "id": "zydkif4tP1hg"
   },
   "source": [
    "# Question 11\n",
    "\n",
    "## **Alternating Number Pattern**\n",
    "\n",
    "- Generate a descending pattern of alternating numbers (1 and 0) based on the specified number of rows (r).\n",
    "- Start with the number 1 and repeat it in each row until reaching the specified number of rows.\n",
    "- Alternate to the number 0 in the next row and continue this alternating pattern until reaching a single number in the last row.\n",
    "\n",
    "```\n",
    "Input: 5\n",
    "Output:\n",
    "1 1 1 1 1\n",
    "0 0 0 0\n",
    "1 1 1\n",
    "0 0\n",
    "1\n",
    "```"
   ]
  },
  {
   "cell_type": "code",
   "execution_count": null,
   "metadata": {
    "colab": {
     "base_uri": "https://localhost:8080/"
    },
    "id": "yOC6DG7P6XKS",
    "outputId": "b5f9f4d0-62d8-4958-d0dc-43f97eab8263"
   },
   "outputs": [
    {
     "name": "stdout",
     "output_type": "stream",
     "text": [
      "Enter Number of Rows: 5\n",
      "\n",
      "1 1 1 1 1 \n",
      "0 0 0 0 \n",
      "1 1 1 \n",
      "0 0 \n",
      "1 \n"
     ]
    }
   ],
   "source": [
    "# Number of Rows\n",
    "r = int(input(\"Enter Number of Rows: \"))\n",
    "\n",
    "# For Newline\n",
    "print()\n",
    "\n",
    "# Printing Pattern\n",
    "for i in range(r, 0, -1):\n",
    "\n",
    "  if i % 2 == 0:\n",
    "\n",
    "    print('0 ' * i)\n",
    "\n",
    "  else:\n",
    "\n",
    "    print('1 ' * i)"
   ]
  },
  {
   "cell_type": "markdown",
   "metadata": {
    "id": "7I9T-HpaS0ay"
   },
   "source": [
    "# Question 12\n",
    "\n",
    "## **Increasing Letter Pattern**\n",
    "\n",
    "- Start with the letter 'A'.\n",
    "- Repeat the letter in each row until reaching the specified number of rows (r).\n",
    "- Increase the letter by one in the next row.\n",
    "Continue this pattern, increasing the letter in each subsequent row.\n",
    "\n",
    "```\n",
    "Input: 5\n",
    "Output:\n",
    "A\n",
    "B B\n",
    "C C C\n",
    "D D D D\n",
    "E E E E E\n",
    "```"
   ]
  },
  {
   "cell_type": "code",
   "execution_count": null,
   "metadata": {
    "colab": {
     "base_uri": "https://localhost:8080/"
    },
    "id": "CBdozkAPSIV8",
    "outputId": "37380ce6-77a8-43d1-ad80-59ffd3ebc6e0"
   },
   "outputs": [
    {
     "name": "stdout",
     "output_type": "stream",
     "text": [
      "Enter Number of Rows: 5\n",
      "\n",
      "A\n",
      "BB\n",
      "CCC\n",
      "DDDD\n",
      "EEEEE\n"
     ]
    }
   ],
   "source": [
    "# Number of Rows\n",
    "r = int(input(\"Enter Number of Rows: \"))\n",
    "\n",
    "# For Newline\n",
    "print()\n",
    "\n",
    "# Start Character\n",
    "start = ord('A')\n",
    "\n",
    "# Ending Character\n",
    "end = start + r\n",
    "\n",
    "# Printing Pattern\n",
    "for i in range(start, end):\n",
    "\n",
    "  print(chr(i) * (i+1 - 65))"
   ]
  },
  {
   "cell_type": "markdown",
   "metadata": {
    "id": "9Os2HVvSU_nw"
   },
   "source": [
    "# Question 13\n",
    "\n",
    "## **Reverse Alphabet Pyramid**\n",
    "\n",
    "- Start with the letter 'E'.\n",
    "- Repeat the letter in each row until reaching the specified number of rows (r).\n",
    "- Decrease the letter by one in the next row.\n",
    "- Continue this pattern, decreasing the letter in each subsequent row.\n",
    "\n",
    "```\n",
    "Input: 5\n",
    "Output:\n",
    "E\n",
    "D E\n",
    "C D E\n",
    "B C D E\n",
    "A B C D E\n",
    "```"
   ]
  },
  {
   "cell_type": "code",
   "execution_count": null,
   "metadata": {
    "colab": {
     "base_uri": "https://localhost:8080/"
    },
    "id": "WgzjDlQUUNLo",
    "outputId": "e2bb5004-148b-4c0b-d352-0bf17f649714"
   },
   "outputs": [
    {
     "name": "stdout",
     "output_type": "stream",
     "text": [
      "Enter Number of Rows: 5\n",
      "\n",
      "E \n",
      "D E \n",
      "C D E \n",
      "B C D E \n",
      "A B C D E \n"
     ]
    }
   ],
   "source": [
    "# Number of Rows\n",
    "r = int(input(\"Enter Number of Rows: \"))\n",
    "\n",
    "# For Newline\n",
    "print()\n",
    "\n",
    "# Start Character\n",
    "# ord gives ascii value\n",
    "end = ord('A')\n",
    "\n",
    "# Ending Character\n",
    "start = end + r - 1\n",
    "\n",
    "# Printing Pattern\n",
    "for i in range(start, end - 1, -1):\n",
    "\n",
    "  for j in range(i - 65, r):\n",
    "\n",
    "    # chr converts ascii value to character\n",
    "    # 65 is added so that it prints value between start and end\n",
    "    print(chr(65+ j), end = \" \")\n",
    "\n",
    "  print()"
   ]
  },
  {
   "cell_type": "markdown",
   "metadata": {
    "id": "olwcgIVVjlmD"
   },
   "source": [
    "# Question 14\n",
    "\n",
    "## **Alphabetic Descending Pattern**\n",
    "\n",
    "- In this pattern, we start with the letter 'A' at the top. Each row repeats the current letter until the specified number of rows (input as 'r') is reached.\n",
    "- In the next row, the letter decreases by one, and this pattern continues.\n",
    "- The output forms a pyramid shape with the alphabet letters, gradually decreasing in each row.\n",
    "\n",
    "```\n",
    "Input: 4\n",
    "Output:\n",
    "A B C D D C B A\n",
    "A B C C B A\n",
    "A B B A\n",
    "A A\n",
    "```"
   ]
  },
  {
   "cell_type": "code",
   "execution_count": null,
   "metadata": {
    "colab": {
     "base_uri": "https://localhost:8080/"
    },
    "id": "5Nl5bll7jnp9",
    "outputId": "199c42c1-a2ad-40b5-f3e5-5f759e8dbf17"
   },
   "outputs": [
    {
     "name": "stdout",
     "output_type": "stream",
     "text": [
      "Enter Number of Rows: 4\n",
      "\n",
      "A B C D D C B A \n",
      "A B C C B A \n",
      "A B B A \n",
      "A A \n"
     ]
    }
   ],
   "source": [
    "# Number of Rows\n",
    "r = int(input(\"Enter Number of Rows: \"))\n",
    "\n",
    "# For Newline\n",
    "print()\n",
    "\n",
    "# Printing Pattern\n",
    "for i in range(r, 0 ,-1):\n",
    "\n",
    "  mid = 2 * i // 2\n",
    "\n",
    "  for j in range(2*i):\n",
    "\n",
    "    if j < mid:\n",
    "      print(chr(j + 65), end = \" \")\n",
    "\n",
    "    else:\n",
    "      print(chr(2 * mid - j + 64), end = \" \")\n",
    "\n",
    "  print()"
   ]
  },
  {
   "cell_type": "markdown",
   "metadata": {
    "id": "tGwDVMpEq4Fv"
   },
   "source": [
    "## **Printing Pattern With Space**\n",
    "\n",
    "- Now we will print the same pattern but with spaces in the middle.\n",
    "- We will simply print space in the middle using mid variable.\n",
    "- Rest of the logic is same."
   ]
  },
  {
   "cell_type": "code",
   "execution_count": null,
   "metadata": {
    "colab": {
     "base_uri": "https://localhost:8080/"
    },
    "id": "9DAeZYY6n_go",
    "outputId": "dd52d0d6-5e76-49e3-f330-e3b303ae80e8"
   },
   "outputs": [
    {
     "name": "stdout",
     "output_type": "stream",
     "text": [
      "Enter Number of Rows: 5\n",
      "\n",
      "A B C D E E D C B A \n",
      "A B C D     D C B A \n",
      "A B C         C B A \n",
      "A B             B A \n",
      "A                 A \n"
     ]
    }
   ],
   "source": [
    "# Number of Rows\n",
    "r = int(input(\"Enter Number of Rows: \"))\n",
    "\n",
    "# For Newline\n",
    "print()\n",
    "\n",
    "# Printing Pattern\n",
    "for i in range(r, 0 ,-1):\n",
    "\n",
    "  mid = 2 * i // 2\n",
    "\n",
    "  for j in range(2*i):\n",
    "\n",
    "    if j < mid:\n",
    "      print(chr(j + 65), end = \" \")\n",
    "\n",
    "    elif j == mid:\n",
    "\n",
    "      # This is to add space\n",
    "      # 2 * r gives the overall range, subtracting mid from it gives the difference i.e r\n",
    "      # Now Since it is in reverse we directly subtract i from it\n",
    "\n",
    "      print(\" \" * (2 * (2 * r - mid - i)), end = \"\")\n",
    "\n",
    "      # Printing Character\n",
    "      print(chr(2 * mid - j + 64), end = \" \")\n",
    "\n",
    "    else:\n",
    "      print(chr(2 * mid - j + 64), end = \" \")\n",
    "\n",
    "  print()"
   ]
  },
  {
   "cell_type": "markdown",
   "metadata": {
    "id": "BcJWLQu87Hqc"
   },
   "source": [
    "# Question 15\n",
    "\n",
    "## **Number Descending Pattern**\n",
    "\n",
    "- The given task involves creating a descending number pattern. The pattern begins with the input number (in this case, 5) and gradually decreases in each row.\n",
    "- The first row consists of the input number repeated five times, and in subsequent rows, the pattern includes one less number from the input in each successive position.\n",
    "\n",
    "```\n",
    "Input: 5\n",
    "Output:\n",
    "5 5 5 5 5\n",
    "4 5 5 5 5\n",
    "3 4 5 5 5\n",
    "2 3 4 5 5\n",
    "1 2 3 4 5\n",
    "```"
   ]
  },
  {
   "cell_type": "code",
   "execution_count": null,
   "metadata": {
    "colab": {
     "base_uri": "https://localhost:8080/"
    },
    "id": "zcy_ICswo24G",
    "outputId": "abd9dea9-bd64-4563-e0b2-59101be0740b"
   },
   "outputs": [
    {
     "name": "stdout",
     "output_type": "stream",
     "text": [
      "\n",
      "5 5 5 5 5  \n",
      "4 5 5 5 5  \n",
      "3 4 5 5 5  \n",
      "2 3 4 5 5  \n",
      "1 2 3 4 5  \n"
     ]
    }
   ],
   "source": [
    "# Number of Rows\n",
    "# r = int(input(\"Enter Number of Rows: \"))\n",
    "\n",
    "r = 5\n",
    "\n",
    "# For Newline\n",
    "print()\n",
    "\n",
    "# Printing Pattern\n",
    "for i in range(r):\n",
    "\n",
    "  for j in range(r - i, r):\n",
    "\n",
    "    print(j , end = \" \")\n",
    "\n",
    "  print((str(r) +  \" \") * (r - i), end = \" \")\n",
    "\n",
    "  print()"
   ]
  },
  {
   "cell_type": "markdown",
   "metadata": {
    "id": "iUrFxxlYEZ41"
   },
   "source": [
    "## **Printing using reverse outer loop**"
   ]
  },
  {
   "cell_type": "code",
   "execution_count": null,
   "metadata": {
    "colab": {
     "base_uri": "https://localhost:8080/"
    },
    "id": "d5Rpl0p0COe-",
    "outputId": "353960fa-472f-48b9-b2f2-873c7e5f6f8c"
   },
   "outputs": [
    {
     "name": "stdout",
     "output_type": "stream",
     "text": [
      "Enter Number of Rows: 5\n",
      "\n",
      "5 5 5 5 5  \n",
      "4 5 5 5 5  \n",
      "3 4 5 5 5  \n",
      "2 3 4 5 5  \n",
      "1 2 3 4 5  \n"
     ]
    }
   ],
   "source": [
    "# Number of Rows\n",
    "r = int(input(\"Enter Number of Rows: \"))\n",
    "\n",
    "# For Newline\n",
    "print()\n",
    "\n",
    "# Printing Pattern\n",
    "for i in range(r, 0 , -1):\n",
    "\n",
    "  for j in range(i, r + 1):\n",
    "\n",
    "    print(j, end = \" \")\n",
    "\n",
    "  print((str(r) +  \" \") * (i - 1), end = \" \")\n",
    "\n",
    "  print()"
   ]
  },
  {
   "cell_type": "markdown",
   "metadata": {
    "id": "FCAzfK4gE-qA"
   },
   "source": [
    "## **Printing Same Pattern in Reverse**"
   ]
  },
  {
   "cell_type": "code",
   "execution_count": null,
   "metadata": {
    "colab": {
     "base_uri": "https://localhost:8080/"
    },
    "id": "JhiD9cSvD8ix",
    "outputId": "87104d63-0702-482b-9ad2-6ef28a0e5c8c"
   },
   "outputs": [
    {
     "name": "stdout",
     "output_type": "stream",
     "text": [
      "Enter Number of Rows: 7\n",
      "\n",
      "7 7 7 7 7 7 7  \n",
      "1 7 7 7 7 7 7  \n",
      "1 2 7 7 7 7 7  \n",
      "1 2 3 7 7 7 7  \n",
      "1 2 3 4 7 7 7  \n",
      "1 2 3 4 5 7 7  \n",
      "1 2 3 4 5 6 7  \n"
     ]
    }
   ],
   "source": [
    "# Number of Rows\n",
    "r = int(input(\"Enter Number of Rows: \"))\n",
    "\n",
    "# For Newline\n",
    "print()\n",
    "\n",
    "# Printing Pattern\n",
    "for i in range(r):\n",
    "\n",
    "  for j in range(i):\n",
    "\n",
    "    print(j + 1 , end = \" \")\n",
    "\n",
    "  print((str(r) +  \" \") * (r - i), end = \" \")\n",
    "\n",
    "  print()"
   ]
  },
  {
   "cell_type": "markdown",
   "metadata": {
    "id": "vM1K7glpefHF"
   },
   "source": [
    "# Question 16\n",
    "\n",
    "## **Decendo-Pyramid Pattern:**\n",
    "\n",
    "1. **Base Element (Row 1):** The pattern starts with the input number (5) at the center, forming the base with a single element, 0.\n",
    "\n",
    "2. **Symmetric Descent (Rows 2 and Beyond):** Each subsequent row symmetrically adds decreasing numbers on both sides of the center, creating a visually appealing descent. For example, the second row is 1 0 1, the third row is 2 1 0 1 2, and so on.\n",
    "\n",
    "3. **Structured Descending Array:** The output represents a structured descending array of numbers, forming a pyramid-like shape. This Descendo-Pyramid Pattern showcases a systematic arrangement with decreasing values, providing a visually captivating design.\n",
    "\n",
    "```\n",
    "Input: 4\n",
    "Output:\n",
    "0\n",
    "1 0 1\n",
    "2 1 0 1 2\n",
    "3 2 1 0 1 2 3\n",
    "```"
   ]
  },
  {
   "cell_type": "code",
   "execution_count": null,
   "metadata": {
    "colab": {
     "base_uri": "https://localhost:8080/"
    },
    "id": "PHMrX7VNGz2r",
    "outputId": "69cfe808-2236-440c-ffc4-bb96e59b0491"
   },
   "outputs": [
    {
     "name": "stdout",
     "output_type": "stream",
     "text": [
      "Enter Number of Rows: 7\n",
      "\n",
      "0 \n",
      "1 0 1 \n",
      "2 1 0 1 2 \n",
      "3 2 1 0 1 2 3 \n",
      "4 3 2 1 0 1 2 3 4 \n",
      "5 4 3 2 1 0 1 2 3 4 5 \n",
      "6 5 4 3 2 1 0 1 2 3 4 5 6 \n"
     ]
    }
   ],
   "source": [
    "# Number of Rows\n",
    "r = int(input(\"Enter Number of Rows: \"))\n",
    "\n",
    "# For Newline\n",
    "print()\n",
    "\n",
    "# Printing Pattern\n",
    "for i in range(r):\n",
    "\n",
    "  # For Decreasing Pattern\n",
    "  for j in range(i, 0, -1):\n",
    "\n",
    "    print(j, end = \" \")\n",
    "\n",
    "  # Increasing Pattern\n",
    "  for j in range(i + 1):\n",
    "\n",
    "    print(j, end = \" \")\n",
    "\n",
    "  print()"
   ]
  },
  {
   "cell_type": "markdown",
   "metadata": {
    "id": "g6QL79ibkWxE"
   },
   "source": [
    "## **Printing Pattern with Spaces**"
   ]
  },
  {
   "cell_type": "code",
   "execution_count": null,
   "metadata": {
    "colab": {
     "base_uri": "https://localhost:8080/"
    },
    "id": "b_tAdxoXjp6T",
    "outputId": "863d3dbb-3d3e-4047-96af-48ed5410f363"
   },
   "outputs": [
    {
     "name": "stdout",
     "output_type": "stream",
     "text": [
      "Enter Number of Rows: 6\n",
      "\n",
      "          0 \n",
      "        1 0 1 \n",
      "      2 1 0 1 2 \n",
      "    3 2 1 0 1 2 3 \n",
      "  4 3 2 1 0 1 2 3 4 \n",
      "5 4 3 2 1 0 1 2 3 4 5 \n"
     ]
    }
   ],
   "source": [
    "# Number of Rows\n",
    "r = int(input(\"Enter Number of Rows: \"))\n",
    "\n",
    "# For Newline\n",
    "print()\n",
    "\n",
    "# Printing Pattern\n",
    "for i in range(r):\n",
    "\n",
    "  # Adding Spaces\n",
    "  print(\"  \" * (r - i - 1), end = \"\")\n",
    "\n",
    "  # For Decreasing Pattern\n",
    "  for j in range(i, 0, -1):\n",
    "\n",
    "    print(j, end = \" \")\n",
    "\n",
    "  # Increasing Pattern\n",
    "  for j in range(i + 1):\n",
    "\n",
    "    print(j, end = \" \")\n",
    "\n",
    "  print()"
   ]
  },
  {
   "cell_type": "markdown",
   "metadata": {
    "id": "bHj5BJ_OlcLR"
   },
   "source": [
    "# Question 16\n",
    "\n",
    "## **Decendo-Pyramid Pattern:**\n",
    "\n",
    "1. **Base Element (Row 1):** The pattern starts with the input number (5) at the center, forming the base with a single element, 0.\n",
    "\n",
    "2. **Symmetric Descent (Rows 2 and Beyond):** Each subsequent row symmetrically adds decreasing numbers on both sides of the center, creating a visually appealing descent. For example, the second row is 1 0 1, the third row is 2 1 0 1 2, and so on.\n",
    "\n",
    "3. **Structured Descending Array:** The output represents a structured descending array of numbers, forming a pyramid-like shape. This Descendo-Pyramid Pattern showcases a systematic arrangement with decreasing values, providing a visually captivating design.\n",
    "\n",
    "```\n",
    "Input: 5\n",
    "Output:\n",
    "*\n",
    "* * *\n",
    "* * * * *\n",
    "* * *\n",
    "*\n",
    "```"
   ]
  },
  {
   "cell_type": "code",
   "execution_count": null,
   "metadata": {
    "colab": {
     "base_uri": "https://localhost:8080/"
    },
    "id": "GRu0ZGNkkkUh",
    "outputId": "9ab03835-0e25-4357-fc30-c864fb775540"
   },
   "outputs": [
    {
     "name": "stdout",
     "output_type": "stream",
     "text": [
      "Enter Number of Rows: 7\n",
      "\n",
      "* \n",
      "* * * \n",
      "* * * * * \n",
      "* * * * * * * \n",
      "* * * * * \n",
      "* * * \n",
      "* \n"
     ]
    }
   ],
   "source": [
    "# Number of Rows\n",
    "r = int(input(\"Enter Number of Rows: \"))\n",
    "\n",
    "# For Newline\n",
    "print()\n",
    "\n",
    "# Printing Pattern\n",
    "for i in range(r):\n",
    "\n",
    "  if i <= r//2:\n",
    "\n",
    "    val = 2 * i + 1\n",
    "\n",
    "  else:\n",
    "\n",
    "    val = 2 * (r - i) - 1\n",
    "  print(\"* \" * val)"
   ]
  },
  {
   "cell_type": "markdown",
   "metadata": {
    "id": "siV0t4w9xAIX"
   },
   "source": [
    "## **Same Pattern with Increasing and Decreasing Numbers**\n",
    "\n",
    "```\n",
    "Input: 7\n",
    "Output:\n",
    "*\n",
    "* *\n",
    "* * *\n",
    "* * * *\n",
    "* * *\n",
    "* *\n",
    "*\n",
    "```"
   ]
  },
  {
   "cell_type": "code",
   "execution_count": null,
   "metadata": {
    "colab": {
     "base_uri": "https://localhost:8080/"
    },
    "id": "mxBC46Sav5Jp",
    "outputId": "f57d9c44-2c84-4844-e75f-94652ec76c9f"
   },
   "outputs": [
    {
     "name": "stdout",
     "output_type": "stream",
     "text": [
      "\n",
      "* \n",
      "* * \n",
      "* * * \n",
      "* * * * \n",
      "* * * \n",
      "* * \n",
      "* \n"
     ]
    }
   ],
   "source": [
    "# Number of Rows\n",
    "# r = int(input(\"Enter Number of Rows: \"))\n",
    "\n",
    "r = 7\n",
    "\n",
    "# For Newline\n",
    "print()\n",
    "\n",
    "# Printing Pattern\n",
    "for i in range(r):\n",
    "\n",
    "  if i <= r//2:\n",
    "\n",
    "    val = i + 1\n",
    "\n",
    "  else:\n",
    "\n",
    "    val = r - i\n",
    "\n",
    "  print(\"* \" * val)"
   ]
  },
  {
   "cell_type": "markdown",
   "metadata": {
    "id": "KSxwpv1H0CKt"
   },
   "source": [
    "## **Printing Same Pattern in Opposite Side**\n",
    "\n",
    "```\n",
    "Input: 7\n",
    "Output:\n",
    "      *\n",
    "    * *\n",
    "  * * *\n",
    "* * * *\n",
    "  * * *\n",
    "    * *\n",
    "      *\n",
    "```"
   ]
  },
  {
   "cell_type": "code",
   "execution_count": null,
   "metadata": {
    "colab": {
     "base_uri": "https://localhost:8080/"
    },
    "id": "INykXHFZwrWM",
    "outputId": "1fc87e05-944d-4815-a075-9ba798ab8325"
   },
   "outputs": [
    {
     "name": "stdout",
     "output_type": "stream",
     "text": [
      "Enter Number of Rows: 7\n",
      "\n",
      "              * \n",
      "            * * \n",
      "          * * * \n",
      "        * * * * \n",
      "          * * * \n",
      "            * * \n",
      "              * \n"
     ]
    }
   ],
   "source": [
    "# Number of Rows\n",
    "r = int(input(\"Enter Number of Rows: \"))\n",
    "\n",
    "# For Newline\n",
    "print()\n",
    "\n",
    "# Printing Pattern\n",
    "for i in range(r):\n",
    "\n",
    "  if i <= r//2:\n",
    "\n",
    "    print(\"  \" * (r - i), end = \"\")\n",
    "\n",
    "    val = i + 1\n",
    "\n",
    "  else:\n",
    "\n",
    "    print(\"  \" * (i + 1), end = \"\")\n",
    "\n",
    "    val = r - i\n",
    "\n",
    "  print(\"* \" * val, end = \"\")\n",
    "\n",
    "  print()"
   ]
  },
  {
   "cell_type": "markdown",
   "metadata": {
    "id": "ntXpEKfNQ75n"
   },
   "source": [
    "# Question 17\n",
    "\n",
    "## **Square Spiral Pattern:**\n",
    "\n",
    "1. **Spiral Order Placement:** The numbers are arranged in a spiral order within a square matrix, starting from the top-left corner and moving towards the center. This placement creates a visually engaging pattern that follows the flow of a spiral.\n",
    "\n",
    "2. **Sequential Increment:** The values in the matrix are assigned in a sequential manner, increasing from the outer edges towards the center. This sequential increment contributes to the ordered and predictable nature of the pattern.\n",
    "\n",
    "3. **Cyclical Movement:** The arrangement of numbers exhibits a cyclical movement, circulating through rows and columns in a systematic way. This cyclical nature of the pattern adds a sense of symmetry and organization to the overall design.\n",
    "\n",
    "```\n",
    "Input: 4\n",
    "Output:\n",
    "1  2  3  4  \n",
    "9 10 11 12\n",
    "13 14 15 16\n",
    "5  6  7  8\n",
    "```"
   ]
  },
  {
   "cell_type": "code",
   "execution_count": null,
   "metadata": {
    "colab": {
     "base_uri": "https://localhost:8080/"
    },
    "id": "EekR3zkSyGKx",
    "outputId": "aeb1bf3b-17f5-4c29-cb63-664110dcbc84"
   },
   "outputs": [
    {
     "name": "stdout",
     "output_type": "stream",
     "text": [
      "Enter Number of Rows: 4\n",
      "\n",
      "1  2  3  4  \n",
      "9 10 11 12 \n",
      "13 14 15 16 \n",
      "5  6  7  8  \n"
     ]
    }
   ],
   "source": [
    "# Number of Rows\n",
    "r = int(input(\"Enter Number of Rows: \"))\n",
    "\n",
    "# For Newline\n",
    "print()\n",
    "\n",
    "# Counters for incrementing Pattern\n",
    "c1, c2 = 0, 0\n",
    "\n",
    "# Printing Pattern\n",
    "for i in range(0, r):\n",
    "\n",
    "    # This Loop will always run from 1 to r\n",
    "    # Used to generate a square pattern\n",
    "    for j in range(1, r+1):\n",
    "\n",
    "        # For First and Last Row\n",
    "        if i == 0 or i == r - 1:\n",
    "\n",
    "            # Adding Counter to j so that for the next iteration it will get incremented\n",
    "            print(j + c1, end=\"  \")\n",
    "\n",
    "            # Incrementing counter after first complete iteration\n",
    "            if j == r:\n",
    "\n",
    "                # It will be incremented with r steps\n",
    "                c1 = c1 + r\n",
    "\n",
    "        else:\n",
    "\n",
    "            # 2* r is added so that it begins with twice as much as r\n",
    "            # Because we have r elements in first row as well as in last row\n",
    "            # Thus the next starting point will be r + r or 2*r\n",
    "            print(j + 2 * r + c2, end = \" \")\n",
    "\n",
    "            # Incrementing counter after first complete iteration\n",
    "            if j == r:\n",
    "\n",
    "                # It will be incremented with r steps\n",
    "                c2 = c2 + r\n",
    "\n",
    "    # For new line after each iteration\n",
    "    print()"
   ]
  },
  {
   "cell_type": "markdown",
   "metadata": {
    "id": "QG2QyzHNU3pD"
   },
   "source": [
    "# Question 18\n",
    "\n",
    "## **Next Greater Element**\n",
    "\n",
    "You are given two. arrays\n",
    "(without duplicates) nums1 and\n",
    "nums2 where nums1's elements\n",
    "are subset of nums2. Find all the\n",
    "next greater numbers for\n",
    "nums1's elements in the\n",
    "corresponding places of nums2.\n",
    "The Next Greater Number of a\n",
    "number x in nums1 is the first\n",
    "greater number to its right in\n",
    "nums2. If it does not exist,\n",
    "output -1 for this number.\n",
    "```\n",
    "Input: nums1 = [4,1,2], nums2 =\n",
    "[1,3,4,2].\n",
    "\n",
    "Output: [-1,3,4]\n",
    "```\n"
   ]
  },
  {
   "cell_type": "code",
   "execution_count": null,
   "metadata": {
    "colab": {
     "base_uri": "https://localhost:8080/"
    },
    "id": "_N1wrp7KSD5t",
    "outputId": "e2a822d1-0c1b-4e6b-94c0-80f7c0544453"
   },
   "outputs": [
    {
     "name": "stdout",
     "output_type": "stream",
     "text": [
      "4 1 2\n",
      "1 3 4 2\n",
      "[-1, 3, 4]\n"
     ]
    }
   ],
   "source": [
    "# Declaring Two Arrays\n",
    "nums1, nums2 = [], []\n",
    "\n",
    "nums1_input = input()\n",
    "\n",
    "# Splitting the input string into a list of elements\n",
    "nums1 = [int(x) for x in nums1_input.split()]\n",
    "\n",
    "nums2_input = input()\n",
    "\n",
    "# Splitting the input string into a list of elements\n",
    "nums2 = [int(x) for x in nums2_input.split()]\n",
    "\n",
    "# Result Dictionary\n",
    "res = []\n",
    "\n",
    "# Looping throught nums1\n",
    "for i in range(len(nums1)):\n",
    "\n",
    "  # Comparing elements\n",
    "  if nums2[i] > nums1[i]:\n",
    "\n",
    "    # Append next greater element\n",
    "    res.append(nums2[i])\n",
    "\n",
    "  else:\n",
    "\n",
    "    # Appending -1 if no next greater element found\n",
    "    res.append(-1)\n",
    "\n",
    "print(res)"
   ]
  },
  {
   "cell_type": "markdown",
   "metadata": {
    "id": "IUQv_-2PaR7r"
   },
   "source": [
    "# Question 19\n",
    "\n",
    "## **Equal Contiguous Array**\n",
    "Given a binary array,\n",
    "find the maximum\n",
    "length of a contiguous\n",
    "Subarray with equal\n",
    "number of 0 and 1.\n",
    "```\n",
    "Input: [0,1]\n",
    "Output: 2\n",
    "```"
   ]
  },
  {
   "cell_type": "code",
   "execution_count": null,
   "metadata": {
    "colab": {
     "base_uri": "https://localhost:8080/"
    },
    "id": "YNEzfaFXV7PV",
    "outputId": "13589870-bc41-4851-ca3b-a60505c76974"
   },
   "outputs": [
    {
     "name": "stdout",
     "output_type": "stream",
     "text": [
      "0 1\n",
      "2\n"
     ]
    }
   ],
   "source": [
    "# Declaring Two Arrays\n",
    "nums = []\n",
    "\n",
    "nums_input = input()\n",
    "\n",
    "# Splitting the input string into a list of elements\n",
    "nums = [int(x) for x in nums_input.split()]\n",
    "\n",
    "# Maximum length of subarray\n",
    "max_len = 0\n",
    "\n",
    "# Finding Equal element contiguous array\n",
    "for i in range(len(nums)):\n",
    "\n",
    "  count_0, count_1 = 0, 0\n",
    "\n",
    "  for j in range(i+1):\n",
    "\n",
    "    if nums[j] == 0:\n",
    "      count_0 += 1\n",
    "\n",
    "    else:\n",
    "      count_1 += 1\n",
    "\n",
    "  if count_0 == count_1:\n",
    "\n",
    "    current_length = i + j\n",
    "\n",
    "    if current_length > max_len:\n",
    "\n",
    "      max_len = current_length\n",
    "\n",
    "print(max_len)"
   ]
  },
  {
   "cell_type": "markdown",
   "metadata": {
    "id": "iNkzgiP9g6C6"
   },
   "source": [
    "# Question 20\n",
    "\n",
    "## **Complex Number Multiplication**\n",
    "\n",
    "Given two strings\n",
    "representing two complex\n",
    "numbers.\n",
    "\n",
    "You need to return a string\n",
    "representing their\n",
    "multiplication. Note i2 = -1\n",
    "according to the definition.\n",
    "```\n",
    "Input: \"1 + 1i\", \"1 + 1i\"\n",
    "\n",
    "Output: \"0 + 2i\"\n",
    "```"
   ]
  },
  {
   "cell_type": "markdown",
   "metadata": {
    "id": "SqDfDmo7V7Za"
   },
   "source": [
    "The multiplication of two complex numbers \\(a + bi\\) and \\(c + di\\) is calculated as follows:\n",
    "\n",
    "```\n",
    "(a + bi) . (c + di) = (ac - bd) + (ad + bc)i\n",
    "\n",
    "So, the formula for multiplying two complex numbers (a + bi) and (c + di) is:\n",
    "\n",
    "((a . c) - (b . d)) + ((a . d) + (b . c))i\n",
    "```\n"
   ]
  },
  {
   "cell_type": "code",
   "execution_count": null,
   "metadata": {
    "colab": {
     "base_uri": "https://localhost:8080/"
    },
    "id": "_JpMxM9agOv0",
    "outputId": "2917bbf6-034e-4097-d74e-2aab243d55b2"
   },
   "outputs": [
    {
     "name": "stdout",
     "output_type": "stream",
     "text": [
      "1 + 1i\n",
      "1 + 1i\n",
      "0 + 2i\n"
     ]
    }
   ],
   "source": [
    "# First Number\n",
    "n1 = input()\n",
    "\n",
    "# Second Number\n",
    "n2 = input()\n",
    "\n",
    "# Splitting Numbers\n",
    "n1 = n1.split()\n",
    "n2 = n2.split()\n",
    "\n",
    "# Finding a, b , c and d from this\n",
    "\n",
    "# Real Part\n",
    "a = int(n1[0])\n",
    "\n",
    "# Imaginary Part\n",
    "b = int(n1[2].rstrip('i'))\n",
    "\n",
    "\n",
    "# Real Part\n",
    "c = int(n2[0])\n",
    "\n",
    "# Imaginary Part\n",
    "d = int(n2[2].rstrip('i'))\n",
    "\n",
    "# Multiplication using formula\n",
    "real_res = ((a * c) - (b * d))\n",
    "\n",
    "imag_res = ((a * d) + (b * c))\n",
    "\n",
    "res = str(real_res) + \" + \" + str(str(imag_res) + \"i\")\n",
    "\n",
    "print(res)"
   ]
  },
  {
   "cell_type": "markdown",
   "metadata": {
    "id": "EoaKHsxsCEb1"
   },
   "source": [
    "# Question 21\n",
    "## **Number Matrix**\n",
    "\n",
    "Print this Pattern for r rows.\n",
    "\n",
    "```\n",
    "Input: 3\n",
    "Output:\n",
    "1 1\n",
    "2 2\n",
    "3\n",
    "2 2\n",
    "1 1\n",
    "```"
   ]
  },
  {
   "cell_type": "code",
   "execution_count": null,
   "metadata": {
    "colab": {
     "base_uri": "https://localhost:8080/"
    },
    "id": "9zsMKFytSfD7",
    "outputId": "515a0fe8-64ba-46de-ab14-ba15a0ef8eb6"
   },
   "outputs": [
    {
     "name": "stdout",
     "output_type": "stream",
     "text": [
      "Enter the number of Rows: 5\n",
      "\n",
      "1 1 1 1 \n",
      "2 2 2 2 \n",
      "3 3 3 3 \n",
      "4 4 4 4 \n",
      "5 \n",
      "4 4 4 4 \n",
      "3 3 3 3 \n",
      "2 2 2 2 \n",
      "1 1 1 1 \n"
     ]
    }
   ],
   "source": [
    "# Input\n",
    "r = int(input(\"Enter the number of Rows: \"))\n",
    "\n",
    "# For New Line\n",
    "print()\n",
    "\n",
    "# Ending Condition\n",
    "end = 2 * r - 1\n",
    "\n",
    "# Printing Pattern\n",
    "for i in range(end):\n",
    "\n",
    "    # This Loop will always run from 1 to r\n",
    "    # Used to generate a square pattern\n",
    "    for j in range(i, i + (r - 1)):\n",
    "\n",
    "        # For First and Last Row\n",
    "        if i == r - 1 and j == i:\n",
    "\n",
    "          print(r, end = \" \")\n",
    "          break\n",
    "\n",
    "        elif i < r:\n",
    "\n",
    "          print(i + 1, end = \" \")\n",
    "\n",
    "        else:\n",
    "\n",
    "          val = 2 * (i - r) + 1\n",
    "\n",
    "          print(i - val, end = \" \")\n",
    "\n",
    "    # For new line after each iteration\n",
    "    print()"
   ]
  },
  {
   "cell_type": "markdown",
   "metadata": {
    "id": "AOvj4gubGkUF"
   },
   "source": [
    "# Question 22\n",
    "## **Star Pattern**\n",
    "\n",
    "Print this Pattern for r rows.\n",
    "\n",
    "```\n",
    "Input: 3\n",
    "Output:\n",
    "* *\n",
    "* *\n",
    "* * *\n",
    "* *\n",
    "* *\n",
    "```"
   ]
  },
  {
   "cell_type": "code",
   "execution_count": null,
   "metadata": {
    "colab": {
     "base_uri": "https://localhost:8080/"
    },
    "id": "3RgaWA-WDP06",
    "outputId": "4bd27952-6d50-4724-bc17-270f4f480214"
   },
   "outputs": [
    {
     "name": "stdout",
     "output_type": "stream",
     "text": [
      "* * \n",
      "* * \n",
      "* * * \n",
      "* * \n",
      "* * \n"
     ]
    }
   ],
   "source": [
    "r = 3\n",
    "\n",
    "for i in range(r + r - 1):\n",
    "\n",
    "  if i == r - 1:\n",
    "    num = r\n",
    "\n",
    "  else:\n",
    "    num = r - 1\n",
    "\n",
    "  print(\"* \" * num)"
   ]
  },
  {
   "cell_type": "markdown",
   "metadata": {
    "id": "LZkIBHQtn10Y"
   },
   "source": [
    "# Question 23\n",
    "## **Numeric Encoding**\n",
    "\n",
    "We are given a hashmap\n",
    "which maps all the letters\n",
    "with number. Given 1 is\n",
    "mapped with A, 2 is\n",
    "mapped with B.....26 is\n",
    "mapped with Z. Given a\n",
    "\n",
    "number, you have to print\n",
    "all the possible strings.\n",
    "```\n",
    "Input: 123\n",
    "\n",
    "Output:\n",
    "ABC\n",
    "AW\n",
    "LC\n",
    "```"
   ]
  },
  {
   "cell_type": "code",
   "execution_count": null,
   "metadata": {
    "colab": {
     "base_uri": "https://localhost:8080/"
    },
    "id": "fq0vvT1eSE9L",
    "outputId": "bd26b80e-e325-4431-d4ba-0a00eef8b436"
   },
   "outputs": [
    {
     "name": "stdout",
     "output_type": "stream",
     "text": [
      "126\n"
     ]
    },
    {
     "data": {
      "text/plain": [
       "['ABF', 'AZ', 'LF']"
      ]
     },
     "execution_count": 7,
     "metadata": {},
     "output_type": "execute_result"
    }
   ],
   "source": [
    "# Making a has table to map alphabets to numbers using dictionary\n",
    "hash_map = {}\n",
    "\n",
    "# For Value of alphabet\n",
    "val = 1\n",
    "\n",
    "for i in range(ord('A') , ord('Z') + 1):\n",
    "\n",
    "  # Appending Number to dictionary\n",
    "  hash_map[chr(i)] = val\n",
    "\n",
    "  val += 1\n",
    "\n",
    "# Input\n",
    "input_str = input()\n",
    "\n",
    "# List to store satisfying strings\n",
    "result_string = []\n",
    "\n",
    "# Finding input in dictionary\n",
    "for i in hash_map:\n",
    "\n",
    "  # Checking if i is equal input string\n",
    "  if str(hash_map[i]) == input_str:\n",
    "\n",
    "    result_string.append(i)\n",
    "    break\n",
    "\n",
    "  # Checking if i is present in input string\n",
    "  # Only if it is present then we will loop through other combination else we will break\n",
    "  elif str(hash_map[i]) in input_str:\n",
    "\n",
    "    # Looping through all alphabets\n",
    "    for j in hash_map:\n",
    "\n",
    "      if str(hash_map[i]) + str(hash_map[j]) == input_str:\n",
    "\n",
    "          result_string.append(i + j)\n",
    "          break\n",
    "\n",
    "      elif str(hash_map[j]) in input_str:\n",
    "\n",
    "        # For Three possible combinations\n",
    "        for k in hash_map:\n",
    "\n",
    "          if str(hash_map[i]) + str(hash_map[j]) + str(hash_map[k]) == input_str:\n",
    "\n",
    "            result_string.append(i + j + k)\n",
    "            break\n",
    "\n",
    "result_string"
   ]
  },
  {
   "cell_type": "markdown",
   "metadata": {
    "id": "kX6Pn6HOsvcv"
   },
   "source": [
    "# Question 24\n",
    "## **Route Finder**\n",
    "\n",
    "## Problem Statement\n",
    "\n",
    "Your task is to find the $k$ shortest flight routes from Syrjälä to Metsälä. A route can visit the same city several times.\n",
    "Note that there can be several routes with the same price and each of them should be considered (see the example).\n",
    "\n",
    "### Input\n",
    "The first input line has three integers $n$, $m$, and $k$: the number of cities, the number of flights, and the parameter $k$. The cities are numbered $1,2,\\ldots,n$. City 1 is Syrjälä, and city $n$ is Metsälä.\n",
    "After this, the input has $m$ lines describing the flights. Each line has three integers $a$, $b$, and $c$: a flight begins at city $a$, ends at city $b$, and its price is $c$. All flights are one-way flights.\n",
    "\n",
    "You may assume that there are at least $k$ distinct routes from Syrjälä to Metsälä.\n",
    "\n",
    "### Output\n",
    "Print $k$ integers: the prices of the $k$ cheapest routes sorted according to their prices.\n",
    "\n",
    "### Constraints\n",
    "$$\n",
    "\\begin{align*}\n",
    "2 &\\leq n \\leq 10^5 \\\\\n",
    "1 &\\leq m \\leq 2 \\cdot 10^5 \\\\\n",
    "1 &\\leq a,b \\leq n \\\\\n",
    "1 &\\leq c \\leq 10^9 \\\\\n",
    "1 &\\leq k \\leq 10\n",
    "\\end{align*}\n",
    "$$\n",
    "\n",
    "### Example\n",
    "\n",
    "#### Input:\n",
    "4 6 3\\\n",
    "1 2 1\\\n",
    "1 3 3\\\n",
    "2 3 2\\\n",
    "2 4 6\\\n",
    "3 2 8\\\n",
    "3 4 1\n",
    "\n",
    "\n",
    "#### Output:\n",
    "4 4 7\n",
    "\n",
    "Explanation: The cheapest routes are $1 \\rightarrow 3 \\rightarrow 4$ (price 4), $1 \\rightarrow 2 \\rightarrow 3 \\rightarrow 4$ (price 4), and $1 \\rightarrow 2 \\rightarrow 4$ (price 7).\n"
   ]
  },
  {
   "cell_type": "code",
   "execution_count": 1,
   "metadata": {
    "colab": {
     "base_uri": "https://localhost:8080/"
    },
    "id": "sjYbGDOj5OaI",
    "outputId": "60ca2311-89c8-4ba4-b1a6-f0b666bdfcd7"
   },
   "outputs": [
    {
     "name": "stdout",
     "output_type": "stream",
     "text": [
      "4 4 7\n"
     ]
    }
   ],
   "source": [
    "'''\n",
    "\n",
    "Defining a Recursive Function for this Problem\n",
    "In this function we will iterate till k is 0 (Base Case of Recursion)\n",
    "k is decremented after each iteration\n",
    "The arguments of this function are:\n",
    "\n",
    "1. start city (start city where the function is starting)\n",
    "2. end_city (this is the ending city till where we have to reach)\n",
    "3. k is the number of possible solutions\n",
    "4. cost_so_far is the ppth the funtion has traversed so far (in between the calls till one complete iteration)\n",
    "This is done so that we can see the path travelled if we want\n",
    "5. current_cost is the current or the latest cost calculated by the function\n",
    "After each iteration, this is updated (we simply add the cost of the flight)\n",
    "\n",
    "'''\n",
    "\n",
    "def find_routes(start_city, current_city, end_city, k, cost_so_far, current_cost):\n",
    "\n",
    "    # Global so that this variables retain their value throughout recursion\n",
    "    global flights, cheapest_costs\n",
    "\n",
    "    # To check if we have reached end city\n",
    "    if current_city == end_city:\n",
    "\n",
    "        # adding cost to list as it implies we have found a path\n",
    "        cheapest_costs.append(current_cost)\n",
    "\n",
    "    # Base case\n",
    "    # This is simply checking if k is greater than 0 if it is not then this will terminate the function\n",
    "    if k > 0:\n",
    "\n",
    "        # Traversing all the neighbour city and the corresponding cost\n",
    "        for neighbor_city, cost in flights[current_city]:\n",
    "\n",
    "            # Calling the function to calculate for all possible cases till base case(k)\n",
    "            find_routes(start_city, neighbor_city, end_city, k - 1, cost_so_far + [neighbor_city], current_cost + cost)\n",
    "\n",
    "\n",
    "# Declaring Variables\n",
    "# This could be taken as input like this\n",
    "\n",
    "'''\n",
    "n, m, k = map(int, input(\"Enter the number of cities, flights, and k: \").split())\n",
    "\n",
    "flights_data = []\n",
    "\n",
    "for _ in range(m):\n",
    "\n",
    "    flight_input = input(\"Enter flight data (start_city end_city price): \")\n",
    "    flights_data.append(tuple(map(int, flight_input.split())))\n",
    "\n",
    "'''\n",
    "\n",
    "# Variables\n",
    "n, m, k = 4, 6, 3\n",
    "\n",
    "# Cost and Neighbouring cities\n",
    "flights_data = [\n",
    "    (1, 2, 1),\n",
    "    (1, 3, 3),\n",
    "    (2, 3, 2),\n",
    "    (2, 4, 6),\n",
    "    (3, 2, 8),\n",
    "    (3, 4, 1)\n",
    "]\n",
    "\n",
    "# This line initializes a list of lists named `flights` with `n + 1` empty lists,\n",
    "# each list representing the neighboring cities and their corresponding flight costs for each city.\n",
    "flights = [[] for _ in range(n + 1)]\n",
    "\n",
    "# Storing flight costs in flights list\n",
    "# Here the list corresponds to index of the city name\n",
    "# Like if we access flight[1] we will get city name and cost\n",
    "# flight[1] = [(2, 1), (3, 3)]\n",
    "# Since we do not have any city corresponding to 0 index it is empty\n",
    "for flight in flights_data:\n",
    "\n",
    "    # Storing a, b and c\n",
    "    a, b, c = flight\n",
    "    # This will append it as the corresponding index\n",
    "    flights[a].append((b, c))\n",
    "\n",
    "\n",
    "# Lists to store costs\n",
    "cheapest_costs = []\n",
    "\n",
    "# Calling function\n",
    "find_routes(1, 1, n, k, [], 0)\n",
    "\n",
    "# Sorting costs\n",
    "cheapest_costs.sort()\n",
    "\n",
    "# Printing the first k index\n",
    "print(*cheapest_costs[:k])"
   ]
  },
  {
   "cell_type": "markdown",
   "metadata": {
    "id": "V9LsNuSW3mjn"
   },
   "source": [
    "### Printing Path Along with Cost and with arrows showing Path"
   ]
  },
  {
   "cell_type": "code",
   "execution_count": 11,
   "metadata": {
    "colab": {
     "base_uri": "https://localhost:8080/"
    },
    "id": "CJt4wagy3l6w",
    "outputId": "cf84aef1-087e-4f9d-feaf-1e0699b5c04d"
   },
   "outputs": [
    {
     "name": "stdout",
     "output_type": "stream",
     "text": [
      "1 → 2 → 3 → 4 (price 4)\n",
      "1 → 3 → 4 (price 4)\n",
      "1 → 2 → 4 (price 7)\n"
     ]
    }
   ],
   "source": [
    "'''\n",
    "\n",
    "Defining a Recursive Function for this Problem\n",
    "In this function we will iterate till k is 0 (Base Case of Recursion)\n",
    "k is decremented after each iteration\n",
    "The arguments of this function are:\n",
    "\n",
    "1. start city (start city where the function is starting)\n",
    "2. end_city (this is the ending city till where we have to reach)\n",
    "3. k is the number of possible solutions\n",
    "4. cost_so_far is the ppth the funtion has traversed so far (in between the calls till one complete iteration)\n",
    "This is done so that we can see the path travelled if we want\n",
    "5. current_cost is the current or the latest cost calculated by the function\n",
    "After each iteration, this is updated (we simply add the cost of the flight)\n",
    "\n",
    "'''\n",
    "\n",
    "def find_routes(start_city, current_city, end_city, k, cost_so_far, current_cost):\n",
    "\n",
    "    # Global so that this variables retain their value throughout recursion\n",
    "    global flights, cheapest_costs\n",
    "\n",
    "    # To check if we have reached end city\n",
    "    if current_city == end_city:\n",
    "\n",
    "        # adding cost to list as it implies we have found a path\n",
    "        cheapest_costs.append((current_cost, cost_so_far))\n",
    "\n",
    "    # Base case\n",
    "    # This is simply checking if k is greater than 0 if it is not then this will terminate the function\n",
    "    if k > 0:\n",
    "\n",
    "        # Traversing all the neighbour city and the corresponding cost\n",
    "        for neighbor_city, cost in flights[current_city]:\n",
    "\n",
    "            # Calling the function to calculate for all possible cases till base case(k)\n",
    "            find_routes(start_city, neighbor_city, end_city, k - 1, cost_so_far + [neighbor_city], current_cost + cost)\n",
    "\n",
    "\n",
    "# Declaring Variables\n",
    "# This could be taken as input like this\n",
    "'''\n",
    "n, m, k = map(int, input(\"Enter the number of cities, flights, and k: \").split())\n",
    "\n",
    "flights_data = []\n",
    "\n",
    "for _ in range(m):\n",
    "\n",
    "    flight_input = input(\"Enter flight data (start_city end_city price): \")\n",
    "    flights_data.append(tuple(map(int, flight_input.split())))\n",
    "\n",
    "'''\n",
    "\n",
    "# Variables\n",
    "n, m, k = 4, 6, 3\n",
    "\n",
    "# Cost and Neighbouring cities\n",
    "flights_data = [\n",
    "    (1, 2, 1),\n",
    "    (1, 3, 3),\n",
    "    (2, 3, 2),\n",
    "    (2, 4, 6),\n",
    "    (3, 2, 8),\n",
    "    (3, 4, 1)\n",
    "]\n",
    "\n",
    "# This line initializes a list of lists named `flights` with `n + 1` empty lists,\n",
    "# each list representing the neighboring cities and their corresponding flight costs for each city.\n",
    "flights = [[] for _ in range(n + 1)]\n",
    "\n",
    "# Storing flight costs in flights list\n",
    "# Here the list corresponds to index of the city name\n",
    "# Like if we access flight[1] we will get city name and cost\n",
    "# flight[1] = [(2, 1), (3, 3)]\n",
    "# Since we do not have any city corresponding to 0 index it is empty\n",
    "for flight in flights_data:\n",
    "\n",
    "    # Storing a, b and c\n",
    "    a, b, c = flight\n",
    "    # This will append it as the corresponding index\n",
    "    flights[a].append((b, c))\n",
    "\n",
    "# Lists to store costs\n",
    "cheapest_costs = []\n",
    "\n",
    "# Calling function\n",
    "find_routes(1, 1, n, k, [], 0)\n",
    "\n",
    "# Sorting costs\n",
    "cheapest_costs.sort()\n",
    "\n",
    "# Printing the first k paths\n",
    "for cost in cheapest_costs[:k]:\n",
    "    path = ' → '.join(str(city) for city in [1] + cost[1])\n",
    "    print(f\"{path} (price {cost[0]})\")"
   ]
  },
  {
   "cell_type": "markdown",
   "metadata": {
    "id": "_eRN-Gsg4f1b"
   },
   "source": [
    "# Question 25\n",
    "## **Factorial Digit Explorer**\n",
    "\n",
    "<p>$n!$ means $n \\times (n - 1) \\times \\cdots \\times 3 \\times 2 \\times 1$.</p>\n",
    "<p>For example, $10! = 10 \\times 9 \\times \\cdots \\times 3 \\times 2 \\times 1 = 3628800$,<br>and the sum of the digits in the number $10!$ is $3 + 6 + 2 + 8 + 8 + 0 + 0 = 27$.</p>\n",
    "<p>Find the sum of the digits in the number $n!$ where $n$ can be as large as 100.</p>"
   ]
  },
  {
   "cell_type": "code",
   "execution_count": 8,
   "metadata": {
    "colab": {
     "base_uri": "https://localhost:8080/"
    },
    "id": "XA--AJGT35Rh",
    "outputId": "74763de9-2b42-4aa8-eb35-be5a5d6151e3"
   },
   "outputs": [
    {
     "name": "stdout",
     "output_type": "stream",
     "text": [
      "27\n"
     ]
    }
   ],
   "source": [
    "# n is the number for which factorial is found\n",
    "# n = int(input()) (To take input)\n",
    "n = 10\n",
    "\n",
    "# Factorial Variable\n",
    "factorial = 1\n",
    "\n",
    "# Calculating the factorial\n",
    "for i in range(1, n+1):\n",
    "\n",
    "    # Simply multiplying with the value\n",
    "    factorial *= i\n",
    "\n",
    "# This is simply done to avoid looping through digits of the factorial as it will cause complexity for bigger numbers\n",
    "\n",
    "# Converting Factorial to string\n",
    "string_number = str(factorial)\n",
    "\n",
    "# Mapping as Integer List\n",
    "integer_list = list(map(int, string_number))\n",
    "\n",
    "# Finding sum using sum function\n",
    "print(sum(integer_list))"
   ]
  },
  {
   "cell_type": "code",
   "execution_count": null,
   "metadata": {
    "id": "EFE6EQEp6Rd0"
   },
   "outputs": [],
   "source": []
  }
 ],
 "metadata": {
  "colab": {
   "provenance": []
  },
  "kernelspec": {
   "display_name": "Python 3 (ipykernel)",
   "language": "python",
   "name": "python3"
  },
  "language_info": {
   "codemirror_mode": {
    "name": "ipython",
    "version": 3
   },
   "file_extension": ".py",
   "mimetype": "text/x-python",
   "name": "python",
   "nbconvert_exporter": "python",
   "pygments_lexer": "ipython3",
   "version": "3.11.4"
  }
 },
 "nbformat": 4,
 "nbformat_minor": 1
}
