{
 "cells": [
  {
   "cell_type": "markdown",
   "id": "cc3cf823",
   "metadata": {},
   "source": [
    "### Pattern 1\n",
    "\n",
    "Given an integer n. You need to recreate the pattern given below for any value of N.\n",
    "\n",
    "Let's say for N = 5, the pattern should look like as below:\n",
    "\n",
    "```sh\n",
    "*****\n",
    "*****\n",
    "*****\n",
    "*****\n",
    "*****\n",
    "```\n",
    "\n",
    "Print the pattern in the function given to you."
   ]
  },
  {
   "cell_type": "code",
   "execution_count": null,
   "id": "c157e7df",
   "metadata": {},
   "outputs": [],
   "source": [
    "class Patterns:\n",
    "  def pattern1(self, n):\n",
    "    for _ in range(n):\n",
    "      print('*' * n)\n",
    "\n",
    "Patterns().pattern1(5)"
   ]
  },
  {
   "cell_type": "code",
   "execution_count": null,
   "id": "caf2cc92",
   "metadata": {},
   "outputs": [],
   "source": [
    "class Patterns:\n",
    "    \n",
    "    # Function to print pattern1\n",
    "    def pattern1(self, n):\n",
    "        \n",
    "        # Outer loop will run for rows.\n",
    "        for i in range(n):\n",
    "            \n",
    "            # Inner loop will run for columns.\n",
    "            for j in range(n):\n",
    "                print(\"*\", end=\"\")\n",
    "                \n",
    "            \"\"\" As soon as N stars are printed, move\n",
    "            to the next row and give a line break.\"\"\"\n",
    "            print()\n",
    "Patterns().pattern1(5)"
   ]
  },
  {
   "cell_type": "markdown",
   "id": "ed625a0b",
   "metadata": {},
   "source": [
    "### Pattern 2\n",
    "\n",
    "Given an integer n. You need to recreate the pattern given below for any value of N.\n",
    "\n",
    "Let's say for N = 5, the pattern should look like as below:\n",
    "\n",
    "```sh\n",
    "*\n",
    "**\n",
    "***\n",
    "****\n",
    "*****\n",
    "```\n",
    "\n",
    "Print the pattern in the function given to you.\n"
   ]
  },
  {
   "cell_type": "code",
   "execution_count": null,
   "id": "318bbebe",
   "metadata": {},
   "outputs": [],
   "source": [
    "class Patterns:\n",
    "  # Function to print pattern2\n",
    "  def pattern2(self, n):\n",
    "    for i in range(1, n + 1):\n",
    "      print('*' * i)\n",
    "\n",
    "# Example usage:\n",
    "Patterns().pattern2(5)"
   ]
  },
  {
   "cell_type": "code",
   "execution_count": null,
   "id": "50b4c69f",
   "metadata": {},
   "outputs": [],
   "source": [
    "class Solution:\n",
    "    def pattern2(self, n):\n",
    "        for i in range(n):\n",
    "            for j in range(0,i):\n",
    "                print(\"*\",end=\"\")\n",
    "            print()"
   ]
  },
  {
   "cell_type": "markdown",
   "id": "7ce02aa4",
   "metadata": {},
   "source": [
    "### Pattern 3\n",
    "\n",
    "Given an integer n. You need to recreate the pattern given below for any value of N.\n",
    "\n",
    "Let's say for N = 5, the pattern should look like as below:\n",
    "\n",
    "\n",
    "```sh\n",
    "1\n",
    "12\n",
    "123\n",
    "1234\n",
    "12345\n",
    "```\n",
    "\n",
    "Print the pattern in the function given to you."
   ]
  },
  {
   "cell_type": "code",
   "execution_count": null,
   "id": "8e1ebde6",
   "metadata": {},
   "outputs": [],
   "source": [
    "class Patterns:\n",
    "  # Function to print pattern3\n",
    "  def pattern3(self, n):\n",
    "    for i in range(1, n + 1):\n",
    "      for j in range(1, i + 1):\n",
    "        print(j, end=\"\")\n",
    "      print()\n",
    "\n",
    "# Example usage:\n",
    "Patterns().pattern3(5)"
   ]
  },
  {
   "cell_type": "markdown",
   "id": "bcb6a63a",
   "metadata": {},
   "source": [
    "### Pattern 4\n",
    "\n",
    "Given an integer n. You need to recreate the pattern given below for any value of N.  \n",
    "Let's say for N = 5, the pattern should look like as below:  \n",
    "```sh\n",
    "1\n",
    "22\n",
    "333\n",
    "4444\n",
    "55555\n",
    "```\n",
    "\n"
   ]
  },
  {
   "cell_type": "code",
   "execution_count": null,
   "id": "6144e0e1",
   "metadata": {},
   "outputs": [],
   "source": [
    "class Patterns:\n",
    "  # Function to print pattern4\n",
    "  def pattern4(self, n):\n",
    "    for i in range(1, n + 1):\n",
    "      print(str(i) * i)\n",
    "\n",
    "# Example usage:\n",
    "Patterns().pattern4(5)"
   ]
  },
  {
   "cell_type": "markdown",
   "id": "62b6d261",
   "metadata": {},
   "source": [
    "### Pattern 5\n",
    "\n",
    "Given an integer n.  \n",
    "You need to recreate the pattern given below for any value of N.  \n",
    "Let's say for N = 5, the pattern should look like as below:  \n",
    "```sh\n",
    "*****\n",
    "****\n",
    "***\n",
    "**\n",
    "*\n",
    "```"
   ]
  },
  {
   "cell_type": "code",
   "execution_count": null,
   "id": "ba373679",
   "metadata": {},
   "outputs": [],
   "source": [
    "class Patterns:\n",
    "  # Function to print pattern5\n",
    "  def pattern5(self, n):\n",
    "    for i in range(n, 0, -1):\n",
    "      print('*' * i)\n",
    "\n",
    "# Example usage:\n",
    "Patterns().pattern5(5)"
   ]
  }
 ],
 "metadata": {
  "kernelspec": {
   "display_name": ".venv",
   "language": "python",
   "name": "python3"
  },
  "language_info": {
   "codemirror_mode": {
    "name": "ipython",
    "version": 3
   },
   "file_extension": ".py",
   "mimetype": "text/x-python",
   "name": "python",
   "nbconvert_exporter": "python",
   "pygments_lexer": "ipython3",
   "version": "3.13.3"
  }
 },
 "nbformat": 4,
 "nbformat_minor": 5
}
