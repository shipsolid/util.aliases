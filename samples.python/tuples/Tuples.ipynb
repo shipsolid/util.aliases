{
 "cells": [
  {
   "cell_type": "markdown",
   "id": "2690c08c-1bea-4dc0-9684-3cadade5e5ff",
   "metadata": {
    "slideshow": {
     "slide_type": "slide"
    }
   },
   "source": [
    "# Tuples"
   ]
  },
  {
   "cell_type": "markdown",
   "id": "cadeb1c6-46ae-43be-b2de-006342defb83",
   "metadata": {
    "slideshow": {
     "slide_type": "slide"
    }
   },
   "source": [
    "## Creating Tuples"
   ]
  },
  {
   "cell_type": "code",
   "execution_count": 1,
   "id": "cd91613c-0e95-4d08-ab1c-26a8896c9422",
   "metadata": {
    "slideshow": {
     "slide_type": "fragment"
    }
   },
   "outputs": [
    {
     "name": "stdout",
     "output_type": "stream",
     "text": [
      "()\n",
      "(42,)\n",
      "(1, 'apple', 3.14)\n",
      "Length of a tuple: 3\n",
      "(10, 20, 30)\n"
     ]
    }
   ],
   "source": [
    "empty_tuple = ()\n",
    "print(empty_tuple)\n",
    "\n",
    "# Trailing comma is required\n",
    "one_element_tuple = (42,)\n",
    "print(one_element_tuple)\n",
    "\n",
    "multiple_elements = (1, \"apple\", 3.14)\n",
    "print(multiple_elements)\n",
    "print(\"Length of a tuple:\", len(multiple_elements))\n",
    "\n",
    "# Tuple without parentheses\n",
    "implicit_tuple = 10, 20, 30\n",
    "print(implicit_tuple)"
   ]
  },
  {
   "cell_type": "markdown",
   "id": "b7eaaec3-e6fd-4933-aefe-63ddf968b278",
   "metadata": {
    "slideshow": {
     "slide_type": "slide"
    }
   },
   "source": [
    "## Accessing Tuple Elements"
   ]
  },
  {
   "cell_type": "code",
   "execution_count": 2,
   "id": "526f6af4-b081-47f6-aa83-a28da74d9302",
   "metadata": {
    "slideshow": {
     "slide_type": "fragment"
    }
   },
   "outputs": [
    {
     "name": "stdout",
     "output_type": "stream",
     "text": [
      "RGB Color: (150, 100, 200)\n",
      "Red component: 150\n",
      "Green component: 100\n",
      "Blue component: 200\n"
     ]
    }
   ],
   "source": [
    "# RGB color for a soft purple\n",
    "rgb_color = (150, 100, 200)\n",
    "\n",
    "print(\"RGB Color:\", rgb_color)\n",
    "print(\"Red component:\", rgb_color[0])\n",
    "print(\"Green component:\", rgb_color[1])\n",
    "print(\"Blue component:\", rgb_color[2])"
   ]
  },
  {
   "cell_type": "markdown",
   "id": "37cd5882-d609-4e46-80fe-b9e1b8e32354",
   "metadata": {
    "slideshow": {
     "slide_type": "slide"
    }
   },
   "source": [
    "## Tuples Are Immutable"
   ]
  },
  {
   "cell_type": "code",
   "execution_count": 3,
   "id": "593fcc4a-27e4-4087-bdd7-bab891f9113d",
   "metadata": {
    "slideshow": {
     "slide_type": "fragment"
    }
   },
   "outputs": [
    {
     "name": "stdout",
     "output_type": "stream",
     "text": [
      "Error: 'tuple' object does not support item assignment\n"
     ]
    }
   ],
   "source": [
    "rgb_color = (150, 100, 200)\n",
    "\n",
    "# Attempt to change the second element\n",
    "try:\n",
    "    rgb_color[1] = 10\n",
    "except TypeError as e:\n",
    "    print(\"Error:\", e)"
   ]
  },
  {
   "cell_type": "code",
   "execution_count": 4,
   "id": "5e00a02b-7f98-4bb0-a182-b7442bd2b9fc",
   "metadata": {
    "slideshow": {
     "slide_type": "fragment"
    }
   },
   "outputs": [
    {
     "name": "stdout",
     "output_type": "stream",
     "text": [
      "Distance: 44.736312919707636 units\n"
     ]
    }
   ],
   "source": [
    "def calculate_distance(coord1, coord2):\n",
    "    # A simple Euclidean distance calculation for demonstration\n",
    "    return ((coord1[0] - coord2[0]) ** 2 + (coord1[1] - coord2[1]) ** 2) ** 0.5\n",
    "\n",
    "# Coordinates as tuples\n",
    "point_a = (40.7128, -74.0060)  # New York\n",
    "point_b = (34.0522, -118.2437)  # Los Angeles\n",
    "\n",
    "distance = calculate_distance(point_a, point_b)\n",
    "print(f\"Distance: {distance} units\")"
   ]
  },
  {
   "cell_type": "markdown",
   "id": "aa32f46f-112c-4bec-b4da-2e9ff096fc54",
   "metadata": {
    "slideshow": {
     "slide_type": "slide"
    }
   },
   "source": [
    "## Tuple Operations"
   ]
  },
  {
   "cell_type": "code",
   "execution_count": 5,
   "id": "7b7eecfe-78ed-40d3-a99e-91d3b2ac1b43",
   "metadata": {
    "slideshow": {
     "slide_type": "fragment"
    }
   },
   "outputs": [
    {
     "name": "stdout",
     "output_type": "stream",
     "text": [
      "Concatenated Temperatures: (21.5, 23.0, 19.8, 22.1, 21.5, 24.0)\n",
      "\n",
      "Temperature Analysis:\n",
      "- Recorded 21.5°C\n",
      "- Recorded 23.0°C\n",
      "- Recorded 19.8°C\n",
      "- Recorded 22.1°C\n",
      "- Recorded 21.5°C\n",
      "- Recorded 24.0°C\n",
      "\n",
      "Temperature Statistics for 21.5°C:\n",
      "Occurrences: 2\n",
      "First recorded at index: 0\n",
      "\n",
      "22.1°C was recorded in our data\n",
      "\n",
      "System-wide Statistics:\n",
      "Maximum Temperature: 24.0\n",
      "Minimum Temperature: 19.8\n",
      "Total Temperature Sum: 131.9\n"
     ]
    }
   ],
   "source": [
    "# Temperature readings from different regions\n",
    "north_region = (21.5, 23.0)\n",
    "south_region = (19.8, 22.1)\n",
    "east_region = (21.5, 24.0)\n",
    "\n",
    "# Concatenation\n",
    "all_readings = north_region + south_region + east_region\n",
    "print(\"Concatenated Temperatures:\", all_readings)\n",
    "\n",
    "# Iteration through readings\n",
    "print(\"\\nTemperature Analysis:\")\n",
    "for temp in all_readings:\n",
    "    print(f\"- Recorded {temp}°C\")\n",
    "\n",
    "# Count and index operations\n",
    "target_temp = 21.5\n",
    "print(f\"\\nTemperature Statistics for {target_temp}°C:\")\n",
    "print(\"Occurrences:\", all_readings.count(target_temp))\n",
    "print(\"First recorded at index:\", all_readings.index(target_temp))\n",
    "\n",
    "# Membership check\n",
    "user_query = 22.1\n",
    "if user_query in all_readings:\n",
    "    print(f\"\\n{user_query}°C was recorded in our data\")\n",
    "else:\n",
    "    print(f\"\\n{user_query}°C was not found in our records\")\n",
    "\n",
    "# Aggregate functions\n",
    "print(\"\\nSystem-wide Statistics:\")\n",
    "print(\"Maximum Temperature:\", max(all_readings))\n",
    "print(\"Minimum Temperature:\", min(all_readings))\n",
    "print(\"Total Temperature Sum:\", sum(all_readings))\n",
    "# You can also use any() and all()"
   ]
  },
  {
   "cell_type": "markdown",
   "id": "42ab36c1-6553-434a-8880-601bfc7d6b44",
   "metadata": {
    "slideshow": {
     "slide_type": "slide"
    }
   },
   "source": [
    "## Reversing a Tuple"
   ]
  },
  {
   "cell_type": "code",
   "execution_count": 6,
   "id": "a618da65-368b-4fc3-8b1c-db8d40285dc0",
   "metadata": {
    "slideshow": {
     "slide_type": "fragment"
    }
   },
   "outputs": [
    {
     "name": "stdout",
     "output_type": "stream",
     "text": [
      "Reversed tuple: ('end', 'save', 'validate', 'process', 'load data', 'start')\n",
      "Reversed tuple (using slicing): ('end', 'save', 'validate', 'process', 'load data', 'start')\n"
     ]
    }
   ],
   "source": [
    "steps = (\"start\", \"load data\", \"process\", \"validate\", \"save\", \"end\")\n",
    "\n",
    "# reversed() returns an iterator\n",
    "reversed_steps = tuple(reversed(steps))\n",
    "print(\"Reversed tuple:\", reversed_steps)\n",
    "\n",
    "reversed_steps_slice = steps[::-1]\n",
    "print(\"Reversed tuple (using slicing):\", reversed_steps_slice)"
   ]
  },
  {
   "cell_type": "markdown",
   "id": "4b127d58-faea-4cdf-8e0a-55219d4a131f",
   "metadata": {
    "slideshow": {
     "slide_type": "slide"
    }
   },
   "source": [
    "## Performance: Looping over Large Reversed Tuples"
   ]
  },
  {
   "cell_type": "code",
   "execution_count": null,
   "id": "bd409928-b0d7-4227-98f6-e50b9465d4a9",
   "metadata": {
    "slideshow": {
     "slide_type": "fragment"
    }
   },
   "outputs": [],
   "source": [
    "import time\n",
    "\n",
    "huge_tuple = tuple(range(100_000_000))  # 100 million items\n",
    "\n",
    "# Using reversed() — lazy\n",
    "start = time.time()\n",
    "for i in reversed(huge_tuple):\n",
    "    break\n",
    "end = time.time()\n",
    "print(\"Time with reversed():\", round(end - start, 4), \"seconds\")\n",
    "\n",
    "# Using slicing — eager\n",
    "start = time.time()\n",
    "for i in huge_tuple[::-1]:\n",
    "    break\n",
    "end = time.time()\n",
    "print(\"Time with slicing:\", round(end - start, 4), \"seconds\")"
   ]
  },
  {
   "cell_type": "markdown",
   "id": "c91ee2ab-ae39-4270-99a0-fb42b5c0e7a4",
   "metadata": {
    "slideshow": {
     "slide_type": "slide"
    }
   },
   "source": [
    "## Sorting the Tuple Elements"
   ]
  },
  {
   "cell_type": "code",
   "execution_count": null,
   "id": "fe8e775c-25a9-482d-a918-5d6908b42534",
   "metadata": {
    "slideshow": {
     "slide_type": "fragment"
    }
   },
   "outputs": [],
   "source": [
    "values = (42, 5, 12, 99, 18)\n",
    "\n",
    "# sorted() returns a list\n",
    "sorted_values = tuple(sorted(values))\n",
    "print(\"Sorted values:\", sorted_values)"
   ]
  },
  {
   "cell_type": "markdown",
   "id": "170b0024-9167-44c6-8950-f5e76b5e69a9",
   "metadata": {
    "slideshow": {
     "slide_type": "slide"
    }
   },
   "source": [
    "## Sorting Tuples with the `key` Argument"
   ]
  },
  {
   "cell_type": "code",
   "execution_count": null,
   "id": "2295ee8b-2b10-4113-b529-c75cd7312737",
   "metadata": {
    "slideshow": {
     "slide_type": "fragment"
    }
   },
   "outputs": [],
   "source": [
    "records = (\n",
    "    (\"sensor1\", 30),\n",
    "    (\"sensor2\", 25),\n",
    "    (\"sensor3\", 40),\n",
    ")\n",
    "\n",
    "sorted_by_value = tuple(sorted(records, key=lambda x: x[1]))\n",
    "print(\"Sorted by sensor reading:\", sorted_by_value)"
   ]
  },
  {
   "cell_type": "code",
   "execution_count": null,
   "id": "620483d0-e95f-4920-b9fe-dbe7239757c6",
   "metadata": {
    "slideshow": {
     "slide_type": "fragment"
    }
   },
   "outputs": [],
   "source": [
    "products = (\n",
    "    (\"product_a\", 120, 10),  \n",
    "    (\"product_b\", 200, 100),\n",
    "    (\"product_c\", 150, 20),\n",
    ") # (name, price, discount)\n",
    "\n",
    "# Sort by final price after discount\n",
    "sorted_by_final_price = tuple(sorted(products, key=lambda x: x[1] - x[2]))\n",
    "print(\"Sorted by final price:\", sorted_by_final_price)"
   ]
  },
  {
   "cell_type": "markdown",
   "id": "b4072e1a-1845-4fbe-8862-10084643d56d",
   "metadata": {
    "slideshow": {
     "slide_type": "slide"
    }
   },
   "source": [
    "## Tuple Aliases and Shallow Copies\n",
    "\n",
    "Shallow copies and aliases of tuples that contain only immutable elements are semantically the same."
   ]
  },
  {
   "cell_type": "code",
   "execution_count": null,
   "id": "d1dc32ee-848c-4e27-8b01-c15f40d45db3",
   "metadata": {
    "slideshow": {
     "slide_type": "fragment"
    }
   },
   "outputs": [],
   "source": [
    "# List of enabled modules\n",
    "modules = (\"core\", \"auth\", \"storage\")\n",
    "\n",
    "# Alias points to the same tuple in memory\n",
    "alias = modules\n",
    "# Create a shallow copy using slicing\n",
    "copied = modules[:]\n",
    "# Or you can use the tuple constructor\n",
    "# copied = tuple(modules)\n",
    "\n",
    "print(\"modules is alias:\", modules is alias)\n",
    "print(\"modules is copied:\", modules is copied)"
   ]
  },
  {
   "cell_type": "markdown",
   "id": "0e4399cc-fe84-4a84-863e-85a78a80572a",
   "metadata": {
    "slideshow": {
     "slide_type": "slide"
    }
   },
   "source": [
    "## Tuple Deep Copies"
   ]
  },
  {
   "cell_type": "code",
   "execution_count": null,
   "id": "fd0b02ad-88c6-4cd4-b18a-2765c898161a",
   "metadata": {
    "slideshow": {
     "slide_type": "fragment"
    }
   },
   "outputs": [],
   "source": [
    "import copy\n",
    "\n",
    "# Tuple of settings, each with a sub-list of values\n",
    "settings = ([\"volume\", 70], [\"brightness\", 50])\n",
    "\n",
    "# Create a deep copy\n",
    "deep_copy = copy.deepcopy(settings)\n",
    "\n",
    "# Modify the inner list in the deep copy\n",
    "deep_copy[0][1] = 20\n",
    "\n",
    "print(\"Original after deep copy:\", settings)\n",
    "print(\"Deep copy:\", deep_copy)"
   ]
  },
  {
   "cell_type": "markdown",
   "id": "380788d9-229f-4235-9350-53f65c2a0964",
   "metadata": {
    "slideshow": {
     "slide_type": "slide"
    }
   },
   "source": [
    "## Tuple Unpacking"
   ]
  },
  {
   "cell_type": "code",
   "execution_count": null,
   "id": "9f39ca00-7a25-4401-bac4-43fb6b0696a7",
   "metadata": {
    "slideshow": {
     "slide_type": "fragment"
    }
   },
   "outputs": [],
   "source": [
    "def compute_volume(length, width, height):\n",
    "    return length * width * height\n",
    "\n",
    "dimensions = (10, 5, 2)\n",
    "length, width, height = dimensions\n",
    "\n",
    "volume = compute_volume(length, width, height)\n",
    "print(\"Volume:\", volume)"
   ]
  },
  {
   "cell_type": "markdown",
   "id": "0675f3e1-9ce4-4a2a-a71f-3d2962aec44f",
   "metadata": {
    "slideshow": {
     "slide_type": "slide"
    }
   },
   "source": [
    "## Tuple Unpacking in Function Calls"
   ]
  },
  {
   "cell_type": "code",
   "execution_count": null,
   "id": "c7cfc191-7e11-414b-89ca-ce4d936157a4",
   "metadata": {
    "slideshow": {
     "slide_type": "fragment"
    }
   },
   "outputs": [],
   "source": [
    "def compute_volume(length, width, height):\n",
    "    return length * width * height\n",
    "\n",
    "dimensions = (10, 5, 2)\n",
    "\n",
    "# Unpacking with *\n",
    "volume = compute_volume(*dimensions)\n",
    "print(\"Volume:\", volume)"
   ]
  },
  {
   "cell_type": "markdown",
   "id": "8bc83858-d906-4fd1-884b-27086c8a4228",
   "metadata": {
    "slideshow": {
     "slide_type": "slide"
    }
   },
   "source": [
    "## Packing Function Arguments into a Tuple"
   ]
  },
  {
   "cell_type": "code",
   "execution_count": null,
   "id": "a6b5cf99-f146-46a9-a809-1c507b90f082",
   "metadata": {
    "slideshow": {
     "slide_type": "fragment"
    }
   },
   "outputs": [],
   "source": [
    "# Packing with *\n",
    "def sum_numbers(*args):\n",
    "    print(\"args:\", args)\n",
    "    return sum(args)\n",
    "\n",
    "print(\"Sum:\", sum_numbers(1, 2, 3))\n",
    "print(\"Sum:\", sum_numbers(1, 2, 3, 4, 5)) "
   ]
  },
  {
   "cell_type": "markdown",
   "id": "9c414b74-b2ed-452f-a699-402c1ef737e7",
   "metadata": {
    "slideshow": {
     "slide_type": "slide"
    }
   },
   "source": [
    "## Combining Positional and Variable-length Arguments"
   ]
  },
  {
   "cell_type": "code",
   "execution_count": null,
   "id": "c83f6fd5-97a9-44d1-93e2-e8746d8b406c",
   "metadata": {
    "slideshow": {
     "slide_type": "fragment"
    }
   },
   "outputs": [],
   "source": [
    "def generate_report(title, *sections):\n",
    "    print(f\"=== {title} ===\")\n",
    "    for i, section in enumerate(sections, 1):\n",
    "        print(f\"{i}. {section}\")\n",
    "\n",
    "generate_report(\"System Health Report\",\n",
    "                \"CPU usage: 47%\",\n",
    "                \"RAM usage: 68%\",\n",
    "                \"Disk I/O: Normal\")"
   ]
  },
  {
   "cell_type": "markdown",
   "id": "145f34f7-37c5-4a90-92b0-83f6b2819831",
   "metadata": {
    "slideshow": {
     "slide_type": "slide"
    }
   },
   "source": [
    "## Returning Multiple Values from a Function"
   ]
  },
  {
   "cell_type": "code",
   "execution_count": null,
   "id": "905511b6-eafe-432e-9177-c80f7334616b",
   "metadata": {
    "slideshow": {
     "slide_type": "fragment"
    }
   },
   "outputs": [],
   "source": [
    "def min_max(numbers):\n",
    "    return min(numbers), max(numbers)\n",
    "\n",
    "n = [1, 20, 33, 401, 5]\n",
    "min_result, max_result = min_max(n)\n",
    "print(f\"Min is {min_result} and max is {max_result}\")"
   ]
  }
 ],
 "metadata": {
  "celltoolbar": "Slideshow",
  "kernelspec": {
   "display_name": "Python 3 (ipykernel)",
   "language": "python",
   "name": "python3"
  },
  "language_info": {
   "codemirror_mode": {
    "name": "ipython",
    "version": 3
   },
   "file_extension": ".py",
   "mimetype": "text/x-python",
   "name": "python",
   "nbconvert_exporter": "python",
   "pygments_lexer": "ipython3",
   "version": "3.11.10"
  }
 },
 "nbformat": 4,
 "nbformat_minor": 5
}
