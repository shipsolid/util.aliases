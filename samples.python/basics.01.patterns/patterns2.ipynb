{
  "nbformat": 4,
  "nbformat_minor": 0,
  "metadata": {
    "colab": {
      "provenance": [],
      "authorship_tag": "ABX9TyOnDldlmo4YiLpfyKQkCg7e"
    },
    "kernelspec": {
      "name": "python3",
      "display_name": "Python 3"
    },
    "language_info": {
      "name": "python"
    }
  },
  "cells": [
    {
      "cell_type": "markdown",
      "source": [
        "# Pattern Printing in Python"
      ],
      "metadata": {
        "id": "K8X5Dwd7LddL"
      }
    },
    {
      "cell_type": "markdown",
      "source": [
        "## Half Triangle Pattern"
      ],
      "metadata": {
        "id": "y0f96jSqLnU4"
      }
    },
    {
      "cell_type": "code",
      "source": [
        "# Half Triangle Pattern\n",
        "\n",
        "# Number of rows as input\n",
        "r = int(input(\"Enter Number of Rows: \"))\n",
        "\n",
        "print(f\"Half Triangle Star Pattern till {r} rows is: \")\n",
        "\n",
        "# Printing Pattern till r rows\n",
        "for i in range(0,r+1):\n",
        "  print(\"* \" * i)"
      ],
      "metadata": {
        "colab": {
          "base_uri": "https://localhost:8080/"
        },
        "id": "pFjvtb0GLkrl",
        "outputId": "90c0fc43-fc33-4cff-fee7-205ba50ab444"
      },
      "execution_count": null,
      "outputs": [
        {
          "output_type": "stream",
          "name": "stdout",
          "text": [
            "Enter Number of Rows: 5\n",
            "Half Triangle Star Pattern till 5 rows is: \n",
            "\n",
            "* \n",
            "* * \n",
            "* * * \n",
            "* * * * \n",
            "* * * * * \n"
          ]
        }
      ]
    },
    {
      "cell_type": "markdown",
      "source": [
        "## Printing Hollow Triangle Pattern"
      ],
      "metadata": {
        "id": "SgxIazZT-Nuk"
      }
    },
    {
      "cell_type": "code",
      "source": [
        "# Half Triangle Hollow Pattern\n",
        "\n",
        "# Number of rows as input\n",
        "r = int(input(\"Enter Number of Rows: \"))\n",
        "\n",
        "print(f\"Half Triangle Star Pattern till {r} rows is: \")\n",
        "\n",
        "# Printing Pattern till r rows\n",
        "for i in range(1,r+2):\n",
        "\n",
        "  # For First and Second Row\n",
        "  if i == 1 or i == 2:\n",
        "    print(\"* \" * i)\n",
        "  # For Last Row\n",
        "  elif i == r+1:\n",
        "    print(\"* \" * (i-r//2))\n",
        "  # For all other Rows\n",
        "  else:\n",
        "    print(\"*\" + \" \" * (i-1) + \"*\")"
      ],
      "metadata": {
        "colab": {
          "base_uri": "https://localhost:8080/"
        },
        "id": "9LHc1laB-Ru0",
        "outputId": "087f001d-ae8b-49be-bbda-3561ac660a6e"
      },
      "execution_count": null,
      "outputs": [
        {
          "output_type": "stream",
          "name": "stdout",
          "text": [
            "Enter Number of Rows: 13\n",
            "Half Triangle Star Pattern till 13 rows is: \n",
            "* \n",
            "* * \n",
            "*  *\n",
            "*   *\n",
            "*    *\n",
            "*     *\n",
            "*      *\n",
            "*       *\n",
            "*        *\n",
            "*         *\n",
            "*          *\n",
            "*           *\n",
            "*            *\n",
            "* * * * * * * * \n"
          ]
        }
      ]
    },
    {
      "cell_type": "markdown",
      "source": [
        "## Half triangle in reverse"
      ],
      "metadata": {
        "id": "4XwQioAbMmg2"
      }
    },
    {
      "cell_type": "code",
      "source": [
        "# Half Triangle Pattern in reverse\n",
        "\n",
        "# Number of rows as input\n",
        "r = int(input(\"Enter Number of Rows: \"))\n",
        "\n",
        "print(f\"Half Triangle Star Pattern in reverse till {r} rows is: \")\n",
        "\n",
        "# Printing Pattern till r rows\n",
        "for i in range(r,0,-1):\n",
        "  print(\"* \" * i)"
      ],
      "metadata": {
        "colab": {
          "base_uri": "https://localhost:8080/"
        },
        "id": "XrIRdpP-MKHy",
        "outputId": "1bd9c3bd-3759-4b1e-ab4d-437b7b9bfb17"
      },
      "execution_count": null,
      "outputs": [
        {
          "output_type": "stream",
          "name": "stdout",
          "text": [
            "Enter Number of Rows: 6\n",
            "Half Triangle Star Pattern in reverse till 6 rows is: \n",
            "* * * * * * \n",
            "* * * * * \n",
            "* * * * \n",
            "* * * \n",
            "* * \n",
            "* \n"
          ]
        }
      ]
    },
    {
      "cell_type": "markdown",
      "source": [
        "## Half triangle Hollow in reverse"
      ],
      "metadata": {
        "id": "aAs1wgH9BajG"
      }
    },
    {
      "cell_type": "code",
      "source": [
        "# Half Triangle Reverse Hollow Pattern\n",
        "\n",
        "# Number of rows as input\n",
        "r = int(input(\"Enter Number of Rows: \"))\n",
        "\n",
        "print(f\"Half Triangle Star Pattern till {r} rows is: \")\n",
        "\n",
        "# Printing Pattern till r rows\n",
        "for i in range(r+2,0,-1):\n",
        "\n",
        "  # For First and Second Row\n",
        "  if i == 1 or i == 2:\n",
        "    print(\"* \" * i)\n",
        "  # For Last Row\n",
        "  elif i == r+2:\n",
        "    print(\"* \" * (i-r//2))\n",
        "  # For all other Rows\n",
        "  else:\n",
        "    print(\"*\" + \" \" * (i-1) + \"*\")"
      ],
      "metadata": {
        "colab": {
          "base_uri": "https://localhost:8080/"
        },
        "id": "Q4Eh_ZSqBfDM",
        "outputId": "df019ae5-8d20-4165-c95f-6e3b82ca6116"
      },
      "execution_count": null,
      "outputs": [
        {
          "output_type": "stream",
          "name": "stdout",
          "text": [
            "Enter Number of Rows: 7\n",
            "Half Triangle Star Pattern till 7 rows is: \n",
            "* * * * * * \n",
            "*       *\n",
            "*      *\n",
            "*     *\n",
            "*    *\n",
            "*   *\n",
            "*  *\n",
            "* * \n",
            "* \n"
          ]
        }
      ]
    },
    {
      "cell_type": "markdown",
      "source": [
        "## Half Triangle Pattern with space"
      ],
      "metadata": {
        "id": "uixfnngtM_0T"
      }
    },
    {
      "cell_type": "code",
      "source": [
        "# Half Triangle Pattern with space\n",
        "\n",
        "# Number of rows as input\n",
        "r = int(input(\"Enter Number of Rows: \"))\n",
        "\n",
        "print(f\"Half Triangle Star Pattern with Space till {r} rows is: \")\n",
        "\n",
        "# Printing Pattern till r rows\n",
        "for i in range(r,0,-1):\n",
        "\n",
        "  # For Space\n",
        "  print(\"  \" * i, end=\"\")\n",
        "  # For Star\n",
        "  print(\"* \" * (r+1-i))"
      ],
      "metadata": {
        "colab": {
          "base_uri": "https://localhost:8080/"
        },
        "id": "C7-q8bqCMu_Q",
        "outputId": "256da8d1-b4f9-4f76-a481-3aa127502e96"
      },
      "execution_count": null,
      "outputs": [
        {
          "output_type": "stream",
          "name": "stdout",
          "text": [
            "Enter Number of Rows: 7\n",
            "Half Triangle Star Pattern with Space till 7 rows is: \n",
            "              * \n",
            "            * * \n",
            "          * * * \n",
            "        * * * * \n",
            "      * * * * * \n",
            "    * * * * * * \n",
            "  * * * * * * * \n"
          ]
        }
      ]
    },
    {
      "cell_type": "markdown",
      "source": [
        "## Half Triangle Hollow Pattern with space"
      ],
      "metadata": {
        "id": "2uLs_hwuB5AF"
      }
    },
    {
      "cell_type": "code",
      "source": [
        "# Half Triangle Hollow Pattern with space\n",
        "\n",
        "# Number of rows as input\n",
        "r = int(input(\"Enter Number of Rows: \"))\n",
        "\n",
        "print(f\"Half Triangle Star Pattern with Space till {r} rows is: \")\n",
        "\n",
        "# Taking j as we need to increase space by 1 each time\n",
        "j = 1\n",
        "\n",
        "for i in range(0,r):\n",
        "\n",
        "  # For First, Second and Last row\n",
        "  if i == 0 or i == 1 or i == r-1:\n",
        "    print(\"  \" * (r+1 - i ) + \" *\" * (i+1))\n",
        "\n",
        "  # For Third Row\n",
        "  elif i == 2:\n",
        "    print((\"  \" * (r+2 - i ) + \"*\" + \" \" * (i) + \"*\"))\n",
        "\n",
        "  # For All Other Rows\n",
        "  else:\n",
        "    print((\"  \" * (r+2 - i ) + \"*\" + \" \" * (i+j) + \"*\"))\n",
        "    # Incrementing j\n",
        "    j = j + 1"
      ],
      "metadata": {
        "colab": {
          "base_uri": "https://localhost:8080/"
        },
        "id": "Jm7mCpAy7DNx",
        "outputId": "f067955d-c717-4870-c1a8-1cf111b092c3"
      },
      "execution_count": null,
      "outputs": [
        {
          "output_type": "stream",
          "name": "stdout",
          "text": [
            "Enter Number of Rows: 7\n",
            "Half Triangle Star Pattern with Space till 7 rows is: \n",
            "                 *\n",
            "               * *\n",
            "              *  *\n",
            "            *    *\n",
            "          *      *\n",
            "        *        *\n",
            "     * * * * * * *\n"
          ]
        }
      ]
    },
    {
      "cell_type": "markdown",
      "source": [
        "## Half Triangle Pattern with space in reverse"
      ],
      "metadata": {
        "id": "kE9oVpWNN0UP"
      }
    },
    {
      "cell_type": "code",
      "source": [
        "# Half Triangle Pattern with space in reverse\n",
        "\n",
        "# Number of rows as input\n",
        "r = int(input(\"Enter Number of Rows: \"))\n",
        "\n",
        "print(f\"Half Triangle Star Pattern with Space in reverse till {r} rows is: \")\n",
        "\n",
        "# Printing Pattern till r rows\n",
        "for i in range(r,0,-1):\n",
        "\n",
        "  # For Space\n",
        "  print(\"  \" * (r+1-i), end=\"\")\n",
        "  # For Star\n",
        "  print(\"* \" * i)"
      ],
      "metadata": {
        "colab": {
          "base_uri": "https://localhost:8080/"
        },
        "id": "Op-XAmg-NfaO",
        "outputId": "aa7ea8da-64b2-4de9-9748-535918e882a5"
      },
      "execution_count": null,
      "outputs": [
        {
          "output_type": "stream",
          "name": "stdout",
          "text": [
            "Enter Number of Rows: 7\n",
            "Half Triangle Star Pattern with Space in reverse till 7 rows is: \n",
            "  * * * * * * * \n",
            "    * * * * * * \n",
            "      * * * * * \n",
            "        * * * * \n",
            "          * * * \n",
            "            * * \n",
            "              * \n"
          ]
        }
      ]
    },
    {
      "cell_type": "markdown",
      "source": [
        "## Half Triangle Hollow Pattern with space in reverse"
      ],
      "metadata": {
        "id": "BaZ7Yq-A9sBU"
      }
    },
    {
      "cell_type": "code",
      "source": [
        "# Half Triangle Hollow Pattern with space\n",
        "\n",
        "# Number of rows as input\n",
        "r = int(input(\"Enter Number of Rows: \"))\n",
        "\n",
        "print(f\"Half Triangle Star Pattern with Space till {r} rows is: \")\n",
        "\n",
        "# Taking j as we need to increase space by 1 each time\n",
        "j = 0\n",
        "\n",
        "for i in range(r,0,-1):\n",
        "\n",
        "  # For First, Second Last and Last row\n",
        "\n",
        "  if i == r or i == 2 or i == 1:\n",
        "    # For Space\n",
        "    print(\"  \" * (r+1-i), end=\"\")\n",
        "    # For Star\n",
        "    print(\"* \" * i)\n",
        "  else:\n",
        "    print(\" \" * (r + r//2 -i + j) + \"* \" + \" \" * (i + (r//2 -1)  - j) + \"* \")\n",
        "    j = j + 1"
      ],
      "metadata": {
        "colab": {
          "base_uri": "https://localhost:8080/"
        },
        "id": "2RrcuxEE9ucR",
        "outputId": "f38bce36-dc9b-46b3-c7c8-5ad3766a9a33"
      },
      "execution_count": null,
      "outputs": [
        {
          "output_type": "stream",
          "name": "stdout",
          "text": [
            "Enter Number of Rows: 7\n",
            "Half Triangle Star Pattern with Space till 7 rows is: \n",
            "  * * * * * * * \n",
            "    *         * \n",
            "      *       * \n",
            "        *     * \n",
            "          *   * \n",
            "            * * \n",
            "              * \n"
          ]
        }
      ]
    },
    {
      "cell_type": "markdown",
      "source": [
        "## Printing Full Star Pattern"
      ],
      "metadata": {
        "id": "PpZAVFtxOG3O"
      }
    },
    {
      "cell_type": "code",
      "source": [
        "# Full Star Pattern\n",
        "# We are printing in odd number as for even number for 1 star the space is uneven with this formula\n",
        "\n",
        "# Number of rows as input\n",
        "r = int(input(\"Enter Number of Rows: \"))\n",
        "\n",
        "print(f\"Full Star Pattern till {r} rows is: \")\n",
        "\n",
        "# Printing Pattern till r rows\n",
        "for i in range(r+1,0,-1):\n",
        "\n",
        "  # For First Star Pattern\n",
        "  # We add Space and Star\n",
        "  print(\"  \" * (i-1) + \"* \" * (2*(r+1-i)+1))"
      ],
      "metadata": {
        "colab": {
          "base_uri": "https://localhost:8080/"
        },
        "id": "edAHzzsmOAS4",
        "outputId": "6fc09b4a-8762-4b83-ee0d-14fe616681b6"
      },
      "execution_count": null,
      "outputs": [
        {
          "output_type": "stream",
          "name": "stdout",
          "text": [
            "Enter Number of Rows: 7\n",
            "Full Star Pattern till 7 rows is: \n",
            "              * \n",
            "            * * * \n",
            "          * * * * * \n",
            "        * * * * * * * \n",
            "      * * * * * * * * * \n",
            "    * * * * * * * * * * * \n",
            "  * * * * * * * * * * * * * \n",
            "* * * * * * * * * * * * * * * \n"
          ]
        }
      ]
    },
    {
      "cell_type": "markdown",
      "source": [
        "## Printing Full Star Hollow Pattern"
      ],
      "metadata": {
        "id": "iyhFA8oOEims"
      }
    },
    {
      "cell_type": "code",
      "source": [
        "# Full Star Hollow Pattern\n",
        "# We are printing in odd number as for even number for 1 star the space is uneven with this formula\n",
        "\n",
        "# Number of rows as input\n",
        "r = int(input(\"Enter Number of Rows: \"))\n",
        "\n",
        "print(f\"Full Star Pattern till {r} rows is: \")\n",
        "\n",
        "# Printing Pattern till r rows\n",
        "for i in range(r+1,0,-1):\n",
        "  if i == r+1 or i == 1:\n",
        "    # For First Star Pattern\n",
        "    # We add Space and Star\n",
        "    print(\"  \" * (i-1) + \"* \" * (2*(r+1-i)+1))\n",
        "  else:\n",
        "    # For First Star Pattern\n",
        "    # We add Space and Star\n",
        "    print(\"  \" * (i-1) + \"* \" + \"  \" * (2*(r+1-i)-1) + \"*\")"
      ],
      "metadata": {
        "colab": {
          "base_uri": "https://localhost:8080/"
        },
        "id": "Gas9Xo4MElAU",
        "outputId": "d70dba00-e427-4ce2-8d85-e5c079feec95"
      },
      "execution_count": null,
      "outputs": [
        {
          "output_type": "stream",
          "name": "stdout",
          "text": [
            "Enter Number of Rows: 7\n",
            "Full Star Pattern till 7 rows is: \n",
            "              * \n",
            "            *   *\n",
            "          *       *\n",
            "        *           *\n",
            "      *               *\n",
            "    *                   *\n",
            "  *                       *\n",
            "* * * * * * * * * * * * * * * \n"
          ]
        }
      ]
    },
    {
      "cell_type": "markdown",
      "source": [
        "## Printing Inverse Full Star Pattern"
      ],
      "metadata": {
        "id": "Q-d4UXI4bMqf"
      }
    },
    {
      "cell_type": "code",
      "source": [
        "# Full Star Pattern\n",
        "# We are printing in odd number as for even number for 1 star the space is uneven with this formula\n",
        "\n",
        "# Number of rows as input\n",
        "r = int(input(\"Enter Number of Rows: \"))\n",
        "\n",
        "print(f\"Inverted Full Star Pattern till {r} rows is: \")\n",
        "\n",
        "# Printing Pattern till r rows\n",
        "for i in range(1,r+2):\n",
        "\n",
        "  # We add Space and Star\n",
        "  print(\"  \" * (i-1) + \"* \" * (2*(r+1-i)+1))"
      ],
      "metadata": {
        "colab": {
          "base_uri": "https://localhost:8080/"
        },
        "id": "97JzDqk0bS2f",
        "outputId": "640e1dd0-3f32-46e3-9bf0-662371b5d1a2"
      },
      "execution_count": null,
      "outputs": [
        {
          "output_type": "stream",
          "name": "stdout",
          "text": [
            "Enter Number of Rows: 6\n",
            "Inverted Full Star Pattern till 6 rows is: \n",
            "* * * * * * * * * * * * * \n",
            "  * * * * * * * * * * * \n",
            "    * * * * * * * * * \n",
            "      * * * * * * * \n",
            "        * * * * * \n",
            "          * * * \n",
            "            * \n"
          ]
        }
      ]
    },
    {
      "cell_type": "markdown",
      "source": [
        "## Printing Inverse Full Star Hollow Pattern"
      ],
      "metadata": {
        "id": "ndVx-X3nG6qs"
      }
    },
    {
      "cell_type": "code",
      "source": [
        "# Full Star Hollow Pattern\n",
        "# We are printing in odd number as for even number for 1 star the space is uneven with this formula\n",
        "\n",
        "# Number of rows as input\n",
        "r = int(input(\"Enter Number of Rows: \"))\n",
        "\n",
        "print(f\"Full Star Pattern till {r} rows is: \")\n",
        "\n",
        "# Printing Pattern till r rows\n",
        "for i in range(1,r+2):\n",
        "  if i == 1 or i == r+1:\n",
        "    # For First Star Pattern\n",
        "    # We add Space and Star\n",
        "    print(\"  \" * (i-1) + \"* \" * (2*(r+1-i)+1))\n",
        "  else:\n",
        "    # For First Star Pattern\n",
        "    # We add Space and Star\n",
        "    print(\"  \" * (i-1) + \"* \" + \"  \" * (2*(r+1-i)-1) + \"*\")"
      ],
      "metadata": {
        "colab": {
          "base_uri": "https://localhost:8080/"
        },
        "id": "g5TzSS_fG9Se",
        "outputId": "05466710-b912-4d69-8686-39267eacb367"
      },
      "execution_count": null,
      "outputs": [
        {
          "output_type": "stream",
          "name": "stdout",
          "text": [
            "Enter Number of Rows: 7\n",
            "Full Star Pattern till 7 rows is: \n",
            "* * * * * * * * * * * * * * * \n",
            "  *                       *\n",
            "    *                   *\n",
            "      *               *\n",
            "        *           *\n",
            "          *       *\n",
            "            *   *\n",
            "              * \n"
          ]
        }
      ]
    },
    {
      "cell_type": "markdown",
      "source": [
        "## Rhombus Pattern"
      ],
      "metadata": {
        "id": "6Ynyv6t1bqJl"
      }
    },
    {
      "cell_type": "code",
      "source": [
        "# Rhombus Pattern with space\n",
        "\n",
        "# Number of rows as input\n",
        "r = int(input(\"Enter Number of Rows: \"))\n",
        "\n",
        "print(f\"Rhombus Star Pattern till {r} rows is: \")\n",
        "\n",
        "# Printing Pattern till r rows\n",
        "\n",
        "# For upper half\n",
        "for i in range(1,r+1):\n",
        "\n",
        "  print(\"  \" * (r-i) + \"* \" * (2*(i-1)+1))\n",
        "\n",
        "# For lower half\n",
        "for i in range(r-1,0,-1):\n",
        "    print(\"  \" * (r-i) + \"* \" * (2*(i-1)+1))"
      ],
      "metadata": {
        "colab": {
          "base_uri": "https://localhost:8080/"
        },
        "id": "q-1jbWktQgCj",
        "outputId": "7fa94b18-f8c6-4dc5-d91e-bf735a7bc988"
      },
      "execution_count": null,
      "outputs": [
        {
          "output_type": "stream",
          "name": "stdout",
          "text": [
            "Enter Number of Rows: 6\n",
            "Rhombus Star Pattern till 6 rows is: \n",
            "          * \n",
            "        * * * \n",
            "      * * * * * \n",
            "    * * * * * * * \n",
            "  * * * * * * * * * \n",
            "* * * * * * * * * * * \n",
            "  * * * * * * * * * \n",
            "    * * * * * * * \n",
            "      * * * * * \n",
            "        * * * \n",
            "          * \n"
          ]
        }
      ]
    },
    {
      "cell_type": "markdown",
      "source": [
        "## Printing Outline of Rhombus Pattern"
      ],
      "metadata": {
        "id": "Etz7w708pC3L"
      }
    },
    {
      "cell_type": "code",
      "source": [
        "# Outline of Rhombus Pattern with Space between Stars\n",
        "\n",
        "# Number of rows as input\n",
        "r = int(input(\"Enter Number of Rows: \"))\n",
        "\n",
        "print(f\"Outline of Rhombus Pattern with Space between stars till {r} rows is: \")\n",
        "\n",
        "# Printing Pattern till r rows\n",
        "\n",
        "# For upper half\n",
        "for i in range(r,0,-1):\n",
        "    print(\"* \" * i + \"  \" * (2*(r-i)) + \"* \" * i)\n",
        "\n",
        "# For lower half\n",
        "for i in range(1,r+1):\n",
        "  print(\"* \" * i + \"  \" * (2*(r-i)) + \"* \" * i)"
      ],
      "metadata": {
        "colab": {
          "base_uri": "https://localhost:8080/"
        },
        "id": "5V0JAugwpLev",
        "outputId": "983b4774-d161-4d99-df82-7068bb5ba742"
      },
      "execution_count": null,
      "outputs": [
        {
          "output_type": "stream",
          "name": "stdout",
          "text": [
            "Enter Number of Rows: 7\n",
            "Outline of Rhombus Pattern with Space between stars till 7 rows is: \n",
            "* * * * * * * * * * * * * * \n",
            "* * * * * *     * * * * * * \n",
            "* * * * *         * * * * * \n",
            "* * * *             * * * * \n",
            "* * *                 * * * \n",
            "* *                     * * \n",
            "*                         * \n",
            "*                         * \n",
            "* *                     * * \n",
            "* * *                 * * * \n",
            "* * * *             * * * * \n",
            "* * * * *         * * * * * \n",
            "* * * * * *     * * * * * * \n",
            "* * * * * * * * * * * * * * \n"
          ]
        }
      ]
    },
    {
      "cell_type": "markdown",
      "source": [
        "## Printing Time clock Pattern"
      ],
      "metadata": {
        "id": "V4OZTW31cC4y"
      }
    },
    {
      "cell_type": "code",
      "source": [
        "# Time Clock Pattern with space\n",
        "\n",
        "# Number of rows as input\n",
        "r = int(input(\"Enter Number of Rows: \"))\n",
        "\n",
        "print(f\"Time Clock Star Pattern till {r} rows is: \\n\")\n",
        "\n",
        "# Printing Pattern till r rows\n",
        "\n",
        "# For upper half\n",
        "for i in range(r,0,-1):\n",
        "    print(\"  \" * (r-i) + \"* \" * (2*(i-1)+1))\n",
        "\n",
        "# For lower half\n",
        "for i in range(1,r+1):\n",
        "\n",
        "  print(\"  \" * (r-i) + \"* \" * (2*(i-1)+1))"
      ],
      "metadata": {
        "id": "WkFCwl7VSOl8",
        "colab": {
          "base_uri": "https://localhost:8080/"
        },
        "outputId": "14035932-be76-4e48-b4ef-2d71a66b320e"
      },
      "execution_count": null,
      "outputs": [
        {
          "output_type": "stream",
          "name": "stdout",
          "text": [
            "Enter Number of Rows: 5\n",
            "Time Clock Star Pattern till 5 rows is: \n",
            "\n",
            "* * * * * * * * * \n",
            "  * * * * * * * \n",
            "    * * * * * \n",
            "      * * * \n",
            "        * \n",
            "        * \n",
            "      * * * \n",
            "    * * * * * \n",
            "  * * * * * * * \n",
            "* * * * * * * * * \n"
          ]
        }
      ]
    },
    {
      "cell_type": "markdown",
      "source": [
        "## Printing Butterfly wings Pattern"
      ],
      "metadata": {
        "id": "_4ia1jBCdL0p"
      }
    },
    {
      "cell_type": "code",
      "source": [
        "# Butterfly Wings Pattern\n",
        "\n",
        "# Number of rows as input\n",
        "r = int(input(\"Enter Number of Rows: \"))\n",
        "\n",
        "print(f\"Butterfly Wings Pattern till {r} rows is: \")\n",
        "\n",
        "# Printing Pattern till r rows\n",
        "\n",
        "# For upper half\n",
        "for i in range(1,r+1):\n",
        "\n",
        "  print(\"*\" * i + \" \" * (2*(r-i)) + \"*\" * i)\n",
        "\n",
        "# For lower half\n",
        "for i in range(r-1,0,-1):\n",
        "    print(\"*\" * i + \" \" * (2*(r-i)) + \"*\" * i)"
      ],
      "metadata": {
        "colab": {
          "base_uri": "https://localhost:8080/"
        },
        "id": "pcRyEKLTcMgY",
        "outputId": "51a6c962-11ef-4a6c-cbb8-545a790792a3"
      },
      "execution_count": null,
      "outputs": [
        {
          "output_type": "stream",
          "name": "stdout",
          "text": [
            "Enter Number of Rows: 7\n",
            "Butterfly Wings Pattern till 7 rows is: \n",
            "*            *\n",
            "**          **\n",
            "***        ***\n",
            "****      ****\n",
            "*****    *****\n",
            "******  ******\n",
            "**************\n",
            "******  ******\n",
            "*****    *****\n",
            "****      ****\n",
            "***        ***\n",
            "**          **\n",
            "*            *\n"
          ]
        }
      ]
    },
    {
      "cell_type": "code",
      "source": [
        "# Butterfly Wings Pattern with Space between Stars\n",
        "\n",
        "# Number of rows as input\n",
        "r = int(input(\"Enter Number of Rows: \"))\n",
        "\n",
        "print(f\"Butterfly Wings Pattern with Space between stars till {r} rows is: \")\n",
        "\n",
        "# Printing Pattern till r rows\n",
        "\n",
        "# For upper half\n",
        "for i in range(1,r+1):\n",
        "\n",
        "  print(\"* \" * i + \"  \" * (2*(r-i)) + \"* \" * i)\n",
        "\n",
        "# For lower half\n",
        "for i in range(r-1,0,-1):\n",
        "    print(\"* \" * i + \"  \" * (2*(r-i)) + \"* \" * i)"
      ],
      "metadata": {
        "colab": {
          "base_uri": "https://localhost:8080/"
        },
        "id": "q3NGERrIl2wm",
        "outputId": "62949d0b-36a2-44db-d3e9-a2296ec8b74c"
      },
      "execution_count": null,
      "outputs": [
        {
          "output_type": "stream",
          "name": "stdout",
          "text": [
            "Enter Number of Rows: 7\n",
            "Butterfly Wings Pattern with Space between stars till 7 rows is: \n",
            "*                         * \n",
            "* *                     * * \n",
            "* * *                 * * * \n",
            "* * * *             * * * * \n",
            "* * * * *         * * * * * \n",
            "* * * * * *     * * * * * * \n",
            "* * * * * * * * * * * * * * \n",
            "* * * * * *     * * * * * * \n",
            "* * * * *         * * * * * \n",
            "* * * *             * * * * \n",
            "* * *                 * * * \n",
            "* *                     * * \n",
            "*                         * \n"
          ]
        }
      ]
    },
    {
      "cell_type": "markdown",
      "source": [
        "## Printing Rectangle Pattern"
      ],
      "metadata": {
        "id": "VPduPuI2rXfc"
      }
    },
    {
      "cell_type": "code",
      "source": [
        "# Rectangle Pattern\n",
        "\n",
        "# Number of rows as input\n",
        "r = int(input(\"Enter Number of Rows: \"))\n",
        "\n",
        "# Number of rows as input\n",
        "s = int(input(\"Enter Number of Stars: \"))\n",
        "\n",
        "print(f\"Rectangle Star Pattern till {r} rows and {s} stars is: \")\n",
        "\n",
        "# Printing Pattern till r rows\n",
        "for i in range(1,r+1):\n",
        "  print(\"* \" * s)"
      ],
      "metadata": {
        "colab": {
          "base_uri": "https://localhost:8080/"
        },
        "id": "wvjrQo0BorKt",
        "outputId": "9852dfa2-43c0-4737-b953-b7fc269b74f3"
      },
      "execution_count": null,
      "outputs": [
        {
          "output_type": "stream",
          "name": "stdout",
          "text": [
            "Enter Number of Rows: 3\n",
            "Enter Number of Stars: 5\n",
            "Rectangle Star Pattern till 3 rows and 5 stars is: \n",
            "* * * * * \n",
            "* * * * * \n",
            "* * * * * \n"
          ]
        }
      ]
    },
    {
      "cell_type": "markdown",
      "source": [
        "## Printing Hollow Rectangle Pattern Using Two Loops"
      ],
      "metadata": {
        "id": "GmFBZyG7sKH7"
      }
    },
    {
      "cell_type": "code",
      "source": [
        "# Rectangle Pattern\n",
        "\n",
        "# Number of rows as input\n",
        "r = int(input(\"Enter Number of Rows: \"))\n",
        "\n",
        "# Number of rows as input\n",
        "s = int(input(\"Enter Number of Stars: \"))\n",
        "\n",
        "print(f\"Hollow Rectangle Star Pattern till {r} rows and {s} stars is: \")\n",
        "\n",
        "# Printing Pattern till r rows\n",
        "for i in range(0,r):\n",
        "\n",
        "# Here we have to take one inner loop for printing star and space\n",
        "  for j in range(0,s):\n",
        "\n",
        "    # Giving if Condition for stars and space\n",
        "    if i == 0 or i == r-1 or j == 0 or j == s-1:\n",
        "      print(\"*\",end = \" \")\n",
        "    else:\n",
        "      print(\" \", end = \" \")\n",
        "\n",
        "  # Printing New line\n",
        "  print()"
      ],
      "metadata": {
        "colab": {
          "base_uri": "https://localhost:8080/"
        },
        "id": "QShJI4mrrp89",
        "outputId": "b01bab0d-7828-4ab2-deb9-603b6422b8a9"
      },
      "execution_count": null,
      "outputs": [
        {
          "output_type": "stream",
          "name": "stdout",
          "text": [
            "Enter Number of Rows: 5\n",
            "Enter Number of Stars: 12\n",
            "Hollow Rectangle Star Pattern till 5 rows and 12 stars is: \n",
            "* * * * * * * * * * * * \n",
            "*                     * \n",
            "*                     * \n",
            "*                     * \n",
            "* * * * * * * * * * * * \n"
          ]
        }
      ]
    },
    {
      "cell_type": "markdown",
      "source": [
        "## Printing Hollow Rectangle Pattern Using One Loops"
      ],
      "metadata": {
        "id": "y2FUxr2H2fuC"
      }
    },
    {
      "cell_type": "code",
      "source": [
        "# Rectangle Pattern hollow using one loop\n",
        "\n",
        "# Number of rows as input\n",
        "r = int(input(\"Enter Number of Rows: \"))\n",
        "\n",
        "# Number of rows as input\n",
        "s = int(input(\"Enter Number of Stars: \"))\n",
        "\n",
        "print(f\"Hollow Rectangle Star Pattern till {r} rows and {s} stars is: \")\n",
        "\n",
        "# Printing Pattern till r rows\n",
        "for i in range(0,r):\n",
        "  if i == 0 or i == r-1:\n",
        "    print(\"* \" * s)\n",
        "  else:\n",
        "    print(\"* \" + \"  \" * (s-2) + \"* \")"
      ],
      "metadata": {
        "colab": {
          "base_uri": "https://localhost:8080/"
        },
        "id": "9ztZ2pXvskDL",
        "outputId": "ff8e3da3-7c3c-43fd-9f26-a5d371e70ec1"
      },
      "execution_count": null,
      "outputs": [
        {
          "output_type": "stream",
          "name": "stdout",
          "text": [
            "Enter Number of Rows: 5\n",
            "Enter Number of Stars: 13\n",
            "Hollow Rectangle Star Pattern till 5 rows and 13 stars is: \n",
            "* * * * * * * * * * * * * \n",
            "*                       * \n",
            "*                       * \n",
            "*                       * \n",
            "* * * * * * * * * * * * * \n"
          ]
        }
      ]
    },
    {
      "cell_type": "markdown",
      "source": [
        "## Printing Hollow Middle row for Rectangle Pattern\n",
        "For Even Rows we print two middle rows empty else one"
      ],
      "metadata": {
        "id": "4awZ3gE62kj7"
      }
    },
    {
      "cell_type": "code",
      "source": [
        "# Rectangle Pattern with only middle row hollow\n",
        "\n",
        "# Number of rows as input\n",
        "r = int(input(\"Enter Number of Rows: \"))\n",
        "\n",
        "# Number of rows as input\n",
        "s = int(input(\"Enter Number of Stars: \"))\n",
        "\n",
        "print(f\"Hollow Middle Row Rectangle Star Pattern till {r} rows and {s} stars is: \")\n",
        "\n",
        "# Printing Pattern till r rows\n",
        "for i in range(1,r+1):\n",
        "\n",
        "  # Printing Complete stars for the rest of the rows and only printing space for middle row\n",
        "\n",
        "  # For Odd rows\n",
        "  if (r % 2 != 0):\n",
        "\n",
        "    if i != r //2 + 1 :\n",
        "      print(\"* \" * s)\n",
        "    else:\n",
        "      print(\"* \" + \"  \" * (s-2) + \"* \")\n",
        "\n",
        "  # For even rows\n",
        "  else:\n",
        "    if i != r/2  and i != r/2 + 1 :\n",
        "      print(\"* \" * s)\n",
        "    else:\n",
        "      print(\"* \" + \"  \" * (s-2) + \"* \")"
      ],
      "metadata": {
        "colab": {
          "base_uri": "https://localhost:8080/"
        },
        "id": "cNVuC3LWxfH4",
        "outputId": "34ece609-5e5e-48c2-8c8f-68b68262ce57"
      },
      "execution_count": null,
      "outputs": [
        {
          "output_type": "stream",
          "name": "stdout",
          "text": [
            "Enter Number of Rows: 5\n",
            "Enter Number of Stars: 11\n",
            "Hollow Middle Row Rectangle Star Pattern till 5 rows and 11 stars is: \n",
            "* * * * * * * * * * * \n",
            "* * * * * * * * * * * \n",
            "*                   * \n",
            "* * * * * * * * * * * \n",
            "* * * * * * * * * * * \n"
          ]
        }
      ]
    },
    {
      "cell_type": "markdown",
      "source": [
        "## Pascal Triangle"
      ],
      "metadata": {
        "id": "BO39fE_qQGNN"
      }
    },
    {
      "cell_type": "code",
      "source": [
        "def generate_pascals_triangle(num_rows):\n",
        "    for i in range(num_rows):\n",
        "        coef = 1\n",
        "        for j in range(i + 1):\n",
        "            if j == 0 or i == 0:\n",
        "                coef = 1\n",
        "            else:\n",
        "                coef = (coef * (i - j + 1)) // j\n",
        "            print(coef, end=\" \")\n",
        "        print()\n",
        "\n",
        "num_rows = int(input(\"Enter number of rows: \"))\n",
        "generate_pascals_triangle(num_rows)"
      ],
      "metadata": {
        "id": "vtxRUifL3pL9",
        "colab": {
          "base_uri": "https://localhost:8080/"
        },
        "outputId": "4759349a-ed62-4cba-955a-338bbe573fbc"
      },
      "execution_count": null,
      "outputs": [
        {
          "output_type": "stream",
          "name": "stdout",
          "text": [
            "Enter number of rows: 5\n",
            "1 \n",
            "1 1 \n",
            "1 2 1 \n",
            "1 3 3 1 \n",
            "1 4 6 4 1 \n"
          ]
        }
      ]
    },
    {
      "cell_type": "markdown",
      "source": [
        "## Printing Alphabet Shape Pattern"
      ],
      "metadata": {
        "id": "Cd8eQamBcMEA"
      }
    },
    {
      "cell_type": "code",
      "source": [
        "# Number of rows as input\n",
        "r = int(input(\"Enter Number of Rows: \"))\n",
        "\n",
        "# For this pattern to be printed we need more than 3 rows\n",
        "# Thus if r is less than 3 we increment\n",
        "if r < 3:\n",
        "  r = 3\n",
        "\n",
        "#  Printing H Pattern\n",
        "print(f\"H Star Pattern till {r} rows is:\\n \")\n",
        "\n",
        "for i in range(0, r):\n",
        "\n",
        "      # For all other rows\n",
        "      if i != r//2:\n",
        "\n",
        "        # For Even Rows we need one additional space\n",
        "        if r % 2 == 0:\n",
        "          print(\"*\" + \" \" * (r+1) + \"*\")\n",
        "\n",
        "        # For Odd Rows\n",
        "        else:\n",
        "          print(\"*\" + \" \" * r + \"*\")\n",
        "\n",
        "      # For Middle line\n",
        "      else:\n",
        "       print(\"* \" * (r//2 + 2))\n",
        "\n",
        "\n",
        "# Printing B Pattern\n",
        "print(f\"\\nB Star Pattern till {r} rows is:\\n \")\n",
        "\n",
        "for i in range(0, r):\n",
        "\n",
        "      # For all other rows except first, middle and last row\n",
        "      if i != r//2 and i != 0 and i != r-1:\n",
        "\n",
        "        # For Even Rows we need one additional space\n",
        "        if r % 2 == 0:\n",
        "          print(\"*\" + \" \" * (r+1) + \"*\")\n",
        "\n",
        "        # For Odd Rows\n",
        "        else:\n",
        "          print(\"*\" + \" \" * r + \"*\")\n",
        "\n",
        "      # For Middle line\n",
        "      else:\n",
        "       print(\"* \" * (r//2 + 2))\n",
        "\n",
        "# Printing E Pattern\n",
        "print(f\"\\nE Star Pattern till {r} rows is:\\n \")\n",
        "\n",
        "for i in range(0, r):\n",
        "\n",
        "      # For first, middle and last row\n",
        "      if i == r//2 or i == 0 or i == r-1:\n",
        "\n",
        "        # Middle Line\n",
        "        print(\"* \" * (r//2 + 2))\n",
        "\n",
        "      elif (i > 0 and i < r//2) or (i > r//2 and i < r):\n",
        "          print(\"*\")\n",
        "\n",
        "      # For all other rows\n",
        "      else:\n",
        "       # For Even Rows we need one additional space\n",
        "        if r % 2 == 0:\n",
        "          print(\"*\" + \" \" * (r+1) + \"*\")\n",
        "\n",
        "        # For Odd Rows\n",
        "        else:\n",
        "          print(\"*\" + \" \" * r + \"*\")\n",
        "\n",
        "# Printing L Pattern\n",
        "print(f\"\\nL Star Pattern till {r} rows is: \\n\")\n",
        "\n",
        "for i in range(0, r):\n",
        "\n",
        "      # For last line\n",
        "      if i == r-1:\n",
        "        print(\"* \" * r)\n",
        "\n",
        "      # For all other rows\n",
        "      else:\n",
        "        print(\"*\")\n",
        "\n",
        "# Printing O Pattern\n",
        "print(f\"\\nO Star Pattern till {r} rows is:\\n \")\n",
        "\n",
        "for i in range(0, r):\n",
        "\n",
        "      # For last line\n",
        "      if i == 0 or i == r-1:\n",
        "        print(\"* \" * (r//2 + 2))\n",
        "\n",
        "      # For all other rows\n",
        "      else:\n",
        "        print(\"*\" + \" \" * r + \"*\")\n",
        "\n",
        "\n",
        "# Printing I Pattern\n",
        "print(f\"\\nI Star Pattern till {r} rows is:\\n \")\n",
        "\n",
        "for i in range(0, r):\n",
        "\n",
        "  if i == 0 or i == r-1:\n",
        "\n",
        "    # For Even Number of Rows\n",
        "    if r % 2 == 0:\n",
        "      print(\"* \" * (r+1))\n",
        "\n",
        "    # For Odd Number of Rows\n",
        "    else:\n",
        "      print(\"* \" * r)\n",
        "\n",
        "  else:\n",
        "    print(\" \" * ( 2 * (r//2)) + \"*\")"
      ],
      "metadata": {
        "id": "pJl2ieauc3lv",
        "colab": {
          "base_uri": "https://localhost:8080/"
        },
        "outputId": "b8f62fb9-fb6a-46e6-82ec-09dd3bfba0bc"
      },
      "execution_count": null,
      "outputs": [
        {
          "output_type": "stream",
          "name": "stdout",
          "text": [
            "Enter Number of Rows: 7\n",
            "H Star Pattern till 7 rows is:\n",
            " \n",
            "*       *\n",
            "*       *\n",
            "*       *\n",
            "* * * * * \n",
            "*       *\n",
            "*       *\n",
            "*       *\n",
            "\n",
            "B Star Pattern till 7 rows is:\n",
            " \n",
            "* * * * * \n",
            "*       *\n",
            "*       *\n",
            "* * * * * \n",
            "*       *\n",
            "*       *\n",
            "* * * * * \n",
            "\n",
            "E Star Pattern till 7 rows is:\n",
            " \n",
            "* * * * * \n",
            "*\n",
            "*\n",
            "* * * * * \n",
            "*\n",
            "*\n",
            "* * * * * \n",
            "\n",
            "L Star Pattern till 7 rows is: \n",
            "\n",
            "*\n",
            "*\n",
            "*\n",
            "*\n",
            "*\n",
            "*\n",
            "* * * * * * * \n",
            "\n",
            "O Star Pattern till 7 rows is:\n",
            " \n",
            "* * * * * \n",
            "*       *\n",
            "*       *\n",
            "*       *\n",
            "*       *\n",
            "*       *\n",
            "* * * * * \n",
            "\n",
            "I Star Pattern till 7 rows is:\n",
            " \n",
            "* * * * * * * \n",
            "      *\n",
            "      *\n",
            "      *\n",
            "      *\n",
            "      *\n",
            "* * * * * * * \n"
          ]
        }
      ]
    },
    {
      "cell_type": "markdown",
      "source": [
        "## Printing All Above Pattern using functions"
      ],
      "metadata": {
        "id": "srOMzaufdlIJ"
      }
    },
    {
      "cell_type": "markdown",
      "source": [
        "## Defining Functions"
      ],
      "metadata": {
        "id": "yNQXM160-IMw"
      }
    },
    {
      "cell_type": "code",
      "source": [
        "# Now we can see that same lines of codes are used again for printing different shapes\n",
        "# We can define functions for this then we can call this functions to print\n",
        "\n",
        "# For One star\n",
        "# For printing only one star\n",
        "def oneStar():\n",
        "  return \"*\"\n",
        "\n",
        "# For Two star\n",
        "# For printing Two star and Space between this two stars\n",
        "def twoStarSpace(r):\n",
        "\n",
        "  # For Even Rows\n",
        "  if r % 2== 0:\n",
        "    return \"*\" + \" \" * (r+1) + \"*\"\n",
        "\n",
        "  # For Odd Rows\n",
        "  else:\n",
        "    return \"*\" + \" \" * r + \"*\"\n",
        "\n",
        "# For Line of Stars in half for middle line\n",
        "def lineStarHalf(r):\n",
        "  return \"* \" * ((r//2) + 2)\n",
        "\n",
        "\n",
        "# For Full line of Stars\n",
        "def lineStarFull(r):\n",
        "  return \"* \" * r\n",
        "\n",
        "\n",
        "def linePartitionStar(r):\n",
        "  return \" \" * ( 2 * (r//2)) + \"*\""
      ],
      "metadata": {
        "id": "_eC4QtbM-DCV"
      },
      "execution_count": null,
      "outputs": []
    },
    {
      "cell_type": "markdown",
      "source": [
        "## Printing Pattern Using Functions"
      ],
      "metadata": {
        "id": "E4DQE2hE-M1z"
      }
    },
    {
      "cell_type": "code",
      "source": [
        "# Now to print shape instead of writing code again and again we can call this functions\n",
        "# Number of rows as input\n",
        "try:\n",
        "  r = int(input(\"Enter Number of Rows: \"))\n",
        "except :\n",
        "  print(\"Please Enter an Integer Number!!\")\n",
        "\n",
        "# For this pattern to be printed we need more than 3 rows\n",
        "# Thus if r is less than 3 we increment\n",
        "if r < 3:\n",
        "  r = 3\n",
        "\n",
        "#  Printing H Pattern\n",
        "print(f\"\\nH Star Pattern till {r} rows is:\\n\")\n",
        "\n",
        "# Printing H Pattern\n",
        "for i in range(0, r):\n",
        "\n",
        "  if i ==  r//2:\n",
        "\n",
        "    # For Middle Row\n",
        "    print(lineStarHalf(r))\n",
        "\n",
        "  else:\n",
        "    # For all other Rows\n",
        "    print(twoStarSpace(r))\n",
        "\n",
        "\n",
        "#  Printing B Pattern\n",
        "print(f\"\\nB Star Pattern till {r} rows is:\\n\")\n",
        "\n",
        "# Printing B Pattern\n",
        "for i in range(0, r):\n",
        "\n",
        "  if i == 0 or i ==  r//2 or i == r-1:\n",
        "\n",
        "    # For First Row, Middle Row and Last Row\n",
        "    print(lineStarHalf(r))\n",
        "\n",
        "  else:\n",
        "\n",
        "    # For all other Rows\n",
        "    print(twoStarSpace(r))\n",
        "\n",
        "\n",
        "# Printing E Pattern\n",
        "print(f\"\\nE Star Pattern till {r} rows is:\\n\")\n",
        "\n",
        "# Printing E Pattern\n",
        "for i in range(0, r):\n",
        "\n",
        "  if i == 0 or i ==  r//2 or i == r-1:\n",
        "\n",
        "    # For First Row, Middle Row and Last Row\n",
        "    print(lineStarHalf(r))\n",
        "\n",
        "  else:\n",
        "\n",
        "    # For all other Rows\n",
        "    print(oneStar())\n",
        "\n",
        "\n",
        "# Printing L Pattern\n",
        "print(f\"\\nL Star Pattern till {r} rows is:\\n\")\n",
        "\n",
        "# Printing L Pattern\n",
        "for i in range(0, r):\n",
        "\n",
        "  if i == r-1:\n",
        "\n",
        "    # For Last Row\n",
        "    print(lineStarFull(r))\n",
        "\n",
        "  else:\n",
        "\n",
        "    # For all other Rows\n",
        "    print(oneStar())\n",
        "\n",
        "\n",
        "# Printing O Pattern\n",
        "print(f\"\\nO Star Pattern till {r} rows is:\\n\")\n",
        "\n",
        "# Printing O Pattern\n",
        "for i in range(0, r):\n",
        "\n",
        "  if i == 0 or i == r-1:\n",
        "\n",
        "    # For First and Last Row\n",
        "    print(lineStarHalf(r))\n",
        "\n",
        "  else:\n",
        "\n",
        "    # For all other Rows\n",
        "    print(twoStarSpace(r))\n",
        "\n",
        "\n",
        "# Printing I Pattern\n",
        "print(f\"\\nI Star Pattern till {r} rows is:\\n\")\n",
        "\n",
        "# Printing I Pattern\n",
        "for i in range(0, r):\n",
        "\n",
        "  if i == 0 or i == r-1:\n",
        "\n",
        "    # For First and Last Row\n",
        "    print(lineStarFull(r))\n",
        "\n",
        "  else:\n",
        "\n",
        "    # For all other Rows\n",
        "    print(linePartitionStar(r))"
      ],
      "metadata": {
        "colab": {
          "base_uri": "https://localhost:8080/"
        },
        "id": "DVwhXALDXXsJ",
        "outputId": "0c9c1ded-421b-43f7-910a-701d7c3ad061"
      },
      "execution_count": null,
      "outputs": [
        {
          "output_type": "stream",
          "name": "stdout",
          "text": [
            "Enter Number of Rows: 7\n",
            "\n",
            "H Star Pattern till 7 rows is:\n",
            "\n",
            "*       *\n",
            "*       *\n",
            "*       *\n",
            "* * * * * \n",
            "*       *\n",
            "*       *\n",
            "*       *\n",
            "\n",
            "B Star Pattern till 7 rows is:\n",
            "\n",
            "* * * * * \n",
            "*       *\n",
            "*       *\n",
            "* * * * * \n",
            "*       *\n",
            "*       *\n",
            "* * * * * \n",
            "\n",
            "E Star Pattern till 7 rows is:\n",
            "\n",
            "* * * * * \n",
            "*\n",
            "*\n",
            "* * * * * \n",
            "*\n",
            "*\n",
            "* * * * * \n",
            "\n",
            "L Star Pattern till 7 rows is:\n",
            "\n",
            "*\n",
            "*\n",
            "*\n",
            "*\n",
            "*\n",
            "*\n",
            "* * * * * * * \n",
            "\n",
            "O Star Pattern till 7 rows is:\n",
            "\n",
            "* * * * * \n",
            "*       *\n",
            "*       *\n",
            "*       *\n",
            "*       *\n",
            "*       *\n",
            "* * * * * \n",
            "\n",
            "I Star Pattern till 7 rows is:\n",
            "\n",
            "* * * * * * * \n",
            "      *\n",
            "      *\n",
            "      *\n",
            "      *\n",
            "      *\n",
            "* * * * * * * \n"
          ]
        }
      ]
    },
    {
      "cell_type": "markdown",
      "source": [
        "## Printing HELLO in one line with Stars"
      ],
      "metadata": {
        "id": "cjtF4DgVdrIC"
      }
    },
    {
      "cell_type": "code",
      "source": [
        "# Now to print shape instead of writing code again and again we can call this functions\n",
        "# Number of rows as input\n",
        "try:\n",
        "  r = int(input(\"Enter Number of Rows: \"))\n",
        "except :\n",
        "  print(\"Please Enter an Integer Number!!\")\n",
        "\n",
        "# For this pattern to be printed we need more than 3 rows\n",
        "# Thus if r is less than 3 we increment\n",
        "if r < 3:\n",
        "  r = 3\n",
        "\n",
        "#  Printing H Pattern\n",
        "print(f\"\\nHELLO Star Pattern till {r} rows is:\\n\")\n",
        "\n",
        "#  Printing HELLO Pattern\n",
        "for i in range(0, r):\n",
        "\n",
        "  # Printing H Pattern\n",
        "  if i ==  r//2:\n",
        "\n",
        "    # For Middle Row\n",
        "    print(lineStarHalf(r),end=\"\")\n",
        "\n",
        "  else:\n",
        "    # For all other Rows\n",
        "    print(twoStarSpace(r),end=\"\")\n",
        "\n",
        "  if i == r//2:\n",
        "    print(\" \" * 3 , end =\"\")\n",
        "\n",
        "  else:\n",
        "    print(\" \" * 4, end=\"\")\n",
        "\n",
        "  # Printing E Pattern\n",
        "  if i == 0 or i ==  r//2 or i == r-1:\n",
        "\n",
        "    # For First Row, Middle Row and Last Row\n",
        "    print(lineStarHalf(r),end=\"\")\n",
        "\n",
        "  else:\n",
        "\n",
        "    # For all other Rows\n",
        "    print(oneStar(),end=\"\")\n",
        "\n",
        "  print(\" \" * 4, end=\"\")\n",
        "\n",
        "\n",
        "  # Printing First L Pattern\n",
        "  if i == r-1:\n",
        "\n",
        "    # For Last Row\n",
        "    print(lineStarFull(r),end=\"\")\n",
        "\n",
        "  else:\n",
        "\n",
        "    if i == 0 or i == r-((r//2) +1):\n",
        "      print(oneStar(),end=\"\")\n",
        "\n",
        "    else:\n",
        "      print(\" \" * (2*(r//2) + 3) + oneStar(),end=\"\")\n",
        "\n",
        "\n",
        "  print(\" \" * 4, end=\"\")\n",
        "\n",
        "  # Printing Second L Pattern\n",
        "  if i == r-1:\n",
        "\n",
        "    # For Last Row\n",
        "    print(lineStarFull(r),end=\"\")\n",
        "\n",
        "  else:\n",
        "\n",
        "    if i != r-1:\n",
        "      print(\" \" * (2*(r//2) + r) + oneStar(),end=\"\")\n",
        "\n",
        "    else:\n",
        "      print(\" \" * (2*(r//2) + 3) + oneStar(),end=\"\")\n",
        "\n",
        "  print(\" \" * 4, end=\"\")\n",
        "\n",
        "  # Printing O Pattern\n",
        "  if i == 0:\n",
        "    print(\" \" * (2*(r//2) + r) + lineStarHalf(r),end=\"\")\n",
        "\n",
        "  elif i == r-1:\n",
        "    print(lineStarHalf(r),end=\"\")\n",
        "\n",
        "  else:\n",
        "\n",
        "    # For all other Rows\n",
        "    print(\" \" * (2*(r//2) + r) + twoStarSpace(r),end=\"\")\n",
        "\n",
        "  print()"
      ],
      "metadata": {
        "colab": {
          "base_uri": "https://localhost:8080/"
        },
        "id": "Y2pApyYI97lb",
        "outputId": "905c7c3f-50f0-4ae8-8f36-5296e817e37d"
      },
      "execution_count": null,
      "outputs": [
        {
          "output_type": "stream",
          "name": "stdout",
          "text": [
            "Enter Number of Rows: 7\n",
            "\n",
            "HELLO Star Pattern till 7 rows is:\n",
            "\n",
            "*       *    * * * * *     *                 *                 * * * * * \n",
            "*       *    *             *                 *                 *       *\n",
            "*       *    *             *                 *                 *       *\n",
            "* * * * *    * * * * *     *                 *                 *       *\n",
            "*       *    *             *                 *                 *       *\n",
            "*       *    *             *                 *                 *       *\n",
            "*       *    * * * * *     * * * * * * *     * * * * * * *     * * * * * \n"
          ]
        }
      ]
    },
    {
      "cell_type": "markdown",
      "source": [
        "## Printing Other Alphabet Shapes"
      ],
      "metadata": {
        "id": "w_IxiPEAV1Se"
      }
    },
    {
      "cell_type": "code",
      "source": [
        "# Only works for r = 7\n",
        "\n",
        "# Number of rows as input\n",
        "try:\n",
        "  r = int(input(\"Enter Number of Rows: \"))\n",
        "except :\n",
        "  print(\"Please Enter an Integer Number!!\")\n",
        "\n",
        "# For this pattern to be printed we need more than 3 rows\n",
        "# Thus if r is less than 3 we increment\n",
        "if r < 3:\n",
        "  r = 3\n",
        "\n",
        "#  Printing M Pattern\n",
        "print(f\"\\nM Star Pattern till {r} rows is:\\n\")\n",
        "\n",
        "# Printing M Pattern\n",
        "for i in range(0, r):\n",
        "\n",
        "  print(\"*\",end=\"\")\n",
        "\n",
        "  if i <= r//2 and i != 0:\n",
        "\n",
        "    if i == 1:\n",
        "      print(\" \" * i + \"*\" + \" \" * (i+2) + \"*\" + \" *\" , end=\"\")\n",
        "\n",
        "    elif i == 2 :\n",
        "      print(\" \" * i + \"*\" + \" *\" +  \" \" * i + \"*\" , end=\"\")\n",
        "\n",
        "    else:\n",
        "      print(\" \" * i + \"*\" + \" \" * i + \"*\" , end=\"\")\n",
        "\n",
        "  else:\n",
        "    print(\" \" * r + \"*\" ,end=\"\")\n",
        "\n",
        "  print()\n",
        "\n",
        "#  Printing W Pattern\n",
        "print(f\"\\nW Star Pattern till {r} rows is:\\n\")\n",
        "\n",
        "# Printing W Pattern\n",
        "for i in range(0, r):\n",
        "\n",
        "  print(\"*\",end=\"\")\n",
        "\n",
        "  if i >= r//2 and i != 0 and i != r-1:\n",
        "\n",
        "    if i == r//2:\n",
        "      print(\" \" * i + \"*\" + \" \" * i + \"*\" , end=\"\")\n",
        "\n",
        "    elif i == r//2 +1:\n",
        "      print(\"  *\" +  \" * \" + \" *\" , end=\"\")\n",
        "\n",
        "    else:\n",
        "      print(\" *\" + \" \" * (i-2) + \"* \" + \"*\" , end=\"\")\n",
        "\n",
        "  else:\n",
        "    print(\" \" * r + \"*\" ,end=\"\")\n",
        "\n",
        "  print()"
      ],
      "metadata": {
        "colab": {
          "base_uri": "https://localhost:8080/"
        },
        "id": "b7bMqhQaQfGi",
        "outputId": "27929aaa-f498-49c6-9628-7f1dc136517b"
      },
      "execution_count": null,
      "outputs": [
        {
          "output_type": "stream",
          "name": "stdout",
          "text": [
            "Enter Number of Rows: 7\n",
            "\n",
            "M Star Pattern till 7 rows is:\n",
            "\n",
            "*       *\n",
            "* *   * *\n",
            "*  * *  *\n",
            "*   *   *\n",
            "*       *\n",
            "*       *\n",
            "*       *\n",
            "\n",
            "W Star Pattern till 7 rows is:\n",
            "\n",
            "*       *\n",
            "*       *\n",
            "*       *\n",
            "*   *   *\n",
            "*  * *  *\n",
            "* *   * *\n",
            "*       *\n"
          ]
        }
      ]
    },
    {
      "cell_type": "code",
      "source": [
        "# Printing A Pattern\n",
        "# Number of rows as input\n",
        "try:\n",
        "  r = int(input(\"Enter Number of Rows: \"))\n",
        "except :\n",
        "  print(\"Please Enter an Integer Number!!\")\n",
        "\n",
        "# For this pattern to be printed we need more than 3 rows\n",
        "# Thus if r is less than 3 we increment\n",
        "if r < 3:\n",
        "  r = 3\n",
        "\n",
        "#  Printing A Pattern\n",
        "print(f\"\\nA Star Pattern till {r} rows is:\\n\")\n",
        "\n",
        "# Printing A Pattern\n",
        "for i in range(0, r):\n",
        "\n",
        "  # For First and Middle Rows\n",
        "  if i == 0 or i == r//2:\n",
        "    print(lineStarHalf(r))\n",
        "\n",
        "  else:\n",
        "    print(twoStarSpace(r))"
      ],
      "metadata": {
        "colab": {
          "base_uri": "https://localhost:8080/"
        },
        "id": "S03mU46kzX0i",
        "outputId": "c5bb8263-b4f0-4168-bb30-ac1ac875c8f2"
      },
      "execution_count": null,
      "outputs": [
        {
          "output_type": "stream",
          "name": "stdout",
          "text": [
            "Enter Number of Rows: 7\n",
            "\n",
            "A Star Pattern till 7 rows is:\n",
            "\n",
            "* * * * * \n",
            "*       *\n",
            "*       *\n",
            "* * * * * \n",
            "*       *\n",
            "*       *\n",
            "*       *\n"
          ]
        }
      ]
    },
    {
      "cell_type": "code",
      "source": [
        "# Printing R Pattern\n",
        "\n",
        "# Number of rows as input\n",
        "try:\n",
        "  r = int(input(\"Enter Number of Rows: \"))\n",
        "except :\n",
        "  print(\"Please Enter an Integer Number!!\")\n",
        "\n",
        "# For this pattern to be printed we need more than 3 rows\n",
        "# Thus if r is less than 3 we increment\n",
        "if r < 3:\n",
        "  r = 3\n",
        "\n",
        "#  Printing R Pattern\n",
        "print(f\"\\nR Star Pattern till {r} rows is:\\n\")\n",
        "\n",
        "# Printing R Pattern\n",
        "for i in range(0, r):\n",
        "\n",
        "  # For First and Middle Rows\n",
        "  if i == 0 or i == r//2:\n",
        "    print(lineStarHalf(r))\n",
        "\n",
        "  elif i > r//2:\n",
        "    print(oneStar(), end = \"\")\n",
        "    print(\" \" * i + \"*\" ,end=\"\")\n",
        "    print()\n",
        "\n",
        "  else:\n",
        "    print(twoStarSpace(r))"
      ],
      "metadata": {
        "colab": {
          "base_uri": "https://localhost:8080/"
        },
        "id": "dckDxM3a7-_e",
        "outputId": "7a962ee1-f0a1-41e8-cab6-e1a124f106f1"
      },
      "execution_count": null,
      "outputs": [
        {
          "output_type": "stream",
          "name": "stdout",
          "text": [
            "Enter Number of Rows: 9\n",
            "\n",
            "R Star Pattern till 9 rows is:\n",
            "\n",
            "* * * * * * \n",
            "*         *\n",
            "*         *\n",
            "*         *\n",
            "* * * * * * \n",
            "*     *\n",
            "*      *\n",
            "*       *\n",
            "*        *\n"
          ]
        }
      ]
    },
    {
      "cell_type": "markdown",
      "source": [
        "## Printing MADHURIMA in One Line"
      ],
      "metadata": {
        "id": "LYD-W1n3-CkT"
      }
    },
    {
      "cell_type": "code",
      "source": [
        "# Now to print shape instead of writing code again and again we can call this functions\n",
        "# Only works for r = 7\n",
        "\n",
        "# Number of rows as input\n",
        "try:\n",
        "  r = int(input(\"Enter Number of Rows: \"))\n",
        "except :\n",
        "  print(\"Please Enter an Integer Number!!\")\n",
        "\n",
        "# For this pattern to be printed we need more than 3 rows\n",
        "# Thus if r is less than 3 we increment\n",
        "if r < 3:\n",
        "  r = 3\n",
        "\n",
        "#  Printing MADHURIMA Pattern\n",
        "print(f\"\\nMADHURIMA Star Pattern till {r} rows is:\\n\")\n",
        "\n",
        "#  Printing MADHURIMA Pattern\n",
        "for i in range(0, r):\n",
        "\n",
        "  # Printing M Pattern\n",
        "  print(\"*\",end=\"\")\n",
        "\n",
        "  if i <= r//2 and i != 0:\n",
        "\n",
        "    if i == 1:\n",
        "      print(\" \" * i + \"*\" + \" \" * (i+2) + \"*\" + \" *\" , end=\"\")\n",
        "\n",
        "    elif i == 2 :\n",
        "      print(\" \" * i + \"*\" + \" *\" +  \" \" * i + \"*\" , end=\"\")\n",
        "\n",
        "    else:\n",
        "      print(\" \" * i + \"*\" + \" \" * i + \"*\" , end=\"\")\n",
        "\n",
        "  else:\n",
        "    print(\" \" * r + \"*\" ,end=\"\")\n",
        "\n",
        "  print(\" \" * 4, end=\"\")\n",
        "\n",
        "\n",
        "  # Printing A Pattern\n",
        "  # For First and Middle Rows\n",
        "  if i == 0 or i == r//2:\n",
        "    print(lineStarHalf(r), end = \"\")\n",
        "\n",
        "  else:\n",
        "    print(twoStarSpace(r), end = \"\")\n",
        "\n",
        "  # For Space between Letters\n",
        "  if (i == 0 or i == r//2):\n",
        "    print(\" \" * 3, end=\"\")\n",
        "  else:\n",
        "    print(\" \" * 4, end=\"\")\n",
        "\n",
        "  # Printing D Pattern\n",
        "  if i == 0 or i == r-1:\n",
        "\n",
        "    # For First and Last Row\n",
        "    print(lineStarHalf(r),end=\"\")\n",
        "\n",
        "  else:\n",
        "\n",
        "    # For all other Rows\n",
        "    print(twoStarSpace(r),end=\"\")\n",
        "\n",
        "  if i == 0 or i == r-1:\n",
        "    print(\" \" * 2, end=\"\")\n",
        "\n",
        "  else:\n",
        "    print(\" \" * 3, end=\"\")\n",
        "\n",
        "  # Printing H Pattern\n",
        "  if i ==  r//2:\n",
        "\n",
        "    # For Middle Row\n",
        "    print(lineStarHalf(r),end=\"\")\n",
        "\n",
        "  else:\n",
        "    # For all other Rows\n",
        "    print(twoStarSpace(r),end=\"\")\n",
        "\n",
        "  if i == r//2:\n",
        "    print(\" \" * 2, end=\"\")\n",
        "  else:\n",
        "    print(\" \" * 3, end=\"\")\n",
        "\n",
        "  # Printing U Pattern\n",
        "  if i ==  r-1:\n",
        "\n",
        "    # For Last Row\n",
        "    print(lineStarHalf(r),end=\"\")\n",
        "\n",
        "  else:\n",
        "    # For all other Rows\n",
        "    print(twoStarSpace(r),end=\"\")\n",
        "\n",
        "  if i == r-1:\n",
        "    print(\" \" * 2, end=\"\")\n",
        "  else:\n",
        "    print(\" \" * 3, end=\"\")\n",
        "\n",
        "  # Printing R\n",
        "  # For First and Middle Rows\n",
        "  if i == 0 or i == r//2:\n",
        "    print(lineStarHalf(r), end = \"\")\n",
        "\n",
        "  elif i > r//2:\n",
        "    print(oneStar(), end = \"\")\n",
        "    print(\" \" * i + \"*\" ,end=\"\")\n",
        "\n",
        "  else:\n",
        "    print(twoStarSpace(r),end = \"\")\n",
        "\n",
        "  if i == r-1 :\n",
        "    print(\" \" * 5, end=\"\")\n",
        "\n",
        "  elif i == 2 or i == 1:\n",
        "    print(\" \" * 4, end=\"\")\n",
        "\n",
        "  elif i == 0 or i == 3:\n",
        "    print(\" \" * 3, end=\"\")\n",
        "\n",
        "  elif i == 5:\n",
        "    print(\" \" * 6, end=\"\")\n",
        "\n",
        "  else:\n",
        "    print(\" \" * 7, end=\"\")\n",
        "\n",
        "  # Printing I Pattern\n",
        "  if i == 0 or i == r-1:\n",
        "\n",
        "    # For First and Last Row\n",
        "    print(lineStarFull(r),end = \"\")\n",
        "\n",
        "  else:\n",
        "\n",
        "    # For all other Rows\n",
        "    print(linePartitionStar(r), end = \"\")\n",
        "\n",
        "  if i == 0 or i == r-1:\n",
        "    print(\" \" * 3, end =\"\")\n",
        "\n",
        "  else:\n",
        "    print(\" \" * 10, end=\"\")\n",
        "\n",
        "\n",
        "  # Printing M Pattern\n",
        "  print(\"*\",end=\"\")\n",
        "\n",
        "  if i <= r//2 and i != 0:\n",
        "\n",
        "    if i == 1:\n",
        "      print(\" \" * i + \"*\" + \" \" * (i+2) + \"*\" + \" *\" , end=\"\")\n",
        "\n",
        "    elif i == 2 :\n",
        "      print(\" \" * i + \"*\" + \" *\" +  \" \" * i + \"*\" , end=\"\")\n",
        "\n",
        "    else:\n",
        "      print(\" \" * i + \"*\" + \" \" * i + \"*\" , end=\"\")\n",
        "\n",
        "  else:\n",
        "    print(\" \" * r + \"*\" ,end=\"\")\n",
        "\n",
        "  print(\" \" * 4, end=\"\")\n",
        "\n",
        "\n",
        "  # Printing A Pattern\n",
        "  # For First and Middle Rows\n",
        "  if i == 0 or i == r//2:\n",
        "    print(lineStarHalf(r), end = \"\")\n",
        "\n",
        "  else:\n",
        "    print(twoStarSpace(r), end = \"\")\n",
        "\n",
        "  print()"
      ],
      "metadata": {
        "colab": {
          "base_uri": "https://localhost:8080/"
        },
        "id": "fDA47W2g86Ov",
        "outputId": "a17547b8-c272-4be1-8680-b58c687bdc29"
      },
      "execution_count": null,
      "outputs": [
        {
          "output_type": "stream",
          "name": "stdout",
          "text": [
            "Enter Number of Rows: 7\n",
            "\n",
            "MADHURIMA Star Pattern till 7 rows is:\n",
            "\n",
            "*       *    * * * * *    * * * * *   *       *   *       *   * * * * *    * * * * * * *    *       *    * * * * * \n",
            "* *   * *    *       *    *       *   *       *   *       *   *       *          *          * *   * *    *       *\n",
            "*  * *  *    *       *    *       *   *       *   *       *   *       *          *          *  * *  *    *       *\n",
            "*   *   *    * * * * *    *       *   * * * * *   *       *   * * * * *          *          *   *   *    * * * * * \n",
            "*       *    *       *    *       *   *       *   *       *   *    *             *          *       *    *       *\n",
            "*       *    *       *    *       *   *       *   *       *   *     *            *          *       *    *       *\n",
            "*       *    *       *    * * * * *   *       *   * * * * *   *      *     * * * * * * *    *       *    *       *\n"
          ]
        }
      ]
    },
    {
      "cell_type": "markdown",
      "source": [
        "## Printing RAWAT in One Line"
      ],
      "metadata": {
        "id": "YgIz4OWSeRSN"
      }
    },
    {
      "cell_type": "code",
      "source": [
        "# Now to print shape instead of writing code again and again we can call this functions\n",
        "# Only works for r = 7\n",
        "\n",
        "# Number of rows as input\n",
        "try:\n",
        "  r = int(input(\"Enter Number of Rows: \"))\n",
        "except :\n",
        "  print(\"Please Enter an Integer Number!!\")\n",
        "\n",
        "# For this pattern to be printed we need more than 3 rows\n",
        "# Thus if r is less than 3 we increment\n",
        "if r < 3:\n",
        "  r = 3\n",
        "\n",
        "#  Printing RAWAT Pattern\n",
        "print(f\"\\nRAWAT Star Pattern till {r} rows is:\\n\")\n",
        "\n",
        "#  Printing RAWAT Pattern\n",
        "for i in range(0, r):\n",
        "\n",
        "  # Printing R\n",
        "  # For First and Middle Rows\n",
        "  if i == 0 or i == r//2:\n",
        "    print(lineStarHalf(r), end = \"\")\n",
        "\n",
        "  elif i > r//2:\n",
        "    print(oneStar(), end = \"\")\n",
        "    print(\" \" * i + \"*\" ,end=\"\")\n",
        "\n",
        "  else:\n",
        "    print(twoStarSpace(r),end = \"\")\n",
        "\n",
        "  # For Space between Letters\n",
        "  if i == 0 or i == r//2:\n",
        "    print(\" \" * 3, end=\"\")\n",
        "  elif i == 1 or i == 2:\n",
        "    print(\" \" * 4, end=\"\")\n",
        "  elif i == 5:\n",
        "    print(\" \" * 6, end=\"\")\n",
        "  elif i == r-1:\n",
        "    print(\" \" * 5, end=\"\")\n",
        "  else:\n",
        "    print(\" \" * 7, end=\"\")\n",
        "\n",
        "\n",
        "  # Printing A Pattern\n",
        "  # For First and Middle Rows\n",
        "  if i == 0 or i == r//2:\n",
        "    print(lineStarHalf(r), end = \"\")\n",
        "\n",
        "  else:\n",
        "    print(twoStarSpace(r), end = \"\")\n",
        "\n",
        "  # For Space between Letters\n",
        "  if i == 0 or i == r//2:\n",
        "    print(\" \" * 3, end=\"\")\n",
        "  else:\n",
        "    print(\" \" * 4, end=\"\")\n",
        "\n",
        "  # Printing W Pattern\n",
        "  print(\"*\",end=\"\")\n",
        "\n",
        "  if i >= r//2 and i != 0 and i != r-1:\n",
        "\n",
        "    if i == r//2:\n",
        "      print(\" \" * i + \"*\" + \" \" * i + \"*\" , end=\"\")\n",
        "\n",
        "    elif i == r//2 +1:\n",
        "      print(\"  *\" +  \" * \" + \" *\" , end=\"\")\n",
        "\n",
        "    else:\n",
        "      print(\" *\" + \" \" * (i-2) + \"* \" + \"*\" , end=\"\")\n",
        "\n",
        "  else:\n",
        "    print(\" \" * r + \"*\" ,end=\"\")\n",
        "\n",
        "  # For Space between Letters\n",
        "  print(\" \" * 4, end=\"\")\n",
        "\n",
        "\n",
        "  # Printing A Pattern\n",
        "  # For First and Middle Rows\n",
        "  if i == 0 or i == r//2:\n",
        "    print(lineStarHalf(r), end = \"\")\n",
        "\n",
        "  else:\n",
        "    print(twoStarSpace(r), end = \"\")\n",
        "\n",
        "  # For Space between Letters\n",
        "  if i == 0:\n",
        "    print(\" \" * 4, end=\"\")\n",
        "  elif i == r//2:\n",
        "    print(\" \" * 2, end=\"\")\n",
        "  else:\n",
        "    print(\" \" * 3, end=\"\")\n",
        "\n",
        "  # Printing T Pattern\n",
        "  if i == 0:\n",
        "\n",
        "    # For First Row\n",
        "    print(lineStarHalf(r), end = \"\")\n",
        "\n",
        "  else:\n",
        "    # For all other Rows\n",
        "    print(linePartitionStar(r), end = \"\")\n",
        "\n",
        "  print()"
      ],
      "metadata": {
        "colab": {
          "base_uri": "https://localhost:8080/"
        },
        "id": "pyptSbTweQPM",
        "outputId": "20f85845-2630-4b39-d959-3a276f46184f"
      },
      "execution_count": null,
      "outputs": [
        {
          "output_type": "stream",
          "name": "stdout",
          "text": [
            "Enter Number of Rows: 7\n",
            "\n",
            "RAWAT Star Pattern till 7 rows is:\n",
            "\n",
            "* * * * *    * * * * *    *       *    * * * * *     * * * * * \n",
            "*       *    *       *    *       *    *       *         *\n",
            "*       *    *       *    *       *    *       *         *\n",
            "* * * * *    * * * * *    *   *   *    * * * * *         *\n",
            "*    *       *       *    *  * *  *    *       *         *\n",
            "*     *      *       *    * *   * *    *       *         *\n",
            "*      *     *       *    *       *    *       *         *\n"
          ]
        }
      ]
    },
    {
      "cell_type": "markdown",
      "source": [
        "## Umbrella Pattern"
      ],
      "metadata": {
        "id": "VPDvxlAcpB4r"
      }
    },
    {
      "cell_type": "code",
      "source": [
        "# Now we can see that same lines of codes are used again for printing different shapes\n",
        "# We can define functions for this then we can call this functions to print\n",
        "\n",
        "# For One star\n",
        "# For printing only one star\n",
        "def oneStar():\n",
        "  return \"*\"\n",
        "\n",
        "# For Two star\n",
        "# For printing Two star and Space between this two stars\n",
        "def twoStarSpace(r):\n",
        "\n",
        "  # For Even Rows\n",
        "  if r % 2== 0:\n",
        "    return \"*\" + \" \" * (r+1) + \"*\"\n",
        "\n",
        "  # For Odd Rows\n",
        "  else:\n",
        "    return \"*\" + \" \" * r + \"*\"\n",
        "\n",
        "# For Line of Stars in half for middle line\n",
        "def lineStarHalf(r):\n",
        "  return \"* \" * ((r//2) + 2)\n",
        "\n",
        "\n",
        "# For Full line of Stars\n",
        "def lineStarFull(r):\n",
        "  return \"* \" * r\n",
        "\n",
        "\n",
        "def linePartitionStar(r):\n",
        "  return \" \" * ( 2 * (r//2)) + \"*\""
      ],
      "metadata": {
        "id": "VJvjgUNUpWZa"
      },
      "execution_count": null,
      "outputs": []
    },
    {
      "cell_type": "code",
      "source": [
        "# Full Star Pattern\n",
        "# We are printing in odd number as for even number for 1 star the space is uneven with this formula\n",
        "\n",
        "# Number of rows as input\n",
        "r = int(input(\"Enter Number of Rows: \"))\n",
        "\n",
        "print(f\"Full Star Pattern till {r} rows is: \")\n",
        "\n",
        "# Printing Pattern till r rows\n",
        "for i in range(r+1,0,-1):\n",
        "\n",
        "  # For First Star Pattern\n",
        "  # We add Space and Star\n",
        "  print(\"  \" * (i-1) + \"* \" * (2*(r+1-i)+1))\n",
        "\n",
        "for i in range(0,r):\n",
        "\n",
        "  if i > r//2 and i < r-1:\n",
        "    print(linePartitionStar(2*r)  + \" \" * r  + \"*\")\n",
        "\n",
        "  # For last row\n",
        "  elif i == r-1:\n",
        "    print(linePartitionStar(2*r) + \" \" + lineStarHalf(r-2))\n",
        "\n",
        "  else:\n",
        "    print(linePartitionStar(2*r))"
      ],
      "metadata": {
        "colab": {
          "base_uri": "https://localhost:8080/"
        },
        "id": "QsKT6I5Mpb10",
        "outputId": "594ce58a-91a2-4e47-bfed-6a4900612088"
      },
      "execution_count": null,
      "outputs": [
        {
          "output_type": "stream",
          "name": "stdout",
          "text": [
            "Enter Number of Rows: 7\n",
            "Full Star Pattern till 7 rows is: \n",
            "              * \n",
            "            * * * \n",
            "          * * * * * \n",
            "        * * * * * * * \n",
            "      * * * * * * * * * \n",
            "    * * * * * * * * * * * \n",
            "  * * * * * * * * * * * * * \n",
            "* * * * * * * * * * * * * * * \n",
            "              *\n",
            "              *\n",
            "              *\n",
            "              *\n",
            "              *       *\n",
            "              *       *\n",
            "              * * * * * \n"
          ]
        }
      ]
    },
    {
      "cell_type": "markdown",
      "source": [
        "## Printing  Full House Pattern"
      ],
      "metadata": {
        "id": "Bn_GZAKX48Mt"
      }
    },
    {
      "cell_type": "code",
      "source": [
        "# Full Star Pattern\n",
        "# We are printing in odd number as for even number for 1 star the space is uneven with this formula\n",
        "\n",
        "# Number of rows as input\n",
        "r = int(input(\"Enter Number of Rows: \"))\n",
        "\n",
        "print(f\"Full Star Pattern till {r} rows is: \")\n",
        "\n",
        "# Printing Pattern till r rows\n",
        "for i in range(r+1,0,-1):\n",
        "\n",
        "  # For First Star Pattern\n",
        "  # We add Space and Star\n",
        "  if i == r+1 or i == 0:\n",
        "    print(\"  \" * (i-1) + \"* \" * (2*(r+1-i)+1) + \"* \" * (2*r + 1) )\n",
        "  else:\n",
        "    print(\"  \" * (i-1) + \"* \" * (2*(r+1-i)+1) + \"  \" * (2*r) + \"*\" )\n",
        "\n",
        "# Printing Rectangle Pattern\n",
        "for i in range(0,r):\n",
        "  print(\"* \" * (4*r + 2))"
      ],
      "metadata": {
        "colab": {
          "base_uri": "https://localhost:8080/"
        },
        "id": "drxUXqYl4_Kw",
        "outputId": "4c328245-f287-4ac9-d2ca-e3fb8475c19e"
      },
      "execution_count": null,
      "outputs": [
        {
          "output_type": "stream",
          "name": "stdout",
          "text": [
            "Enter Number of Rows: 9\n",
            "Full Star Pattern till 9 rows is: \n",
            "                  * * * * * * * * * * * * * * * * * * * * \n",
            "                * * *                                     *\n",
            "              * * * * *                                     *\n",
            "            * * * * * * *                                     *\n",
            "          * * * * * * * * *                                     *\n",
            "        * * * * * * * * * * *                                     *\n",
            "      * * * * * * * * * * * * *                                     *\n",
            "    * * * * * * * * * * * * * * *                                     *\n",
            "  * * * * * * * * * * * * * * * * *                                     *\n",
            "* * * * * * * * * * * * * * * * * * *                                     *\n",
            "* * * * * * * * * * * * * * * * * * * * * * * * * * * * * * * * * * * * * * \n",
            "* * * * * * * * * * * * * * * * * * * * * * * * * * * * * * * * * * * * * * \n",
            "* * * * * * * * * * * * * * * * * * * * * * * * * * * * * * * * * * * * * * \n",
            "* * * * * * * * * * * * * * * * * * * * * * * * * * * * * * * * * * * * * * \n",
            "* * * * * * * * * * * * * * * * * * * * * * * * * * * * * * * * * * * * * * \n",
            "* * * * * * * * * * * * * * * * * * * * * * * * * * * * * * * * * * * * * * \n",
            "* * * * * * * * * * * * * * * * * * * * * * * * * * * * * * * * * * * * * * \n",
            "* * * * * * * * * * * * * * * * * * * * * * * * * * * * * * * * * * * * * * \n",
            "* * * * * * * * * * * * * * * * * * * * * * * * * * * * * * * * * * * * * * \n"
          ]
        }
      ]
    },
    {
      "cell_type": "markdown",
      "source": [
        "## Printing Full House Pattern with empty triangle and filled rhombus"
      ],
      "metadata": {
        "id": "1Dkjo6LYML4X"
      }
    },
    {
      "cell_type": "code",
      "source": [
        "# Full Star Pattern\n",
        "# We are printing in odd number as for even number for 1 star the space is uneven with this formula\n",
        "\n",
        "# Number of rows as input\n",
        "r = int(input(\"Enter Number of Rows: \"))\n",
        "\n",
        "print(f\"Full Star Pattern till {r} rows is: \")\n",
        "\n",
        "# Printing Pattern till r rows\n",
        "for i in range(r+1,0,-1):\n",
        "\n",
        "  # For First Star Pattern\n",
        "  # We add Space and Star\n",
        "  # First Row\n",
        "  if i == r+1:\n",
        "      print(\"  \" * (i-1) + \"* \" * (2*(r+1-i)+1) + \"* \" * (2*r) )\n",
        "  # Last Row\n",
        "  elif i == 0:\n",
        "      print(\"  \" * (i-1) + \"* \" * (2*(r+1-i)+1) + \"* \" * (2*r + 1) )\n",
        "  # For All other rows\n",
        "  else:\n",
        "    print( \"  \" * (i-1) + \"*\" + \"  \" * (2*(r+1-i)) + \"* \" * (2*r + 1))\n",
        "\n",
        "# Printing Rectangle Pattern\n",
        "for i in range(0,r):\n",
        "  if i == 0 or i == r-1:\n",
        "    print(\"* \" * (4*r + 2))\n",
        "  else:\n",
        "    print(\"*\" + \" \" * (4*r) + \"*\" + \" \" * (4*r) + \"*\")"
      ],
      "metadata": {
        "colab": {
          "base_uri": "https://localhost:8080/"
        },
        "id": "hTiI56w1MKuQ",
        "outputId": "47ba21df-f7e2-498e-cb55-c3928f6b0560"
      },
      "execution_count": null,
      "outputs": [
        {
          "output_type": "stream",
          "name": "stdout",
          "text": [
            "Enter Number of Rows: 7\n",
            "Full Star Pattern till 7 rows is: \n",
            "              * * * * * * * * * * * * * * * \n",
            "            *    * * * * * * * * * * * * * * * \n",
            "          *        * * * * * * * * * * * * * * * \n",
            "        *            * * * * * * * * * * * * * * * \n",
            "      *                * * * * * * * * * * * * * * * \n",
            "    *                    * * * * * * * * * * * * * * * \n",
            "  *                        * * * * * * * * * * * * * * * \n",
            "*                            * * * * * * * * * * * * * * * \n",
            "* * * * * * * * * * * * * * * * * * * * * * * * * * * * * * \n",
            "*                            *                            *\n",
            "*                            *                            *\n",
            "*                            *                            *\n",
            "*                            *                            *\n",
            "*                            *                            *\n",
            "* * * * * * * * * * * * * * * * * * * * * * * * * * * * * * \n"
          ]
        }
      ]
    },
    {
      "cell_type": "markdown",
      "source": [
        "## Printing House Pattern Outline"
      ],
      "metadata": {
        "id": "KDjcRbVi6fDm"
      }
    },
    {
      "cell_type": "code",
      "source": [
        "# Full Star Pattern\n",
        "# We are printing in odd number as for even number for 1 star the space is uneven with this formula\n",
        "\n",
        "# Number of rows as input\n",
        "r = int(input(\"Enter Number of Rows: \"))\n",
        "\n",
        "print(f\"Full Star Pattern till {r} rows is: \")\n",
        "\n",
        "# Printing Pattern till r rows\n",
        "for i in range(r+1,0,-1):\n",
        "\n",
        "  # For First Star Pattern\n",
        "  # We add Space and Star\n",
        "  # First Row\n",
        "  if i == r+1:\n",
        "      print(\"  \" * (i-1) + \"* \" * (2*(r+1-i)+1) + \"* \" * (2*r) )\n",
        "  # Last Row\n",
        "  elif i == 0:\n",
        "      print(\"  \" * (i-1) + \"* \" * (2*(r+1-i)+1) + \"* \" * (2*r + 1) )\n",
        "  # For All other rows\n",
        "  else:\n",
        "    print( \"  \" * (i-1) + \"*\" + \"  \" * (2*(r+1-i)) + \"*\" + \"  \" * (2*r -1) + \"*\" )\n",
        "\n",
        "# Printing Rectangle Pattern\n",
        "for i in range(0,r):\n",
        "  if i == 0 or i == r-1:\n",
        "    print(\"* \" * (4*r + 2))\n",
        "  else:\n",
        "    print(\"*\" + \" \" * (4*r) + \"*\" + \" \" * (4*r) + \"*\")"
      ],
      "metadata": {
        "colab": {
          "base_uri": "https://localhost:8080/"
        },
        "id": "LxiRGB4c6eSU",
        "outputId": "02b884d3-4c7d-4a10-e52c-f60d4d9eb080"
      },
      "execution_count": null,
      "outputs": [
        {
          "output_type": "stream",
          "name": "stdout",
          "text": [
            "Enter Number of Rows: 7\n",
            "Full Star Pattern till 7 rows is: \n",
            "              * * * * * * * * * * * * * * * \n",
            "            *    *                          *\n",
            "          *        *                          *\n",
            "        *            *                          *\n",
            "      *                *                          *\n",
            "    *                    *                          *\n",
            "  *                        *                          *\n",
            "*                            *                          *\n",
            "* * * * * * * * * * * * * * * * * * * * * * * * * * * * * * \n",
            "*                            *                            *\n",
            "*                            *                            *\n",
            "*                            *                            *\n",
            "*                            *                            *\n",
            "*                            *                            *\n",
            "* * * * * * * * * * * * * * * * * * * * * * * * * * * * * * \n"
          ]
        }
      ]
    },
    {
      "cell_type": "markdown",
      "source": [
        "## Printing House Pattern Outline with Door"
      ],
      "metadata": {
        "id": "JAgJOOCS6Zox"
      }
    },
    {
      "cell_type": "code",
      "source": [
        "# Full Star Pattern\n",
        "# We are printing in odd number as for even number for 1 star the space is uneven with this formula\n",
        "# Only work for 7 or 9\n",
        "\n",
        "# Number of rows as input\n",
        "r = int(input(\"Enter Number of Rows: \"))\n",
        "\n",
        "print(f\"Full Star Pattern till {r} rows is: \")\n",
        "\n",
        "# Printing Pattern till r rows\n",
        "for i in range(r+1,0,-1):\n",
        "\n",
        "  # For First Star Pattern\n",
        "  # We add Space and Star\n",
        "  # First Row\n",
        "  if i == r+1:\n",
        "      print(\"  \" * (i-1) + \"* \" * (2*(r+1-i)+1) + \"* \" * (2*r) )\n",
        "  # Last Row\n",
        "  elif i == 0:\n",
        "      print(\"  \" * (i-1) + \"* \" * (2*(r+1-i)+1) + \"* \" * (2*r + 1) )\n",
        "  # For All other rows\n",
        "  else:\n",
        "    print( \"  \" * (i-1) + \"*\" + \"  \" * (2*(r+1-i)) + \"*\" + \"  \" * (2*r -1) + \"*\" )\n",
        "\n",
        "# Printing Rectangle Pattern\n",
        "for i in range(0,r):\n",
        "\n",
        "  if i == 0 or i == r-1:\n",
        "    print(\"* \" * (4*r + 2))\n",
        "\n",
        "  elif i == r//2:\n",
        "    # For First Star\n",
        "    print(\"*\" , end = \"\")\n",
        "    # For Door Pattern\n",
        "    if r// 2 % 2 != 0:\n",
        "      print(\" \" * (r) + \"* \"* (r//2 + r//2) + \" \" * (r+ r//2 -1) + \"* \",end = \"\")\n",
        "    else:\n",
        "      print(\" \" * (r) + \"* \"* (r//2 + r//2 -1) + \" \" * (r+r//2) + \"* \",end = \"\")\n",
        "    # For one stars for rectangle\n",
        "    print(\" \" * (4*r -1) + \"*\")\n",
        "\n",
        "  elif i > r//2:\n",
        "\n",
        "    # For First Star\n",
        "    print(\"*\" , end = \"\")\n",
        "    # For Door Pattern\n",
        "    print(\" \" * (r) + \"* \" + \" \" * (r+1) + \"* \" + \" \" * (2*r-4-1),end = \"\")\n",
        "    # For two stars for rectangle\n",
        "    print( \"*\" + \" \" * (4*r) + \"*\")\n",
        "\n",
        "  else:\n",
        "    print(\"*\" + \" \" * (4*r) + \"*\" + \" \" * (4*r) + \"*\")"
      ],
      "metadata": {
        "colab": {
          "base_uri": "https://localhost:8080/"
        },
        "id": "qEcjmKh-6fav",
        "outputId": "58cfef4b-c53a-4b3c-9c31-4afadfd19205"
      },
      "execution_count": null,
      "outputs": [
        {
          "output_type": "stream",
          "name": "stdout",
          "text": [
            "Enter Number of Rows: 7\n",
            "Full Star Pattern till 7 rows is: \n",
            "              * * * * * * * * * * * * * * * \n",
            "            *    *                          *\n",
            "          *        *                          *\n",
            "        *            *                          *\n",
            "      *                *                          *\n",
            "    *                    *                          *\n",
            "  *                        *                          *\n",
            "*                            *                          *\n",
            "* * * * * * * * * * * * * * * * * * * * * * * * * * * * * * \n",
            "*                            *                            *\n",
            "*                            *                            *\n",
            "*       * * * * * *          *                            *\n",
            "*       *         *          *                            *\n",
            "*       *         *          *                            *\n",
            "* * * * * * * * * * * * * * * * * * * * * * * * * * * * * * \n"
          ]
        }
      ]
    },
    {
      "cell_type": "markdown",
      "source": [
        "## Printing Swastika Pattern"
      ],
      "metadata": {
        "id": "MtGXGAC7RaFE"
      }
    },
    {
      "cell_type": "code",
      "source": [
        "# Number of rows as input\n",
        "r = int(input(\"Enter Number of Rows: \"))\n",
        "\n",
        "print(f\"Swastika Star Pattern till {r} rows is: \")\n",
        "\n",
        "for i in range(0,r):\n",
        "\n",
        "  # For First Row\n",
        "  if i == 0 :\n",
        "    print(\"*\" + \" \" * (r//2) + lineStarHalf(r//4 +1))\n",
        "\n",
        "   # For Last Row\n",
        "  elif i == r-1 :\n",
        "    print(lineStarHalf(r//4 + 1) + \" \" * (r//2 -1) + \"*\" )\n",
        "\n",
        "  # After first and row and before Middle row\n",
        "  elif i >0 and i < r//2:\n",
        "    print(twoStarSpace(r//2))\n",
        "\n",
        "  # For Middle Row\n",
        "  elif i == r//2:\n",
        "    print(lineStarHalf(r))\n",
        "\n",
        "  # After Middle Row and before Last row\n",
        "  else:\n",
        "    print(\" \" * (r//2 +1) + twoStarSpace(r//2))"
      ],
      "metadata": {
        "id": "mnGH_bCqr8JD",
        "colab": {
          "base_uri": "https://localhost:8080/"
        },
        "outputId": "b807b041-e718-483d-8a4a-b46a7de11e2f"
      },
      "execution_count": null,
      "outputs": [
        {
          "output_type": "stream",
          "name": "stdout",
          "text": [
            "Enter Number of Rows: 7\n",
            "Swastika Star Pattern till 7 rows is: \n",
            "*   * * * \n",
            "*   *\n",
            "*   *\n",
            "* * * * * \n",
            "    *   *\n",
            "    *   *\n",
            "* * *   *\n"
          ]
        }
      ]
    },
    {
      "cell_type": "code",
      "source": [
        "# Number of rows as input\n",
        "r = int(input(\"Enter Number of Rows: \"))\n",
        "\n",
        "print(f\"Swastika Star Pattern till {r} rows is: \")\n",
        "\n",
        "for i in range(0,r):\n",
        "\n",
        "  # For First Row\n",
        "  if i == 0 :\n",
        "    if r//2 % 2 == 0:\n",
        "      print(\"*\" + \" \" * (r//2 + r//4 -1) + lineStarHalf(r//4 + r//2 -1))\n",
        "    else:\n",
        "      print(\"*\" + \" \" * (r//2) + lineStarHalf(r//4 + 1))\n",
        "\n",
        "   # For Last Row\n",
        "  elif i == r-1 :\n",
        "    if r//2 % 2 == 0:\n",
        "      print(lineStarHalf(r//4 + r//4) + \" \" * (r//2) + \"*\" )\n",
        "    else:\n",
        "      print(lineStarHalf(r//4 + 1) + \" \" * (r//2 -1) + \"*\" )\n",
        "\n",
        "  # After first and row and before Middle row\n",
        "  elif i >0 and i < r//2:\n",
        "    print(twoStarSpace(r//2))\n",
        "\n",
        "  # For Middle Row\n",
        "  elif i == r//2:\n",
        "    if r//2 % 2 == 0:\n",
        "      print(lineStarHalf(r+1))\n",
        "    else:\n",
        "      print(lineStarHalf(r))\n",
        "\n",
        "  # After Middle Row and before Last row\n",
        "  else:\n",
        "    if r//2 % 2 == 0:\n",
        "       print(\" \" * (r//2 +2) + twoStarSpace(r//2))\n",
        "    else:\n",
        "       print(\" \" * (r//2 +1) + twoStarSpace(r//2))"
      ],
      "metadata": {
        "colab": {
          "base_uri": "https://localhost:8080/"
        },
        "id": "FBzTqFf1ZR1-",
        "outputId": "e49e35f6-322d-4cc7-d0a1-34ce9b246de4"
      },
      "execution_count": null,
      "outputs": [
        {
          "output_type": "stream",
          "name": "stdout",
          "text": [
            "Enter Number of Rows: 9\n",
            "Swastika Star Pattern till 9 rows is: \n",
            "*     * * * * \n",
            "*     *\n",
            "*     *\n",
            "*     *\n",
            "* * * * * * * \n",
            "      *     *\n",
            "      *     *\n",
            "      *     *\n",
            "* * * *     *\n"
          ]
        }
      ]
    },
    {
      "cell_type": "markdown",
      "source": [
        "## Printing Hollow Rectangle and Triangle in between"
      ],
      "metadata": {
        "id": "696uZ0CRX58Y"
      }
    },
    {
      "cell_type": "code",
      "source": [
        "# Number of rows as input\n",
        "r = int(input(\"Enter Number of Rows: \"))\n",
        "\n",
        "print(f\"Rectangle Cross Pattern Star Pattern till {r} rows is: \")\n",
        "\n",
        "for i in range(0,r):\n",
        "\n",
        "  if i == 0 or i == r -1:\n",
        "    print(lineStarFull(r//2 + 1))\n",
        "\n",
        "  elif i > 0 and i < r//2:\n",
        "    print(\"*\"  + \" \" * (r//2 - i + 1) + \"*\" + \" \" * i + \"*\")\n",
        "\n",
        "  else :\n",
        "    print(\"*\" + \" \" * (i - r//2) + \"*\" + \" \" * (r - i) + \"*\")"
      ],
      "metadata": {
        "colab": {
          "base_uri": "https://localhost:8080/"
        },
        "id": "cHMv1EewSH_2",
        "outputId": "829c27ff-22cd-474e-eb5d-2d199709b7c2"
      },
      "execution_count": null,
      "outputs": [
        {
          "output_type": "stream",
          "name": "stdout",
          "text": [
            "Enter Number of Rows: 7\n",
            "Rectangle Cross Pattern Star Pattern till 7 rows is: \n",
            "* * * * \n",
            "*   * *\n",
            "*  *  *\n",
            "**    *\n",
            "* *   *\n",
            "*  *  *\n",
            "* * * * \n"
          ]
        }
      ]
    },
    {
      "cell_type": "markdown",
      "source": [
        "## Printing J and K Pattern"
      ],
      "metadata": {
        "id": "D2WGV2q5ulEL"
      }
    },
    {
      "cell_type": "code",
      "source": [
        "# Now to print shape instead of writing code again and again we can call this functions\n",
        "\n",
        "# Number of rows as input\n",
        "try:\n",
        "  r = int(input(\"Enter Number of Rows: \"))\n",
        "except :\n",
        "  print(\"Please Enter an Integer Number!!\")\n",
        "\n",
        "# For this pattern to be printed we need more than 3 rows\n",
        "# Thus if r is less than 3 we increment\n",
        "if r < 3:\n",
        "  r = 3\n",
        "\n",
        "#  Printing J Pattern\n",
        "print(f\"\\nJ Star Pattern till {r} rows is:\\n\")\n",
        "\n",
        "#  Printing J Pattern\n",
        "for i in range(0, r):\n",
        "  if i == 0:\n",
        "    print(lineStarFull(r))\n",
        "  elif i > 0 and i < r//2:\n",
        "    print(linePartitionStar(r))\n",
        "  elif i == r-1:\n",
        "    print(\"* \" * ((r//2) + 1))\n",
        "  else:\n",
        "    print(\"*\" + \" \" * ( 2 * (r//2) -1) + \"*\")\n",
        "\n",
        "#  Printing K Pattern\n",
        "print(f\"\\nK Star Pattern till {r} rows is:\\n\")\n",
        "\n",
        "#  Printing K Pattern\n",
        "for i in range(0, r):\n",
        "  if i >= 0 and i <r//2:\n",
        "    print(\"*\" + \" \" * (r//2 -i) + \"*\")\n",
        "  elif i == r//2:\n",
        "    print(\"*\" + \"*\" )\n",
        "  else:\n",
        "    print(\"*\" + \" \" * (i - r//2) + \"*\")"
      ],
      "metadata": {
        "id": "G12TNQK1YTQW",
        "colab": {
          "base_uri": "https://localhost:8080/"
        },
        "outputId": "51a5886e-0d19-49fb-fe91-291f7e0bb30d"
      },
      "execution_count": null,
      "outputs": [
        {
          "output_type": "stream",
          "name": "stdout",
          "text": [
            "Enter Number of Rows: 7\n",
            "\n",
            "J Star Pattern till 7 rows is:\n",
            "\n",
            "* * * * * * * \n",
            "      *\n",
            "      *\n",
            "*     *\n",
            "*     *\n",
            "*     *\n",
            "* * * * \n",
            "\n",
            "K Star Pattern till 7 rows is:\n",
            "\n",
            "*   *\n",
            "*  *\n",
            "* *\n",
            "**\n",
            "* *\n",
            "*  *\n",
            "*   *\n"
          ]
        }
      ]
    },
    {
      "cell_type": "code",
      "source": [],
      "metadata": {
        "id": "FzeX41cx5F_T"
      },
      "execution_count": null,
      "outputs": []
    }
  ]
}