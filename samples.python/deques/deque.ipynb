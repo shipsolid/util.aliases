{
 "cells": [
  {
   "cell_type": "markdown",
   "id": "3a8f3d67-f555-47ff-9462-43c587e28607",
   "metadata": {
    "slideshow": {
     "slide_type": "slide"
    }
   },
   "source": [
    "# deque\n",
    "\n",
    "Deque (short for \"double-ended queue\") is a generalization of stacks and queues.<br>\n",
    "A `deque` supports list-like methods, but it can append and pop elements from both sides."
   ]
  },
  {
   "cell_type": "markdown",
   "id": "11c53e90-03f1-4f3c-81b9-181d5c08e35f",
   "metadata": {
    "slideshow": {
     "slide_type": "slide"
    }
   },
   "source": [
    "## Creating a `deque`"
   ]
  },
  {
   "cell_type": "code",
   "execution_count": 1,
   "id": "c55b5ee7-ef50-448b-b1ff-984739fba2ad",
   "metadata": {
    "slideshow": {
     "slide_type": "fragment"
    }
   },
   "outputs": [
    {
     "name": "stdout",
     "output_type": "stream",
     "text": [
      "deque([])\n",
      "deque([1, 2, 3])\n",
      "deque([1, 2, 3])\n",
      "deque([('a', 1), ('b', 2), ('c', 3)])\n"
     ]
    }
   ],
   "source": [
    "from collections import deque\n",
    "\n",
    "# Create an empty deque\n",
    "dq = deque()\n",
    "print(dq)\n",
    "\n",
    "# Initialize deque with an iterable\n",
    "dq = deque((1,2,3)) # tuple\n",
    "print(dq)\n",
    "\n",
    "dq = deque([1,2,3]) # list\n",
    "print(dq)\n",
    "\n",
    "dict1 = {\"a\": 1, \"b\": 2, \"c\": 3}\n",
    "dq = deque(dict1.items()) # dictionary view object\n",
    "\n",
    "print(dq)"
   ]
  },
  {
   "cell_type": "markdown",
   "id": "40a34ada-fb53-42d8-abc6-ccdae9549cf2",
   "metadata": {
    "slideshow": {
     "slide_type": "slide"
    }
   },
   "source": [
    "## Appending and Popping Elements from Both Sides"
   ]
  },
  {
   "cell_type": "code",
   "execution_count": 2,
   "id": "9d5db586-9010-4ed7-b88b-9106d1831082",
   "metadata": {
    "slideshow": {
     "slide_type": "fragment"
    }
   },
   "outputs": [
    {
     "name": "stdout",
     "output_type": "stream",
     "text": [
      "Initial deque:\t\t deque([1])\n",
      "After append(2):\t deque([1, 2])\n",
      "After appendleft(0):\t deque([0, 1, 2])\n",
      "After pop():\t\t deque([0, 1])\n",
      "After popleft():\t deque([1])\n",
      "Popped element from the left: 0\n"
     ]
    }
   ],
   "source": [
    "from collections import deque\n",
    "\n",
    "dq = deque([1])\n",
    "print(\"Initial deque:\\t\\t\", dq)\n",
    "\n",
    "# Append elements from both sides\n",
    "# Append to the right\n",
    "dq.append(2)\n",
    "print(\"After append(2):\\t\", dq)\n",
    "# Append to the left\n",
    "dq.appendleft(0)\n",
    "print(\"After appendleft(0):\\t\", dq)\n",
    "\n",
    "# Pop elements from both sides\n",
    "# Pop from the right\n",
    "dq.pop()\n",
    "print(\"After pop():\\t\\t\", dq)\n",
    "# Pop from the left\n",
    "popped_el = dq.popleft()\n",
    "print(\"After popleft():\\t\", dq)\n",
    "print(\"Popped element from the left:\", popped_el)"
   ]
  },
  {
   "cell_type": "markdown",
   "id": "b669a584-cabc-4762-babc-17b3406f6868",
   "metadata": {
    "slideshow": {
     "slide_type": "slide"
    }
   },
   "source": [
    "## Extending the `deque` from Both Sides"
   ]
  },
  {
   "cell_type": "code",
   "execution_count": 3,
   "id": "5c0a9313-f2bc-4dfd-8ff0-79ddf37351d6",
   "metadata": {
    "slideshow": {
     "slide_type": "fragment"
    }
   },
   "outputs": [
    {
     "name": "stdout",
     "output_type": "stream",
     "text": [
      "Initial deque:\n",
      "deque([1])\n",
      "After extend([2, 3]):\n",
      "deque([1, 2, 3])\n",
      "After extendleft([0, -1]):\n",
      "deque([-1, 0, 1, 2, 3])\n"
     ]
    }
   ],
   "source": [
    "from collections import deque\n",
    "\n",
    "dq = deque([1])\n",
    "print(\"Initial deque:\")\n",
    "print(dq)\n",
    "\n",
    "# Add elements to the right\n",
    "dq.extend([2, 3])\n",
    "print(\"After extend([2, 3]):\")\n",
    "print(dq)\n",
    "\n",
    "# Add elements to the left, but insert each at the front,\n",
    "# so the final order appears reversed\n",
    "dq.extendleft([0, -1])\n",
    "print(\"After extendleft([0, -1]):\")\n",
    "print(dq)"
   ]
  },
  {
   "cell_type": "markdown",
   "id": "5e8e4b0c-497f-4088-9735-53ff8d1a0261",
   "metadata": {
    "slideshow": {
     "slide_type": "skip"
    }
   },
   "source": [
    "![Big O](bigo.png)"
   ]
  },
  {
   "cell_type": "markdown",
   "id": "f1420b0e-d37c-4bce-adb9-492f0fb10fb2",
   "metadata": {
    "slideshow": {
     "slide_type": "skip"
    }
   },
   "source": [
    "![Deque bigO](deque.png)"
   ]
  },
  {
   "cell_type": "markdown",
   "id": "ecb74b93-488a-420f-a0dd-9039e19b324f",
   "metadata": {
    "slideshow": {
     "slide_type": "slide"
    }
   },
   "source": [
    "## Using `deque` to Implement a Waitlist"
   ]
  },
  {
   "cell_type": "code",
   "execution_count": 4,
   "id": "c65f9b8a-fd74-4d3b-bfb6-2e1229487c12",
   "metadata": {
    "slideshow": {
     "slide_type": "fragment"
    }
   },
   "outputs": [
    {
     "name": "stdout",
     "output_type": "stream",
     "text": [
      "Customer A added to the end of the waitlist.\n",
      "deque(['A'])\n",
      "Customer B added to the end of the waitlist.\n",
      "deque(['A', 'B'])\n",
      "VIP customer C added to the front of the waitlist.\n",
      "deque(['C', 'A', 'B'])\n",
      "Customer C is now being seated.\n",
      "deque(['A', 'B'])\n",
      "Customer A is now being seated.\n",
      "deque(['B'])\n"
     ]
    }
   ],
   "source": [
    "from collections import deque\n",
    "\n",
    "# Create a waitlist deque\n",
    "waitlist = deque()\n",
    "\n",
    "# Append new elements\n",
    "def arrive(name, vip=False):\n",
    "    if vip:\n",
    "        waitlist.appendleft(name)\n",
    "        print(f\"VIP customer {name} added to the front of the waitlist.\")\n",
    "    else:\n",
    "        waitlist.append(name)\n",
    "        print(f\"Customer {name} added to the end of the waitlist.\")\n",
    "    print(waitlist)\n",
    "\n",
    "# Remove elements\n",
    "def seat_customer():\n",
    "    if waitlist:\n",
    "        name = waitlist.popleft()\n",
    "        print(f\"Customer {name} is now being seated.\")\n",
    "    else:\n",
    "        print(\"The waitlist is currently empty.\")\n",
    "    print(waitlist)\n",
    "\n",
    "# Example usage\n",
    "arrive(\"A\")\n",
    "arrive(\"B\")\n",
    "arrive(\"C\", vip=True)  # VIP\n",
    "\n",
    "seat_customer()  # Seats C\n",
    "seat_customer()  # Seats A"
   ]
  },
  {
   "cell_type": "markdown",
   "id": "7dcee7f6-bbe8-4539-b5ca-7a0ba4ff26e7",
   "metadata": {
    "slideshow": {
     "slide_type": "slide"
    }
   },
   "source": [
    "## Implementing Queues (Background Task Processing)\n",
    "\n",
    "Queues are linear data structures where the first item added is the first one to be removed. So operations are performed in the First In First Out (FIFO) order."
   ]
  },
  {
   "cell_type": "code",
   "execution_count": 5,
   "id": "fc02ab2a-f701-4904-9732-bd6ce0263666",
   "metadata": {
    "slideshow": {
     "slide_type": "fragment"
    }
   },
   "outputs": [
    {
     "name": "stdout",
     "output_type": "stream",
     "text": [
      "deque(['task_1', 'task_2', 'task_3'])\n",
      "Processing task: task_1\n",
      "Processing task: task_2\n",
      "Processing task: task_3\n"
     ]
    }
   ],
   "source": [
    "from collections import deque\n",
    "import time\n",
    "\n",
    "def process_task(task):\n",
    "    print(\"Processing task:\", task)\n",
    "    time.sleep(0.5)  # Simulate time-consuming task processing\n",
    "\n",
    "task_queue = deque([\"task_1\", \"task_2\", \"task_3\"])\n",
    "print(task_queue)\n",
    "\n",
    "# Process tasks in the queue\n",
    "while task_queue:\n",
    "    current_task = task_queue.popleft()\n",
    "    process_task(current_task)"
   ]
  },
  {
   "cell_type": "markdown",
   "id": "6768998e-fcf1-4a9f-8833-066124e79f49",
   "metadata": {
    "slideshow": {
     "slide_type": "slide"
    }
   },
   "source": [
    "## Creating a Bounded `deque` with `maxlen`"
   ]
  },
  {
   "cell_type": "code",
   "execution_count": 7,
   "id": "8e77cf86-8956-4345-a1f7-57bb09fd9d67",
   "metadata": {
    "slideshow": {
     "slide_type": "fragment"
    }
   },
   "outputs": [
    {
     "name": "stdout",
     "output_type": "stream",
     "text": [
      "Maxlen: 5\n",
      "deque([0, 1, 2, 3], maxlen=5)\n",
      "After numbers.appendleft(-1):\t deque([-1, 0, 1, 2, 3], maxlen=5)\n",
      "After numbers.append(4):\t deque([0, 1, 2, 3, 4], maxlen=5)\n",
      "After numbers.append(5):\t deque([1, 2, 3, 4, 5], maxlen=5)\n",
      "After numbers.appendleft(0):\t deque([0, 1, 2, 3, 4], maxlen=5)\n"
     ]
    }
   ],
   "source": [
    "from collections import deque\n",
    "\n",
    "numbers = deque([0, 1, 2, 3], maxlen=5)\n",
    "print(\"Maxlen:\", numbers.maxlen)\n",
    "print(numbers)\n",
    "\n",
    "# Allowed, because the original deque has just 4 elements\n",
    "numbers.appendleft(-1)\n",
    "print(\"After numbers.appendleft(-1):\\t\", numbers)\n",
    "\n",
    "# This will discard the first number -1\n",
    "numbers.append(4)\n",
    "print(\"After numbers.append(4):\\t\", numbers)\n",
    "\n",
    "# This will discard the first number 0\n",
    "numbers.append(5)\n",
    "print(\"After numbers.append(5):\\t\", numbers)\n",
    "\n",
    "# This will discard the last number 5\n",
    "numbers.appendleft(0)\n",
    "print(\"After numbers.appendleft(0):\\t\", numbers)"
   ]
  },
  {
   "cell_type": "markdown",
   "id": "406d8286-52a5-4301-8961-aeb2c1031208",
   "metadata": {
    "slideshow": {
     "slide_type": "slide"
    }
   },
   "source": [
    "## Implementing Stacks (Browser History)\n",
    "\n",
    "Stacks are linear data structures where the last item added is the first one to be removed. So operations are performed in the Last In First Out (LIFO) order."
   ]
  },
  {
   "cell_type": "code",
   "execution_count": 8,
   "id": "2a770672-7522-4bf2-8a44-e7f0be171275",
   "metadata": {
    "slideshow": {
     "slide_type": "fragment"
    }
   },
   "outputs": [
    {
     "name": "stdout",
     "output_type": "stream",
     "text": [
      "Visiting: /home\n",
      "Visiting: /about\n",
      "Visiting: /contact\n",
      "Going back from: /contact\n",
      "Current page is now: /about\n",
      "Going back from: /about\n",
      "Current page is now: /home\n"
     ]
    }
   ],
   "source": [
    "from collections import deque\n",
    "\n",
    "# Create a limited-size history stack for browsers back button\n",
    "history = deque(maxlen=5)\n",
    "\n",
    "def visit_page(url):\n",
    "    history.append(url)\n",
    "    print(\"Visiting:\", url)\n",
    "\n",
    "def go_back():\n",
    "    if history:\n",
    "        current = history.pop()\n",
    "        print(\"Going back from:\", current)\n",
    "        if history:\n",
    "            print(\"Current page is now:\", history[-1])\n",
    "        else:\n",
    "            print(\"No more pages in history.\")\n",
    "    else:\n",
    "        print(\"No pages in history.\")\n",
    "\n",
    "# Example usage\n",
    "visit_page(\"/home\")\n",
    "visit_page(\"/about\")\n",
    "visit_page(\"/contact\")\n",
    "\n",
    "go_back()  # contact → about\n",
    "go_back()  # about → home"
   ]
  },
  {
   "cell_type": "markdown",
   "id": "35aa5d9d-3c64-4211-95b4-dc9ddbc58818",
   "metadata": {
    "slideshow": {
     "slide_type": "slide"
    }
   },
   "source": [
    "## Rotating `deque` Elements with `rotate()`"
   ]
  },
  {
   "cell_type": "code",
   "execution_count": 9,
   "id": "6d277fc4-ddad-4f0b-91b5-1b5134587e76",
   "metadata": {
    "slideshow": {
     "slide_type": "fragment"
    }
   },
   "outputs": [
    {
     "name": "stdout",
     "output_type": "stream",
     "text": [
      "deque(['a', 'b', 'c'])\n",
      "letters.rotate():\t deque(['c', 'a', 'b'])\n",
      "letters.rotate(2):\t deque(['a', 'b', 'c'])\n",
      "letters.rotate(-1):\t deque(['b', 'c', 'a'])\n"
     ]
    }
   ],
   "source": [
    "from collections import deque\n",
    "\n",
    "letters = deque([\"a\", \"b\", \"c\"])\n",
    "print(letters)\n",
    "\n",
    "# Rotate elements one step to the right\n",
    "letters.rotate()\n",
    "print(\"letters.rotate():\\t\", letters)\n",
    "\n",
    "# Rotate elements two steps to the right\n",
    "letters.rotate(2)\n",
    "print(\"letters.rotate(2):\\t\", letters)\n",
    "\n",
    "# Rotate elements one step to the left\n",
    "letters.rotate(-1)\n",
    "print(\"letters.rotate(-1):\\t\", letters)"
   ]
  },
  {
   "cell_type": "markdown",
   "id": "7e32443c-bddf-48dd-9408-2cee0645826d",
   "metadata": {
    "slideshow": {
     "slide_type": "slide"
    }
   },
   "source": [
    "## Simulating Weekly Shift Rotation with `rotate()`"
   ]
  },
  {
   "cell_type": "code",
   "execution_count": 10,
   "id": "47e193b0-fc72-410c-83cf-6b655c34ef74",
   "metadata": {
    "slideshow": {
     "slide_type": "fragment"
    }
   },
   "outputs": [
    {
     "name": "stdout",
     "output_type": "stream",
     "text": [
      "Week 1 schedule: ['Élodie', 'Jisoo', 'Nils']\n",
      "Week 2 schedule: ['Nils', 'Élodie', 'Jisoo']\n",
      "Week 3 schedule: ['Jisoo', 'Nils', 'Élodie']\n",
      "Week 4 schedule: ['Élodie', 'Jisoo', 'Nils']\n"
     ]
    }
   ],
   "source": [
    "from collections import deque\n",
    "\n",
    "# Initial weekly schedule for 3 employees\n",
    "schedule = deque([\"Élodie\", \"Jisoo\", \"Nils\"])\n",
    "\n",
    "# Simulate rotation for 4 weeks\n",
    "for week in range(1, 5):\n",
    "    print(f\"Week {week} schedule: {list(schedule)}\")\n",
    "    schedule.rotate()  # Rotate the schedule"
   ]
  }
 ],
 "metadata": {
  "celltoolbar": "Slideshow",
  "kernelspec": {
   "display_name": "Python 3 (ipykernel)",
   "language": "python",
   "name": "python3"
  },
  "language_info": {
   "codemirror_mode": {
    "name": "ipython",
    "version": 3
   },
   "file_extension": ".py",
   "mimetype": "text/x-python",
   "name": "python",
   "nbconvert_exporter": "python",
   "pygments_lexer": "ipython3",
   "version": "3.11.10"
  }
 },
 "nbformat": 4,
 "nbformat_minor": 5
}
