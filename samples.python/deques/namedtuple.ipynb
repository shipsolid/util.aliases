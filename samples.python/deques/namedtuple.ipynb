{
 "cells": [
  {
   "cell_type": "markdown",
   "id": "2d525548-dd6d-4806-9fd2-115fca0c1e24",
   "metadata": {
    "slideshow": {
     "slide_type": "slide"
    }
   },
   "source": [
    "# namedtuple()"
   ]
  },
  {
   "cell_type": "markdown",
   "id": "7522b4b3-5eb0-4006-9ca1-552072dfc2f4",
   "metadata": {
    "slideshow": {
     "slide_type": "slide"
    }
   },
   "source": [
    "## Creating Named Tuples\n",
    "\n",
    "The `namedtuple()` function creates a special tuple type with named elements. "
   ]
  },
  {
   "cell_type": "code",
   "execution_count": 1,
   "id": "3307e5b7-21ee-475a-a94b-709ab9bfdad0",
   "metadata": {
    "slideshow": {
     "slide_type": "fragment"
    }
   },
   "outputs": [
    {
     "name": "stdout",
     "output_type": "stream",
     "text": [
      "Pixel(red=255, green=50, blue=0)\n",
      "('red', 'green', 'blue')\n"
     ]
    }
   ],
   "source": [
    "from collections import namedtuple\n",
    "\n",
    "# Creating a new tuple subclass (namedtuple class)\n",
    "Pixel = namedtuple(\"Pixel\", \"red green blue\")\n",
    "# Pixel = namedtuple(\"Pixel\", \"red, green, blue\")\n",
    "# Pixel = namedtuple(\"Pixel\", [\"red\", \"green\", \"blue\"])\n",
    "\n",
    "# Using a namedtuple class to instantiate a new namedtuple object\n",
    "# pixel = Pixel(255, 0, 0)\n",
    "pixel = Pixel(red=255, green=50, blue=0)\n",
    "print(pixel)\n",
    "\n",
    "# Get a tuple of field names\n",
    "print(Pixel._fields)"
   ]
  },
  {
   "cell_type": "markdown",
   "id": "4de0037f-d99f-498a-b15c-e4b55062f09e",
   "metadata": {
    "slideshow": {
     "slide_type": "slide"
    }
   },
   "source": [
    "## Accessing Elements by Field Names"
   ]
  },
  {
   "cell_type": "code",
   "execution_count": 2,
   "id": "1074e432-baee-4f50-8c06-6b55ee9c8bea",
   "metadata": {
    "slideshow": {
     "slide_type": "fragment"
    }
   },
   "outputs": [
    {
     "name": "stdout",
     "output_type": "stream",
     "text": [
      "Accessing values by indicies:\n",
      "255\n",
      "50\n",
      "0\n",
      "Accessing values by field names with the dot syntax:\n",
      "255\n",
      "50\n",
      "0\n"
     ]
    }
   ],
   "source": [
    "from collections import namedtuple\n",
    "\n",
    "Pixel = namedtuple(\"Pixel\", \"red green blue\")\n",
    "pixel = Pixel(red=255, green=50, blue=0)\n",
    "\n",
    "print(\"Accessing values by indicies:\")\n",
    "print(pixel[0])\n",
    "print(pixel[1])\n",
    "print(pixel[2])\n",
    "\n",
    "print(\"Accessing values by field names with the dot syntax:\")\n",
    "print(pixel.red)\n",
    "print(pixel.green)\n",
    "print(pixel.blue)"
   ]
  },
  {
   "cell_type": "markdown",
   "id": "117525a0-c161-4219-a492-a4b2e4af4c05",
   "metadata": {
    "slideshow": {
     "slide_type": "slide"
    }
   },
   "source": [
    "## Supporting Default Field Values"
   ]
  },
  {
   "cell_type": "code",
   "execution_count": 3,
   "id": "0016a7bb-e637-49d1-bf41-ea975c6374e8",
   "metadata": {
    "slideshow": {
     "slide_type": "fragment"
    }
   },
   "outputs": [
    {
     "name": "stdout",
     "output_type": "stream",
     "text": [
      "dog: Dog(name='Balto', age=0, location='Home')\n",
      "dog._field_defaults: {'age': 0, 'location': 'Home'}\n"
     ]
    }
   ],
   "source": [
    "from collections import namedtuple\n",
    "\n",
    "# The 'defaults' argument\n",
    "Dog = namedtuple(\"Dog\", [\"name\", \"age\", \"location\"], defaults=[0, \"Home\"])\n",
    "dog = Dog(\"Balto\")\n",
    "print(\"dog:\", dog)\n",
    "print(\"dog._field_defaults:\", dog._field_defaults)"
   ]
  },
  {
   "cell_type": "markdown",
   "id": "597832cc-07c8-48d5-aee4-33d63e6eb4b2",
   "metadata": {
    "slideshow": {
     "slide_type": "slide"
    }
   },
   "source": [
    "## Creating Named Tuples from Iterables with `_make()`"
   ]
  },
  {
   "cell_type": "code",
   "execution_count": 4,
   "id": "f33387c5-f274-493d-a599-3225a54c1ef4",
   "metadata": {
    "slideshow": {
     "slide_type": "fragment"
    }
   },
   "outputs": [
    {
     "name": "stdout",
     "output_type": "stream",
     "text": [
      "[Pixel(red=255, green=43, blue=22), Pixel(red=230, green=44, blue=23), Pixel(red=230, green=44, blue=23)]\n"
     ]
    }
   ],
   "source": [
    "from collections import namedtuple\n",
    "\n",
    "Pixel = namedtuple(\"Pixel\", \"red green blue\")\n",
    "\n",
    "image_pixel_data = [\n",
    "    [255, 43, 22],\n",
    "    [230, 44, 23],\n",
    "    [230, 44, 23]\n",
    "]\n",
    "\n",
    "sprite = [Pixel._make(pixel) for pixel in image_pixel_data]\n",
    "print(sprite)"
   ]
  },
  {
   "cell_type": "markdown",
   "id": "383142b7-427b-42ef-8860-5db4be0184f0",
   "metadata": {
    "slideshow": {
     "slide_type": "slide"
    }
   },
   "source": [
    "## Using Dictionaries with Named Tuples"
   ]
  },
  {
   "cell_type": "code",
   "execution_count": 5,
   "id": "590a1099-c063-4918-ac13-ce82ef7fb4ee",
   "metadata": {
    "slideshow": {
     "slide_type": "fragment"
    }
   },
   "outputs": [
    {
     "name": "stdout",
     "output_type": "stream",
     "text": [
      "Pixel(red=255, green=50, blue=0)\n",
      "{'red': 255, 'green': 50, 'blue': 0}\n"
     ]
    }
   ],
   "source": [
    "from collections import namedtuple\n",
    "\n",
    "Pixel = namedtuple(\"Pixel\", \"red green blue\")\n",
    "\n",
    "# Use dictionary unpacking to unpack key-value pairs to keyword arguments\n",
    "pixel = Pixel(**{\"red\": 255, \"green\": 50, \"blue\": 0})\n",
    "# Unpacking a dictionary results in:\n",
    "# pixel = Pixel(red=255, green=50, blue=0)\n",
    "print(pixel)\n",
    "\n",
    "# Turn the namedtuple instance to a dictionary\n",
    "print(pixel._asdict())"
   ]
  },
  {
   "cell_type": "markdown",
   "id": "9bb99f67-0357-41bd-86ea-221d47b4beae",
   "metadata": {
    "slideshow": {
     "slide_type": "slide"
    }
   },
   "source": [
    "## Updating Field Values with `_replace()`"
   ]
  },
  {
   "cell_type": "code",
   "execution_count": 6,
   "id": "d59280bb-f403-4baa-95d6-cf88d0a3f0f9",
   "metadata": {
    "slideshow": {
     "slide_type": "fragment"
    }
   },
   "outputs": [
    {
     "name": "stdout",
     "output_type": "stream",
     "text": [
      "Dog(name=\"Scooby-Don't\", age=11, location='Shibuya Station')\n"
     ]
    }
   ],
   "source": [
    "from collections import namedtuple\n",
    "\n",
    "Dog = namedtuple(\"Dog\", [\"name\", \"age\", \"location\"])\n",
    "dog = Dog(\"Hachiko\", 11, \"Shibuya Station\")\n",
    "\n",
    "# Create a new Dog instance with the updated value\n",
    "dog = dog._replace(name=\"Scooby-Don't\")\n",
    "print(dog)"
   ]
  },
  {
   "cell_type": "markdown",
   "id": "1003e013-a31a-4004-96c6-c278ceebd9f7",
   "metadata": {
    "slideshow": {
     "slide_type": "slide"
    }
   },
   "source": [
    "## Returning a Named Tuple from a Function"
   ]
  },
  {
   "cell_type": "code",
   "execution_count": 7,
   "id": "fcc0f97e-8698-49de-a3c9-853f33579077",
   "metadata": {
    "slideshow": {
     "slide_type": "fragment"
    }
   },
   "outputs": [
    {
     "name": "stdout",
     "output_type": "stream",
     "text": [
      "Data from the response: payload\n"
     ]
    }
   ],
   "source": [
    "from collections import namedtuple\n",
    "\n",
    "Response = namedtuple(\"Response\", \"success data error\")\n",
    "\n",
    "def fetch_data():\n",
    "    # Simulate success\n",
    "    return Response(success=True, data=\"payload\", error=None)\n",
    "\n",
    "response = fetch_data()\n",
    "if response.success:\n",
    "    print(\"Data from the response:\", response.data)\n",
    "else:\n",
    "    print(\"Error:\", response.error)"
   ]
  }
 ],
 "metadata": {
  "celltoolbar": "Slideshow",
  "kernelspec": {
   "display_name": "Python 3 (ipykernel)",
   "language": "python",
   "name": "python3"
  },
  "language_info": {
   "codemirror_mode": {
    "name": "ipython",
    "version": 3
   },
   "file_extension": ".py",
   "mimetype": "text/x-python",
   "name": "python",
   "nbconvert_exporter": "python",
   "pygments_lexer": "ipython3",
   "version": "3.11.10"
  }
 },
 "nbformat": 4,
 "nbformat_minor": 5
}
