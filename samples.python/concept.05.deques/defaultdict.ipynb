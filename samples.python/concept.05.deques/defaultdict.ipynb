{
 "cells": [
  {
   "cell_type": "markdown",
   "id": "a3491bcb-f09e-429e-af2d-8a9ed41d8a14",
   "metadata": {
    "slideshow": {
     "slide_type": "slide"
    }
   },
   "source": [
    "## defaultdict"
   ]
  },
  {
   "cell_type": "markdown",
   "id": "380f76c0-4db9-4ecd-9da2-b3714c474c6d",
   "metadata": {
    "slideshow": {
     "slide_type": "slide"
    }
   },
   "source": [
    "## Initializing `defaultdict` Dictionary\n",
    "\n",
    "Initialize `defaultdict` with `defaultdict(default_factory)` where `default_factory` is a callable (like `list`, `int`, `set`, or a custom function) that returns the default value for any missing key."
   ]
  },
  {
   "cell_type": "code",
   "execution_count": 1,
   "id": "ad553ccb-376e-4283-9da1-22e42be3a65a",
   "metadata": {
    "slideshow": {
     "slide_type": "fragment"
    }
   },
   "outputs": [
    {
     "name": "stdout",
     "output_type": "stream",
     "text": [
      "[]\n",
      "defaultdict(<class 'list'>, {'key1': [1], 'key3': []})\n"
     ]
    }
   ],
   "source": [
    "from collections import defaultdict\n",
    "\n",
    "# The default value will be an empty list\n",
    "dd = defaultdict(list) # this is the list() constructor\n",
    "\n",
    "dd[\"key1\"].append(1) # \"key1\" doesn't exist yet, so defaultdict creates it with the value []\n",
    "# This is equal to\n",
    "# dd[\"key1\"] = list()\n",
    "# dd[\"key1].append(1)\n",
    "\n",
    "# Even accessing non-existent keys will create them in the dictionary\n",
    "print(dd[\"key3\"])\n",
    "print(dd)"
   ]
  },
  {
   "cell_type": "markdown",
   "id": "66cce702-2714-4fd4-914f-f707f25f5972",
   "metadata": {
    "slideshow": {
     "slide_type": "slide"
    }
   },
   "source": [
    "## `defaultdict` versus the `setdefault` Method\n",
    "\n",
    "`defaultdict` is slightly faster in handling missing keys than the `setdefault` method."
   ]
  },
  {
   "cell_type": "code",
   "execution_count": 2,
   "id": "eda46467-36ff-43ff-8040-70a2679f90a4",
   "metadata": {
    "slideshow": {
     "slide_type": "fragment"
    }
   },
   "outputs": [
    {
     "name": "stdout",
     "output_type": "stream",
     "text": [
      "{'key': 'Default'}\n",
      "defaultdict(<function <lambda> at 0x7f3dbae31a80>, {'key': 'Default'})\n"
     ]
    }
   ],
   "source": [
    "from collections import defaultdict\n",
    "\n",
    "std_dict = {}\n",
    "std_dict.setdefault(\"key\", \"Default\")\n",
    "print(std_dict)\n",
    "\n",
    "# defaultdict only accepts callables as default_factory\n",
    "dd = defaultdict(lambda: \"Default\")\n",
    "dd[\"key\"]\n",
    "print(dd)"
   ]
  },
  {
   "cell_type": "markdown",
   "id": "bc34d9d8-6b83-479b-890e-53a8f117a57a",
   "metadata": {
    "slideshow": {
     "slide_type": "slide"
    }
   },
   "source": [
    "## Grouping Elements"
   ]
  },
  {
   "cell_type": "code",
   "execution_count": 3,
   "id": "09b57cb7-14d4-4b2f-b5f9-ecb564db2b65",
   "metadata": {
    "slideshow": {
     "slide_type": "fragment"
    }
   },
   "outputs": [
    {
     "name": "stdout",
     "output_type": "stream",
     "text": [
      "{'document': ['report.docx', 'summary.pdf'], 'spreadsheet': ['budget.xlsx', 'data.csv'], 'image': ['photo.jpg', 'diagram.png']}\n"
     ]
    }
   ],
   "source": [
    "from collections import defaultdict\n",
    "\n",
    "# Sample list of files, each as (filename, filetype)\n",
    "files = [\n",
    "    (\"report.docx\", \"document\"),\n",
    "    (\"summary.pdf\", \"document\"),\n",
    "    (\"budget.xlsx\", \"spreadsheet\"),\n",
    "    (\"data.csv\", \"spreadsheet\"),\n",
    "    (\"photo.jpg\", \"image\"),\n",
    "    (\"diagram.png\", \"image\")\n",
    "]\n",
    "\n",
    "# Group files by type\n",
    "grouped_files = defaultdict(list)\n",
    "\n",
    "for filename, file_type in files:\n",
    "    grouped_files[file_type].append(filename)\n",
    "\n",
    "print(dict(grouped_files))"
   ]
  },
  {
   "cell_type": "markdown",
   "id": "866b48c2-fccb-43e3-9377-9f8d34ffde7e",
   "metadata": {
    "slideshow": {
     "slide_type": "slide"
    }
   },
   "source": [
    "## Grouping Unique Elements"
   ]
  },
  {
   "cell_type": "code",
   "execution_count": 4,
   "id": "85dbcfdb-3920-4842-879c-774909b23543",
   "metadata": {
    "slideshow": {
     "slide_type": "fragment"
    }
   },
   "outputs": [
    {
     "name": "stdout",
     "output_type": "stream",
     "text": [
      "{'document': {'summary.pdf', 'report.docx'}, 'spreadsheet': {'budget.xlsx', 'data.csv'}, 'image': {'diagram.png', 'photo.jpg'}}\n"
     ]
    }
   ],
   "source": [
    "from collections import defaultdict\n",
    "\n",
    "files = [\n",
    "    (\"report.docx\", \"document\"),\n",
    "    (\"summary.pdf\", \"document\"),\n",
    "    (\"budget.xlsx\", \"spreadsheet\"),\n",
    "    (\"data.csv\", \"spreadsheet\"),\n",
    "    (\"photo.jpg\", \"image\"),\n",
    "    (\"diagram.png\", \"image\"),\n",
    "    (\"photo.jpg\", \"image\")  # duplicate file\n",
    "]\n",
    "\n",
    "# Group files by type with unique entries\n",
    "grouped_files = defaultdict(set)\n",
    "\n",
    "for filename, file_type in files:\n",
    "    grouped_files[file_type].add(filename)\n",
    "\n",
    "print(dict(grouped_files))"
   ]
  },
  {
   "cell_type": "markdown",
   "id": "b52d930e-48d1-433f-ab1a-525542f95335",
   "metadata": {
    "slideshow": {
     "slide_type": "slide"
    }
   },
   "source": [
    "## Implementing Basic Counting Logic"
   ]
  },
  {
   "cell_type": "code",
   "execution_count": 1,
   "id": "6317efda-d3e9-4fef-b700-aed6ab3e5223",
   "metadata": {
    "slideshow": {
     "slide_type": "fragment"
    }
   },
   "outputs": [
    {
     "name": "stdout",
     "output_type": "stream",
     "text": [
      "defaultdict(<class 'int'>, {'a': 3, 'b': 2, 'c': 1})\n"
     ]
    }
   ],
   "source": [
    "from collections import defaultdict\n",
    "\n",
    "# Sample list of letters\n",
    "letters = [\"a\", \"b\", \"a\", \"c\", \"b\", \"a\"]\n",
    "\n",
    "letter_counts = defaultdict(int) # int() will return 0\n",
    "\n",
    "for letter in letters:\n",
    "    letter_counts[letter] += 1\n",
    "\n",
    "print(letter_counts)"
   ]
  }
 ],
 "metadata": {
  "celltoolbar": "Slideshow",
  "kernelspec": {
   "display_name": "Python 3 (ipykernel)",
   "language": "python",
   "name": "python3"
  },
  "language_info": {
   "codemirror_mode": {
    "name": "ipython",
    "version": 3
   },
   "file_extension": ".py",
   "mimetype": "text/x-python",
   "name": "python",
   "nbconvert_exporter": "python",
   "pygments_lexer": "ipython3",
   "version": "3.11.10"
  }
 },
 "nbformat": 4,
 "nbformat_minor": 5
}
