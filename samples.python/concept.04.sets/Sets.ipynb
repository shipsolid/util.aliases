{
 "cells": [
  {
   "cell_type": "markdown",
   "id": "782bf6f5-7195-4c16-b467-ae899920a8d0",
   "metadata": {
    "slideshow": {
     "slide_type": "slide"
    }
   },
   "source": [
    "# Sets"
   ]
  },
  {
   "cell_type": "markdown",
   "id": "af665b90-e519-4184-8676-cfbd3abc251f",
   "metadata": {
    "slideshow": {
     "slide_type": "slide"
    }
   },
   "source": [
    "## Creating Sets\n",
    "Sets are unordered"
   ]
  },
  {
   "cell_type": "code",
   "execution_count": 1,
   "id": "f2aae374-8a0d-41a4-8df3-534f0c2fec60",
   "metadata": {
    "slideshow": {
     "slide_type": "fragment"
    }
   },
   "outputs": [
    {
     "name": "stdout",
     "output_type": "stream",
     "text": [
      "my_set: {1, 2, 3, 's1', 's2'}\n",
      "empty_set: set()\n"
     ]
    }
   ],
   "source": [
    "# Set elements have to be immutable\n",
    "my_set = {1, 2, 3, \"s1\", \"s2\"}\n",
    "print(\"my_set:\", my_set)\n",
    "\n",
    "# Create empty sets with the set() constructor\n",
    "empty_set = set()\n",
    "print(\"empty_set:\", empty_set)\n",
    "\n",
    "# Empty curly braces would create a dictionary\n",
    "# empty_dict = {} "
   ]
  },
  {
   "cell_type": "markdown",
   "id": "da75e6a1-18e7-48e3-8ea7-196dab5dc4fd",
   "metadata": {
    "slideshow": {
     "slide_type": "slide"
    }
   },
   "source": [
    "## Set Elements are Unique"
   ]
  },
  {
   "cell_type": "code",
   "execution_count": 2,
   "id": "fdb8fbc2-1cd6-4f88-9f2f-14c4559a9640",
   "metadata": {
    "slideshow": {
     "slide_type": "fragment"
    }
   },
   "outputs": [
    {
     "name": "stdout",
     "output_type": "stream",
     "text": [
      "my_set: {1, 2, 3}\n",
      "set_from_tuple: {'a', 'c', 'b'}\n",
      "unique_visitors_set: {'user123', 'user456', 'user789', 'user101'}\n"
     ]
    }
   ],
   "source": [
    "# Set will remove all duplicate elements\n",
    "my_set = {1, 1, 2, 2, 3, 3}\n",
    "print(\"my_set:\", my_set)\n",
    "\n",
    "# You can initialize sets with elements from other iterable structures\n",
    "my_tuple = (\"a\", \"b\", \"c\")\n",
    "set_from_tuple = set(my_tuple)\n",
    "print(\"set_from_tuple:\", set_from_tuple)\n",
    "\n",
    "# This can be useful for removing duplicate elements \n",
    "visitor_id_list = [\"user123\", \"user456\", \"user123\", \"user789\", \"user456\", \"user101\"]\n",
    "unique_visitors_set = set(visitor_id_list)\n",
    "print(\"unique_visitors_set:\", unique_visitors_set)"
   ]
  },
  {
   "cell_type": "markdown",
   "id": "97f2ce48",
   "metadata": {
    "slideshow": {
     "slide_type": "slide"
    }
   },
   "source": [
    "## Sets and Strings"
   ]
  },
  {
   "cell_type": "code",
   "execution_count": 3,
   "id": "ecfcb956-dd42-4557-93b3-d822be14b53c",
   "metadata": {
    "slideshow": {
     "slide_type": "fragment"
    }
   },
   "outputs": [
    {
     "name": "stdout",
     "output_type": "stream",
     "text": [
      "string_set: {'H', 'l', 'o', 'e'}\n",
      "string_set: {'Hello'}\n"
     ]
    }
   ],
   "source": [
    "# Strings are iterable as well\n",
    "string_set = set(\"Hello\")\n",
    "print(\"string_set:\", string_set)\n",
    "\n",
    "# If you want to store a full string as one item\n",
    "string_set = {\"Hello\"}\n",
    "print(\"string_set:\", string_set)"
   ]
  },
  {
   "cell_type": "markdown",
   "id": "8ccb5d61-1c53-47b7-8109-b280b91dada1",
   "metadata": {
    "slideshow": {
     "slide_type": "slide"
    }
   },
   "source": [
    "## Aggregate Functions"
   ]
  },
  {
   "cell_type": "code",
   "execution_count": 4,
   "id": "c1964a98-384c-40e6-8a74-d07f6ee74ee8",
   "metadata": {
    "slideshow": {
     "slide_type": "fragment"
    }
   },
   "outputs": [
    {
     "name": "stdout",
     "output_type": "stream",
     "text": [
      "Number of elements: 5\n",
      "Sum of elements: 26\n",
      "Smallest element: 2\n",
      "Largest element: 9\n",
      "Any truthy values? True\n",
      "All truthy values? True\n"
     ]
    }
   ],
   "source": [
    "numbers_set = {3, 7, 2, 9, 5}\n",
    "\n",
    "print(\"Number of elements:\", len(numbers_set))  \n",
    "print(\"Sum of elements:\", sum(numbers_set))     \n",
    "print(\"Smallest element:\", min(numbers_set))    \n",
    "print(\"Largest element:\", max(numbers_set))\n",
    "print(\"Any truthy values?\", any(numbers_set))   \n",
    "print(\"All truthy values?\", all(numbers_set))   "
   ]
  },
  {
   "cell_type": "markdown",
   "id": "1b7296b8-7833-4c68-b558-4944c3490b87",
   "metadata": {
    "slideshow": {
     "slide_type": "slide"
    }
   },
   "source": [
    "## Adding New Elements"
   ]
  },
  {
   "cell_type": "code",
   "execution_count": 5,
   "id": "12c0d5b7-4bcf-441a-9018-335c1d5a9645",
   "metadata": {
    "slideshow": {
     "slide_type": "fragment"
    }
   },
   "outputs": [
    {
     "name": "stdout",
     "output_type": "stream",
     "text": [
      "{'orange', 'apple', 'banana'}\n",
      "Error adding list: unhashable type: 'list'\n"
     ]
    }
   ],
   "source": [
    "# A set of fruits\n",
    "fruits = {\"apple\", \"banana\"}\n",
    "\n",
    "fruits.add(\"orange\")\n",
    "print(fruits)\n",
    "\n",
    "# Sets cannot contain mutable elements\n",
    "try:\n",
    "    fruits.add([\"pear\", \"grape\"])  # Lists are mutable and not hashable\n",
    "except TypeError as e:\n",
    "    print(f\"Error adding list: {e}\")"
   ]
  },
  {
   "cell_type": "markdown",
   "id": "e89fef0f-c73b-4589-aa82-7694770c5cca",
   "metadata": {
    "slideshow": {
     "slide_type": "slide"
    }
   },
   "source": [
    "## Removing Elements with `remove()`"
   ]
  },
  {
   "cell_type": "code",
   "execution_count": 6,
   "id": "c17a7c33-d9c0-4c81-9b36-a2666013cd74",
   "metadata": {
    "slideshow": {
     "slide_type": "fragment"
    }
   },
   "outputs": [
    {
     "name": "stdout",
     "output_type": "stream",
     "text": [
      "{'venus', 'earth'}\n",
      "Error removing planet: 'jupiter'\n"
     ]
    }
   ],
   "source": [
    "planets = {\"earth\", \"mars\", \"venus\"}\n",
    "\n",
    "planets.remove(\"mars\")\n",
    "print(planets)\n",
    "\n",
    "# Removing non-existent element will raise a KeyError\n",
    "try:\n",
    "    planets.remove(\"jupiter\")\n",
    "except KeyError as e:\n",
    "    print(f\"Error removing planet: {e}\")"
   ]
  },
  {
   "cell_type": "markdown",
   "id": "e43be0c2-3a1d-4def-b7cd-00a5462a205b",
   "metadata": {
    "slideshow": {
     "slide_type": "slide"
    }
   },
   "source": [
    "## Removing Elements with `discard()`"
   ]
  },
  {
   "cell_type": "code",
   "execution_count": 7,
   "id": "757ea5ec-3e67-477e-abc5-80784ca69ff7",
   "metadata": {
    "slideshow": {
     "slide_type": "fragment"
    }
   },
   "outputs": [
    {
     "name": "stdout",
     "output_type": "stream",
     "text": [
      "{'hammer', 'screwdriver'}\n",
      "{'hammer', 'screwdriver'}\n"
     ]
    }
   ],
   "source": [
    "tools = {\"hammer\", \"wrench\", \"screwdriver\"}\n",
    "\n",
    "tools.discard(\"wrench\")\n",
    "print(tools)\n",
    "\n",
    "tools.discard(\"drill\")  # No error even though 'drill' is not in the set\n",
    "print(tools)"
   ]
  },
  {
   "cell_type": "markdown",
   "id": "ca1ae124-a26e-463f-b937-4aced3816348",
   "metadata": {
    "slideshow": {
     "slide_type": "slide"
    }
   },
   "source": [
    "## Removing a Random Element with `pop()`"
   ]
  },
  {
   "cell_type": "code",
   "execution_count": 8,
   "id": "4196badf-72f0-4761-8705-79d823d7bc2f",
   "metadata": {
    "slideshow": {
     "slide_type": "fragment"
    }
   },
   "outputs": [
    {
     "name": "stdout",
     "output_type": "stream",
     "text": [
      "Removed: blue\n",
      "Remaining colors: {'green', 'red'}\n"
     ]
    }
   ],
   "source": [
    "colors = {\"red\", \"blue\", \"green\"}\n",
    "\n",
    "# pop() returns the removed element\n",
    "removed_color = colors.pop()\n",
    "print(f\"Removed: {removed_color}\")\n",
    "print(f\"Remaining colors: {colors}\")\n",
    "\n",
    "# Empty set would raise KeyError if pop() is used\n",
    "# empty_set = set()\n",
    "# empty_set.pop()  # Would raise KeyError"
   ]
  },
  {
   "cell_type": "markdown",
   "id": "8b70ac55-fd58-4a37-8d50-c13158ff9c15",
   "metadata": {
    "slideshow": {
     "slide_type": "slide"
    }
   },
   "source": [
    "## Clearing the Set with `clear()`"
   ]
  },
  {
   "cell_type": "code",
   "execution_count": 9,
   "id": "3a73ef01-aa3c-471b-976a-3e6d446fd17e",
   "metadata": {
    "slideshow": {
     "slide_type": "fragment"
    }
   },
   "outputs": [
    {
     "name": "stdout",
     "output_type": "stream",
     "text": [
      "set()\n"
     ]
    }
   ],
   "source": [
    "gadgets = {\"phone\", \"tablet\", \"laptop\"}\n",
    "\n",
    "gadgets.clear()\n",
    "print(gadgets)"
   ]
  },
  {
   "cell_type": "markdown",
   "id": "690f4ee3-39ca-4afd-859d-1712528aefe7",
   "metadata": {
    "slideshow": {
     "slide_type": "slide"
    }
   },
   "source": [
    "## Adding Multiple Elements with `update()`"
   ]
  },
  {
   "cell_type": "code",
   "execution_count": 10,
   "id": "75fba72b-9c55-4cb2-8231-0fa2f6acbc9d",
   "metadata": {
    "slideshow": {
     "slide_type": "fragment"
    }
   },
   "outputs": [
    {
     "name": "stdout",
     "output_type": "stream",
     "text": [
      "{'bike', 'car'}\n",
      "{'truck', 'bike', 'scooter', 'car'}\n",
      "{'bike', 'plane', 'car', 'boat', 'truck', 'scooter'}\n"
     ]
    }
   ],
   "source": [
    "# A set of vehicles\n",
    "vehicles = {\"car\", \"bike\"}\n",
    "print(vehicles)\n",
    "\n",
    "# Add elements from a list\n",
    "vehicles.update([\"truck\", \"scooter\"])\n",
    "print(vehicles)\n",
    "\n",
    "# Add elements from another set\n",
    "vehicles.update({\"boat\", \"plane\"})\n",
    "print(vehicles)"
   ]
  },
  {
   "cell_type": "markdown",
   "id": "9dd62e03-0667-4bd5-87e3-cef4901e6e78",
   "metadata": {
    "slideshow": {
     "slide_type": "slide"
    }
   },
   "source": [
    "## Iterating Over Set Elements"
   ]
  },
  {
   "cell_type": "code",
   "execution_count": 11,
   "id": "3411f852-6a6f-4803-8f2e-42b9dce5a0e3",
   "metadata": {
    "slideshow": {
     "slide_type": "fragment"
    }
   },
   "outputs": [
    {
     "name": "stdout",
     "output_type": "stream",
     "text": [
      "Loading level: desert\n",
      "Loading level: forest\n",
      "Loading level: ocean\n"
     ]
    }
   ],
   "source": [
    "# Set of game levels\n",
    "levels = {\"forest\", \"desert\", \"ocean\"}\n",
    "\n",
    "# The order of iteration is random\n",
    "for level in levels:\n",
    "    print(f\"Loading level: {level}\")"
   ]
  },
  {
   "cell_type": "markdown",
   "id": "b419b458-3802-41ac-abe4-8ee3180a0934",
   "metadata": {
    "slideshow": {
     "slide_type": "slide"
    }
   },
   "source": [
    "## Sets have Fast Membership Checking\n",
    "\n",
    "Membership checking in sets is fast because sets use a hash table to quickly find elements without searching through all of them."
   ]
  },
  {
   "cell_type": "code",
   "execution_count": 12,
   "id": "c6fa2883-7e8a-492f-9458-3963c384ef62",
   "metadata": {
    "slideshow": {
     "slide_type": "fragment"
    }
   },
   "outputs": [
    {
     "name": "stdout",
     "output_type": "stream",
     "text": [
      "List membership took 0.006959 seconds\n",
      "Set membership took  0.000033 seconds\n"
     ]
    }
   ],
   "source": [
    "import time\n",
    "\n",
    "# Create a big list and big set\n",
    "big_list = list(range(1_000_000))\n",
    "big_set = set(big_list)\n",
    "\n",
    "# Element that doesn't exist\n",
    "missing_element= -1\n",
    "\n",
    "# Time membership check in list\n",
    "start = time.time()\n",
    "missing_element in big_list\n",
    "end = time.time()\n",
    "print(f\"List membership took {end - start:.6f} seconds\")\n",
    "\n",
    "# Time membership check in set\n",
    "start = time.time()\n",
    "missing_element in big_set\n",
    "end = time.time()\n",
    "print(f\"Set membership took  {end - start:.6f} seconds\")"
   ]
  },
  {
   "cell_type": "markdown",
   "id": "0131c75d-db8d-4300-b55f-3d780756886d",
   "metadata": {
    "slideshow": {
     "slide_type": "slide"
    }
   },
   "source": [
    "## Check if All Elements Are Contained in Another Set with `issubset()`"
   ]
  },
  {
   "cell_type": "code",
   "execution_count": 13,
   "id": "74c90669-45e9-49de-b565-e299da741636",
   "metadata": {
    "slideshow": {
     "slide_type": "fragment"
    }
   },
   "outputs": [
    {
     "name": "stdout",
     "output_type": "stream",
     "text": [
      "Are all the pancake ingredients available at my home?\n",
      "True\n"
     ]
    }
   ],
   "source": [
    "# Set of my ingredients\n",
    "ingredients_at_home = {\"flour\", \"sugar\", \"eggs\", \"milk\"}\n",
    "\n",
    "# Subset we need for pancakes\n",
    "pancake_ingredients = {\"flour\", \"milk\"}\n",
    "\n",
    "print(\"Are all the pancake ingredients available at my home?\")\n",
    "print(pancake_ingredients.issubset(ingredients_at_home))\n",
    "\n",
    "# Operator alternative:\n",
    "# print(pancake_ingredients <= ingredients_at_home)"
   ]
  },
  {
   "cell_type": "markdown",
   "id": "3d330e29-17d1-4c45-8507-1e298337b643",
   "metadata": {
    "slideshow": {
     "slide_type": "slide"
    }
   },
   "source": [
    "## Check if a Set Contains All Elements of Another Set With `issuperset()`"
   ]
  },
  {
   "cell_type": "code",
   "execution_count": 14,
   "id": "f58bd7ea-82be-45f3-9fa1-317d0bc5717a",
   "metadata": {
    "slideshow": {
     "slide_type": "fragment"
    }
   },
   "outputs": [
    {
     "name": "stdout",
     "output_type": "stream",
     "text": [
      "Do my tools cover everything needed to build the chair?\n",
      "True\n"
     ]
    }
   ],
   "source": [
    "# Set of available tools\n",
    "my_tools = {\"hammer\", \"wrench\", \"screwdriver\", \"pliers\"}\n",
    "\n",
    "# Tools needed for building a chair\n",
    "chair_tools = {\"hammer\", \"screwdriver\"}\n",
    "\n",
    "print(\"Do my tools cover everything needed to build the chair?\")\n",
    "print(my_tools.issuperset(chair_tools))\n",
    "\n",
    "# Operator alternative:\n",
    "# print(my_tools >= chair_tools)"
   ]
  },
  {
   "cell_type": "markdown",
   "id": "29d46e28-180a-484b-98c2-cee06cee8ec7",
   "metadata": {
    "slideshow": {
     "slide_type": "slide"
    }
   },
   "source": [
    "## Proper and Improper Forms of Subsets and Supersets\n",
    "\n",
    "A set is a proper subset of another set if all its elements are in the other set and the two sets are not equal.<br/>\n",
    "A set is a proper superset of another set if it contains all elements of the other set and the two sets are not equal."
   ]
  },
  {
   "cell_type": "code",
   "execution_count": 15,
   "id": "90642d5b-6455-410f-9198-ae2cfc3fb448",
   "metadata": {
    "slideshow": {
     "slide_type": "fragment"
    }
   },
   "outputs": [
    {
     "name": "stdout",
     "output_type": "stream",
     "text": [
      "Is B a proper subset of A? True\n",
      "Is C a superset (proper or improper) of A? True\n"
     ]
    }
   ],
   "source": [
    "A = {1, 2, 3}\n",
    "B = {1, 2}\n",
    "C = {1, 2, 3}\n",
    "\n",
    "# Proper Subset\n",
    "print(\"Is B a proper subset of A?\", B < A)\n",
    "\n",
    "# Improper Superset (sets are equal)\n",
    "print(\"Is C a superset (proper or improper) of A?\", C >= A)"
   ]
  },
  {
   "cell_type": "markdown",
   "id": "0e2ea894-0874-460f-ac87-2e3e014cded3",
   "metadata": {
    "slideshow": {
     "slide_type": "slide"
    }
   },
   "source": [
    "## Check if Two Sets Have No Elements in Common With `isdisjoint()`"
   ]
  },
  {
   "cell_type": "code",
   "execution_count": 16,
   "id": "da285142-82c0-4a72-93a6-2534ddec893b",
   "metadata": {
    "slideshow": {
     "slide_type": "fragment"
    }
   },
   "outputs": [
    {
     "name": "stdout",
     "output_type": "stream",
     "text": [
      "Is the chocolate bar free from allergens?\n",
      "False\n",
      "Is the fruit salad free from allergens?\n",
      "True\n"
     ]
    }
   ],
   "source": [
    "# Set of known allergens\n",
    "allergens = {\"peanuts\", \"gluten\", \"soy\", \"dairy\"}\n",
    "\n",
    "# Ingredients in a chocolate bar\n",
    "chocolate_bar_ingredients = {\"cocoa\", \"sugar\", \"dairy\", \"vanilla\"}\n",
    "# Ingredients in a fruit salad\n",
    "fruit_salad_ingredients = {\"apple\", \"banana\", \"grapes\", \"melon\"}\n",
    "\n",
    "print(\"Is the chocolate bar free from allergens?\")\n",
    "print(allergens.isdisjoint(chocolate_bar_ingredients))\n",
    "\n",
    "print(\"Is the fruit salad free from allergens?\")\n",
    "print(allergens.isdisjoint(fruit_salad_ingredients))"
   ]
  },
  {
   "cell_type": "markdown",
   "id": "7fdccd22-0e81-40f5-965f-1a75f4c234ae",
   "metadata": {
    "slideshow": {
     "slide_type": "slide"
    }
   },
   "source": [
    "# Set Operations\n",
    "\n",
    "Sets have special methods and operators for performing particular operations.<br>\n",
    "Methods can be used with any iterable like a list or tuple.<br>\n",
    "Operators only work with other sets or subclasses of sets.<br>"
   ]
  },
  {
   "cell_type": "markdown",
   "id": "2dab7e94-a210-4c04-8511-3bf63e94d882",
   "metadata": {
    "slideshow": {
     "slide_type": "slide"
    }
   },
   "source": [
    "## Applying Union on Sets"
   ]
  },
  {
   "cell_type": "code",
   "execution_count": 17,
   "id": "16ab23b6-cb72-4e08-a393-4efcbed49a6b",
   "metadata": {
    "slideshow": {
     "slide_type": "fragment"
    }
   },
   "outputs": [
    {
     "name": "stdout",
     "output_type": "stream",
     "text": [
      "What are all the interests across both groups?\n",
      "{'traveling', 'painting', 'photography', 'cooking', 'hiking', 'gaming'}\n",
      "{'traveling', 'painting', 'photography', 'cooking', 'hiking', 'gaming'}\n"
     ]
    }
   ],
   "source": [
    "# Interests of Group A\n",
    "group_a_interests = {\"hiking\", \"photography\", \"traveling\", \"cooking\"}\n",
    "# Interests of Group B\n",
    "group_b_interests = {\"traveling\", \"gaming\", \"cooking\", \"painting\"}\n",
    "\n",
    "# Union -> All unique interests from both groups combined\n",
    "print(\"What are all the interests across both groups?\")\n",
    "print(group_a_interests.union(group_b_interests))\n",
    "\n",
    "# Operator alternative:\n",
    "print(group_a_interests | group_b_interests)"
   ]
  },
  {
   "cell_type": "markdown",
   "id": "761d30b4-944f-4354-bfcd-dc5f84f50f87",
   "metadata": {
    "slideshow": {
     "slide_type": "slide"
    }
   },
   "source": [
    "<center>\n",
    "  <img src=\"union_diagram_w.png\" style=\"width: 800px;\">\n",
    "</center"
   ]
  },
  {
   "cell_type": "markdown",
   "id": "7fcd4314-cf28-413e-b9a7-90d34e493ac8",
   "metadata": {
    "slideshow": {
     "slide_type": "slide"
    }
   },
   "source": [
    "## Applying Intersection on Sets"
   ]
  },
  {
   "cell_type": "code",
   "execution_count": 18,
   "id": "7a240c64-4bcc-415e-ac24-11b0edd5b93d",
   "metadata": {
    "slideshow": {
     "slide_type": "fragment"
    }
   },
   "outputs": [
    {
     "name": "stdout",
     "output_type": "stream",
     "text": [
      "What interests do both groups have in common?\n",
      "{'traveling', 'cooking'}\n",
      "{'traveling', 'cooking'}\n"
     ]
    }
   ],
   "source": [
    "# Interests of Group A\n",
    "group_a_interests = {\"hiking\", \"photography\", \"traveling\", \"cooking\"}\n",
    "# Interests of Group B\n",
    "group_b_interests = {\"traveling\", \"gaming\", \"cooking\", \"painting\"}\n",
    "\n",
    "# Intersection -> Interests both groups share\n",
    "print(\"What interests do both groups have in common?\")\n",
    "print(group_a_interests.intersection(group_b_interests))\n",
    "\n",
    "# Operator alternative:\n",
    "print(group_a_interests & group_b_interests)"
   ]
  },
  {
   "cell_type": "markdown",
   "id": "03ce214a-4c9b-4d6a-be6f-d0b7ba6aed0d",
   "metadata": {
    "slideshow": {
     "slide_type": "slide"
    }
   },
   "source": [
    "<center>\n",
    "  <img src=\"intersection_diagram_w.png\" style=\"width: 800px;\">\n",
    "</center"
   ]
  },
  {
   "cell_type": "markdown",
   "id": "6b5b7dcc-3b8d-4e96-9fc9-d4300489f6af",
   "metadata": {
    "slideshow": {
     "slide_type": "slide"
    }
   },
   "source": [
    "## Applying Difference on Sets"
   ]
  },
  {
   "cell_type": "code",
   "execution_count": 19,
   "id": "759ca541-5c14-4839-98b1-4358096b5e6d",
   "metadata": {
    "slideshow": {
     "slide_type": "fragment"
    }
   },
   "outputs": [
    {
     "name": "stdout",
     "output_type": "stream",
     "text": [
      "What interests are unique to Group A?\n",
      "{'photography', 'hiking'}\n",
      "{'photography', 'hiking'}\n",
      "What interests are unique to Group B?\n",
      "{'painting', 'gaming'}\n",
      "{'painting', 'gaming'}\n"
     ]
    }
   ],
   "source": [
    "# Interests of Group A\n",
    "group_a_interests = {\"hiking\", \"photography\", \"traveling\", \"cooking\"}\n",
    "# Interests of Group B\n",
    "group_b_interests = {\"traveling\", \"gaming\", \"cooking\", \"painting\"}\n",
    "\n",
    "# Difference -> Interests that are in Group A but not in Group B.\n",
    "print(\"What interests are unique to Group A?\")\n",
    "print(group_a_interests.difference(group_b_interests))\n",
    "# Operator alternative:\n",
    "print(group_a_interests - group_b_interests)\n",
    "\n",
    "# Difference -> Interests that are in Group B but not in Group A.\n",
    "print(\"What interests are unique to Group B?\")\n",
    "print(group_b_interests.difference(group_a_interests))\n",
    "# Operator alternative:\n",
    "print(group_b_interests - group_a_interests)"
   ]
  },
  {
   "cell_type": "markdown",
   "id": "21348095-aae8-4ddc-a7e4-0cbf9b02a396",
   "metadata": {
    "slideshow": {
     "slide_type": "slide"
    }
   },
   "source": [
    "<div style=\"display: flex; justify-content: center; align-items: center; width: 100%;\">\n",
    "  <img src=\"difference_a_b_diagram_w.png\" style=\"width: 650px; margin: 0 20px;\">\n",
    "  <img src=\"difference_b_a_diagram_w.png\" style=\"width: 650px; margin: 0 20px;\">\n",
    "</div>"
   ]
  },
  {
   "cell_type": "markdown",
   "id": "2076571d-5a53-49f6-aff1-df964c06d3cd",
   "metadata": {
    "slideshow": {
     "slide_type": "slide"
    }
   },
   "source": [
    "## Applying Symmetric Difference on Sets"
   ]
  },
  {
   "cell_type": "code",
   "execution_count": 20,
   "id": "a1571862-30bf-43f1-9f66-e31b9f992906",
   "metadata": {
    "slideshow": {
     "slide_type": "fragment"
    }
   },
   "outputs": [
    {
     "name": "stdout",
     "output_type": "stream",
     "text": [
      "What interests are different between the groups (not shared)?\n",
      "{'painting', 'photography', 'hiking', 'gaming'}\n",
      "{'painting', 'photography', 'hiking', 'gaming'}\n"
     ]
    }
   ],
   "source": [
    "# Interests of Group A\n",
    "group_a_interests = {\"hiking\", \"photography\", \"traveling\", \"cooking\"}\n",
    "# Interests of Group B\n",
    "group_b_interests = {\"traveling\", \"gaming\", \"cooking\", \"painting\"}\n",
    "\n",
    "# Symmetric Difference -> Interests in either Group A or Group B, but not both\n",
    "print(\"What interests are different between the groups (not shared)?\")\n",
    "print(group_a_interests.symmetric_difference(group_b_interests))\n",
    "\n",
    "# Operator alternative:\n",
    "print(group_a_interests ^ group_b_interests)"
   ]
  },
  {
   "cell_type": "markdown",
   "id": "a93ec2f5-ddea-466f-b59e-c47ed51dcff4",
   "metadata": {
    "slideshow": {
     "slide_type": "slide"
    }
   },
   "source": [
    "<center>\n",
    "  <img src=\"symmetric_difference_diagram_w.png\" style=\"width: 800px;\">\n",
    "</center>"
   ]
  },
  {
   "cell_type": "markdown",
   "id": "5205153f-e77c-4bae-9c83-e6df7e77c6ef",
   "metadata": {
    "slideshow": {
     "slide_type": "slide"
    }
   },
   "source": [
    "# Augmented Assignment Methods and Operators"
   ]
  },
  {
   "cell_type": "markdown",
   "id": "c1be68cf-1809-4afe-bddd-870ee99c9210",
   "metadata": {
    "slideshow": {
     "slide_type": "slide"
    }
   },
   "source": [
    "## Applying Union Update on Set"
   ]
  },
  {
   "cell_type": "code",
   "execution_count": 21,
   "id": "0d689caa-9a87-4002-81b1-531db1d1e344",
   "metadata": {
    "slideshow": {
     "slide_type": "fragment"
    }
   },
   "outputs": [
    {
     "name": "stdout",
     "output_type": "stream",
     "text": [
      "My initial skills: {'Python', 'HTML', 'SQL'}\n",
      "Skills that I can learn from the course: {'Python', 'C++', 'Java'}\n",
      "\n",
      "My skills after taking the course (update): {'C++', 'Python', 'HTML', 'Java', 'SQL'}\n"
     ]
    }
   ],
   "source": [
    "# Skills I currently have\n",
    "my_skills = {\"Python\", \"SQL\", \"HTML\"}\n",
    "print(\"My initial skills:\", my_skills)\n",
    "\n",
    "# New skills from an online course\n",
    "course_skills = {\"Python\", \"Java\", \"C++\"}\n",
    "print(\"Skills that I can learn from the course:\", course_skills)\n",
    "\n",
    "# Using update() method (Union)\n",
    "# Include all of the skills from my_skills and course_skills\n",
    "my_skills.update(course_skills)\n",
    "print(\"\\nMy skills after taking the course (update):\", my_skills)\n",
    "\n",
    "# Operator alternative:\n",
    "# my_skills = my_skills | course_skills\n",
    "# Or in short:\n",
    "# my_skills |= course_skills"
   ]
  },
  {
   "cell_type": "markdown",
   "id": "4d5ab517-6a00-4cd4-9438-4acaa71705b9",
   "metadata": {
    "slideshow": {
     "slide_type": "skip"
    }
   },
   "source": [
    "![Union Update Skills](skills_union_diagram_w.png)"
   ]
  },
  {
   "cell_type": "markdown",
   "id": "54f3c139-7a07-4c06-a574-0c2459c7d6b5",
   "metadata": {
    "slideshow": {
     "slide_type": "slide"
    }
   },
   "source": [
    "## Applying Intersection Update on Set"
   ]
  },
  {
   "cell_type": "code",
   "execution_count": 22,
   "id": "7f37292d-e096-4ccb-87d9-c84d5022fbbe",
   "metadata": {
    "slideshow": {
     "slide_type": "fragment"
    }
   },
   "outputs": [
    {
     "name": "stdout",
     "output_type": "stream",
     "text": [
      "My skills: {'Python', 'C++', 'Java', 'HTML', 'SQL'}\n",
      "Job required skills: {'Python', 'AWS', 'SQL'}\n",
      "\n",
      "Required skills from the job that I have (intersection_update): {'Python', 'SQL'}\n"
     ]
    }
   ],
   "source": [
    "my_skills = {\"Python\", \"SQL\", \"HTML\", \"Java\", \"C++\"}\n",
    "print(\"My skills:\", my_skills)\n",
    "\n",
    "# Skills required for a job offer\n",
    "job_required_skills = {\"Python\", \"SQL\", \"AWS\"}\n",
    "print(\"Job required skills:\", job_required_skills)\n",
    "\n",
    "# Using intersection_update() method (Intersection)\n",
    "# Only leave the skills that are also present in the job_required_skills\n",
    "my_skills.intersection_update(job_required_skills)\n",
    "print(\"\\nRequired skills from the job that I have (intersection_update):\", my_skills)\n",
    "\n",
    "# Operator alternative:\n",
    "# my_skills = my_skills & job_required_skills\n",
    "# Or in short:\n",
    "# my_skills &= job_required_skills"
   ]
  },
  {
   "cell_type": "markdown",
   "id": "1591c3c7-0bee-47fc-bc6f-c49b41c08190",
   "metadata": {
    "slideshow": {
     "slide_type": "skip"
    }
   },
   "source": [
    "![Intersection Update Skills](skills_intersection_diagram_w.png)"
   ]
  },
  {
   "cell_type": "markdown",
   "id": "29a94f92-bbd7-45ba-a041-58c30f2364b3",
   "metadata": {
    "slideshow": {
     "slide_type": "slide"
    }
   },
   "source": [
    "## Applying Difference Update on Set"
   ]
  },
  {
   "cell_type": "code",
   "execution_count": 23,
   "id": "d15667cb-4f78-4eac-993a-07f5b4216766",
   "metadata": {
    "slideshow": {
     "slide_type": "fragment"
    }
   },
   "outputs": [
    {
     "name": "stdout",
     "output_type": "stream",
     "text": [
      "My skills: {'Python', 'SQL'}\n",
      "Trending skills: {'Python', 'C++', 'AWS', 'Rust'}\n",
      "\n",
      "My skills which are not trending (difference_update): {'SQL'}\n"
     ]
    }
   ],
   "source": [
    "my_skills = {\"Python\", \"SQL\"}\n",
    "print(\"My skills:\", my_skills)\n",
    "\n",
    "# Skills trending in the industry\n",
    "trending_skills = {\"Python\", \"Rust\", \"C++\", \"AWS\"}\n",
    "print(\"Trending skills:\", trending_skills)\n",
    "\n",
    "# Using difference_update() method (Difference)\n",
    "# Remove from my_skills anything that also appears in trending_skills\n",
    "my_skills.difference_update(trending_skills)\n",
    "print(\"\\nMy skills which are not trending (difference_update):\", my_skills)\n",
    "\n",
    "# Operator alternative:\n",
    "# my_skills = my_skills - trending_skills\n",
    "# Or in short:\n",
    "# my_skills -= trending_skills"
   ]
  },
  {
   "cell_type": "markdown",
   "id": "5f4d0e76-de6e-406d-8200-90a2408b7051",
   "metadata": {
    "slideshow": {
     "slide_type": "skip"
    }
   },
   "source": [
    "![Difference Update Skills](skills_difference_diagram_w.png)"
   ]
  },
  {
   "cell_type": "markdown",
   "id": "3379dcdf-ef36-4813-905e-83cfcb739d9d",
   "metadata": {
    "slideshow": {
     "slide_type": "slide"
    }
   },
   "source": [
    "## Applying Symmetric Difference Update on Set"
   ]
  },
  {
   "cell_type": "code",
   "execution_count": 24,
   "id": "984a90b5-5f63-4d4e-8c6e-a686f00f5801",
   "metadata": {
    "scrolled": true,
    "slideshow": {
     "slide_type": "fragment"
    }
   },
   "outputs": [
    {
     "name": "stdout",
     "output_type": "stream",
     "text": [
      "Current system files: {'project.docx', 'report.pdf', 'photo1.jpg', 'photo2.jpg'}\n",
      "Backup drive files: {'project.docx', 'report.pdf', 'photo1.jpg', 'photo3.jpg'}\n",
      "\n",
      "Files missing from backup or deleted from system (symmetric_difference_update): {'photo3.jpg', 'photo2.jpg'}\n"
     ]
    }
   ],
   "source": [
    "# Files currently on my laptop\n",
    "current_system_files = {\"project.docx\", \"report.pdf\", \"photo1.jpg\", \"photo2.jpg\"}\n",
    "print(\"Current system files:\", current_system_files)\n",
    "\n",
    "# Files saved on my backup hard drive\n",
    "backup_drive_files = {\"project.docx\", \"report.pdf\", \"photo1.jpg\", \"photo3.jpg\"}\n",
    "print(\"Backup drive files:\", backup_drive_files)\n",
    "\n",
    "# Using symmetric_difference_update() method (Symmetric Difference)\n",
    "# Only keep the files which do not appear in both locations\n",
    "current_system_files.symmetric_difference_update(backup_drive_files)\n",
    "print(\"\\nFiles missing from backup or deleted from system (symmetric_difference_update):\", current_system_files)\n",
    "\n",
    "# Operator alternative:\n",
    "# current_system_files = current_system_files ^ backup_drive_files\n",
    "# Or in short:\n",
    "# current_system_files ^= backup_drive_files"
   ]
  },
  {
   "cell_type": "markdown",
   "id": "af6098eb-02f7-41ef-94ab-9d2dfddcd392",
   "metadata": {
    "slideshow": {
     "slide_type": "skip"
    }
   },
   "source": [
    "![Symmetric Difference Update Files](files_symmetric_difference_diagram_w.png)"
   ]
  },
  {
   "cell_type": "markdown",
   "id": "9939a40d-a37a-4332-b10e-3b0167ea24ea",
   "metadata": {
    "slideshow": {
     "slide_type": "slide"
    }
   },
   "source": [
    "## Frozen Sets\n",
    "\n",
    "Frozen sets are immutable and therefore hashable."
   ]
  },
  {
   "cell_type": "code",
   "execution_count": 25,
   "id": "21b0eca6-24c1-4e81-bd35-c9337d5497fe",
   "metadata": {
    "slideshow": {
     "slide_type": "fragment"
    }
   },
   "outputs": [
    {
     "name": "stdout",
     "output_type": "stream",
     "text": [
      "Error: 'frozenset' object has no attribute 'add'\n",
      "Frozensets are immutable — you cannot add or remove elements.\n"
     ]
    }
   ],
   "source": [
    "# Frozenset Basics\n",
    "\n",
    "# Creating a frozenset\n",
    "fset = frozenset([\"tomato\", \"banana\", \"cherry\"])\n",
    "\n",
    "# Frozensets are immutable: you cannot add, remove, or change elements\n",
    "try:\n",
    "    fset.add(\"orange\")\n",
    "except AttributeError as e:\n",
    "    print(\"Error:\", e)\n",
    "    print(\"Frozensets are immutable — you cannot add or remove elements.\")"
   ]
  },
  {
   "cell_type": "markdown",
   "id": "9f9e6738-5037-42fb-a253-df9ed751af46",
   "metadata": {
    "slideshow": {
     "slide_type": "slide"
    }
   },
   "source": [
    "## Prevent Set Modifications"
   ]
  },
  {
   "cell_type": "code",
   "execution_count": 26,
   "id": "072835de-1898-4597-8dd1-259ebcab0115",
   "metadata": {
    "slideshow": {
     "slide_type": "fragment"
    }
   },
   "outputs": [
    {
     "name": "stdout",
     "output_type": "stream",
     "text": [
      "True\n",
      "False\n"
     ]
    }
   ],
   "source": [
    "admin_permissions = frozenset([\"read\", \"write\", \"delete\"])\n",
    "user_permissions = frozenset([\"read\"])\n",
    "\n",
    "def can_do(permissions, action):\n",
    "    return action in permissions\n",
    "\n",
    "# Example usage:\n",
    "print(can_do(admin_permissions, \"delete\"))\n",
    "print(can_do(user_permissions, \"delete\"))\n",
    "\n",
    "# This will raise an error:\n",
    "# admin_permissions.add(\"export\")  # AttributeError: 'frozenset' object has no attribute 'add'"
   ]
  },
  {
   "cell_type": "markdown",
   "id": "f62079bc-5a10-4f8f-b26d-44f22266a087",
   "metadata": {
    "slideshow": {
     "slide_type": "slide"
    }
   },
   "source": [
    "## Sets as Dictionary Keys\n",
    "\n",
    "Dictionary keys have to be immutable, because they are hashed. "
   ]
  },
  {
   "cell_type": "code",
   "execution_count": 27,
   "id": "d5d7ecc1-c9f7-4356-a229-e8d39ca8d88f",
   "metadata": {
    "slideshow": {
     "slide_type": "fragment"
    }
   },
   "outputs": [
    {
     "name": "stdout",
     "output_type": "stream",
     "text": [
      "Pancakes\n"
     ]
    }
   ],
   "source": [
    "# Mapping ingredients to recipes\n",
    "recipes = {\n",
    "    frozenset([\"flour\", \"sugar\", \"eggs\"]): \"Cake\",\n",
    "    frozenset([\"flour\", \"milk\", \"eggs\"]): \"Pancakes\",\n",
    "}\n",
    "\n",
    "# Search by available ingredients\n",
    "available = frozenset([\"milk\", \"eggs\", \"flour\"]) # Order doesn't have to match in sets\n",
    "print(recipes.get(available))"
   ]
  },
  {
   "cell_type": "markdown",
   "id": "8668daee-d115-4140-9ed7-e785108dffcb",
   "metadata": {
    "slideshow": {
     "slide_type": "slide"
    }
   },
   "source": [
    "## Partial Matches Example"
   ]
  },
  {
   "cell_type": "code",
   "execution_count": 28,
   "id": "8093e517-f365-4732-817a-2ce49e0f10f2",
   "metadata": {
    "slideshow": {
     "slide_type": "fragment"
    }
   },
   "outputs": [
    {
     "name": "stdout",
     "output_type": "stream",
     "text": [
      "You can almost make Pancakes! Missing: frozenset({'eggs'})\n"
     ]
    }
   ],
   "source": [
    "# Set up recipes (ingredients stored in frozensets)\n",
    "recipes = {\n",
    "    \"Cake\": frozenset([\"flour\", \"sugar\", \"eggs\"]),\n",
    "    \"Pancakes\": frozenset([\"flour\", \"milk\", \"eggs\"]),\n",
    "    \"Omelette\": frozenset([\"eggs\", \"milk\", \"cheese\"]),\n",
    "}\n",
    "\n",
    "# Ingredients you have at home\n",
    "available_ingredients = {\"flour\", \"milk\"}\n",
    "\n",
    "# Find possible recipes you can ALMOST make\n",
    "for recipe_name, ingredients_needed in recipes.items():\n",
    "    missing_ingredients = ingredients_needed - available_ingredients\n",
    "    if len(missing_ingredients) <= 1:\n",
    "        print(f\"You can almost make {recipe_name}! Missing: {missing_ingredients}\")"
   ]
  },
  {
   "cell_type": "markdown",
   "id": "0531336b-2a62-4882-a63d-16e2344b3711",
   "metadata": {
    "slideshow": {
     "slide_type": "slide"
    }
   },
   "source": [
    "## Sets Inside Other Sets"
   ]
  },
  {
   "cell_type": "code",
   "execution_count": 29,
   "id": "f43c7501-26fe-4c07-a721-0c51e8201e9c",
   "metadata": {
    "slideshow": {
     "slide_type": "fragment"
    }
   },
   "outputs": [
    {
     "name": "stdout",
     "output_type": "stream",
     "text": [
      "You played a valid triad from the C major scale!\n"
     ]
    }
   ],
   "source": [
    "# Frozensets of the harmonized C major scale triads\n",
    "c_major_triads = {\n",
    "    frozenset([\"C\", \"E\", \"G\"]),    # C major (I)\n",
    "    frozenset([\"D\", \"F\", \"A\"]),    # D minor (ii)\n",
    "    frozenset([\"E\", \"G\", \"B\"]),    # E minor (iii)\n",
    "    frozenset([\"F\", \"A\", \"C\"]),    # F major (IV)\n",
    "    frozenset([\"G\", \"B\", \"D\"]),    # G major (V)\n",
    "    frozenset([\"A\", \"C\", \"E\"]),    # A minor (vi)\n",
    "    frozenset([\"B\", \"D\", \"F\"]),    # B diminished (vii°)\n",
    "}\n",
    "\n",
    "# Notes played by a guitarist (could include repeated notes)\n",
    "played_notes = [\"E\", \"B\", \"E\", \"G\", \"B\", \"E\"]\n",
    "# Remove duplicates by turning into a set\n",
    "unique_played_notes = set(played_notes) # set(\"E\", \"B\", \"G\")\n",
    "\n",
    "# Check if the played notes form a valid triad from the C major harmonization\n",
    "if frozenset(unique_played_notes) in c_major_triads:\n",
    "    print(\"You played a valid triad from the C major scale!\")\n",
    "else:\n",
    "    print(\"Not a triad from the C major scale.\")"
   ]
  }
 ],
 "metadata": {
  "celltoolbar": "Slideshow",
  "kernelspec": {
   "display_name": "Python 3 (ipykernel)",
   "language": "python",
   "name": "python3"
  },
  "language_info": {
   "codemirror_mode": {
    "name": "ipython",
    "version": 3
   },
   "file_extension": ".py",
   "mimetype": "text/x-python",
   "name": "python",
   "nbconvert_exporter": "python",
   "pygments_lexer": "ipython3",
   "version": "3.11.10"
  }
 },
 "nbformat": 4,
 "nbformat_minor": 5
}
