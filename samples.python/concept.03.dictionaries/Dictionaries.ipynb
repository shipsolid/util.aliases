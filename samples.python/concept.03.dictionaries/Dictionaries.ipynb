{
 "cells": [
  {
   "cell_type": "markdown",
   "id": "9001ccee-59e6-47a5-aba5-bfb46c2dabc8",
   "metadata": {
    "slideshow": {
     "slide_type": "slide"
    }
   },
   "source": [
    "# Dictionaries"
   ]
  },
  {
   "cell_type": "markdown",
   "id": "45763a55-b774-40d7-998e-fe6b0b5ac657",
   "metadata": {
    "slideshow": {
     "slide_type": "slide"
    }
   },
   "source": [
    "## Creating Dictionaries"
   ]
  },
  {
   "cell_type": "code",
   "execution_count": 1,
   "id": "4f2207ad-f776-4583-a1e4-cd9dc8f716f0",
   "metadata": {
    "slideshow": {
     "slide_type": "fragment"
    }
   },
   "outputs": [
    {
     "name": "stdout",
     "output_type": "stream",
     "text": [
      "Settings dictionary: {'resolution': '1920x1080', 'fullscreen': True, 'volume': 75}\n",
      "Length of a dictionary: 3\n",
      "Empty dictionary:  {}\n"
     ]
    }
   ],
   "source": [
    "settings_dict = {\n",
    "    \"resolution\": \"1920x1080\",\n",
    "    \"fullscreen\": True,\n",
    "    \"volume\": 75\n",
    "}\n",
    "print(\"Settings dictionary:\", settings_dict)\n",
    "print(\"Length of a dictionary:\", len(settings_dict))\n",
    "\n",
    "empty_dict = {}\n",
    "print(\"Empty dictionary: \", empty_dict)"
   ]
  },
  {
   "cell_type": "markdown",
   "id": "30d2afcb-ae5c-4d5c-b704-ab92767b18d3",
   "metadata": {
    "slideshow": {
     "slide_type": "slide"
    }
   },
   "source": [
    "## Initializing Dictionary Values with `fromkeys()`"
   ]
  },
  {
   "cell_type": "code",
   "execution_count": 2,
   "id": "26232668-ec8e-48b0-8850-e44f316c0120",
   "metadata": {
    "slideshow": {
     "slide_type": "fragment"
    }
   },
   "outputs": [
    {
     "name": "stdout",
     "output_type": "stream",
     "text": [
      "{'read': False, 'write': False, 'delete': False, 'export': False}\n"
     ]
    }
   ],
   "source": [
    "permissions = [\"read\", \"write\", \"delete\", \"export\"]\n",
    "default_permissions = dict.fromkeys(permissions, False)\n",
    "\n",
    "print(default_permissions)"
   ]
  },
  {
   "cell_type": "markdown",
   "id": "0333e28d-4313-4dc2-938e-7079b52c90cf",
   "metadata": {
    "slideshow": {
     "slide_type": "slide"
    }
   },
   "source": [
    "## Accessing Dictionary Items with Keys"
   ]
  },
  {
   "cell_type": "code",
   "execution_count": 3,
   "id": "ca1a8324-81ee-442e-b85f-53e2105ad6c1",
   "metadata": {
    "slideshow": {
     "slide_type": "fragment"
    }
   },
   "outputs": [
    {
     "name": "stdout",
     "output_type": "stream",
     "text": [
      "1920x1080\n"
     ]
    }
   ],
   "source": [
    "config = {\n",
    "    \"resolution\": \"1920x1080\",\n",
    "    \"fullscreen\": True\n",
    "}\n",
    "\n",
    "print(config[\"resolution\"])"
   ]
  },
  {
   "cell_type": "markdown",
   "id": "b86845fa-38c3-4606-8350-2982e7cceeef",
   "metadata": {
    "slideshow": {
     "slide_type": "slide"
    }
   },
   "source": [
    "## Nested Dictionaries"
   ]
  },
  {
   "cell_type": "code",
   "execution_count": 4,
   "id": "c9f11b1d-0324-4950-a549-b68491745123",
   "metadata": {
    "slideshow": {
     "slide_type": "fragment"
    }
   },
   "outputs": [
    {
     "name": "stdout",
     "output_type": "stream",
     "text": [
      "User X theme: dark\n"
     ]
    }
   ],
   "source": [
    "user_preferences = {\n",
    "    \"userX\": {\n",
    "        \"email\": \"userx@example.com\",\n",
    "        \"preferences\": {\n",
    "            \"theme\": \"dark\",\n",
    "            \"notifications\": True\n",
    "        }\n",
    "    },\n",
    "    \"userY\": {\n",
    "        \"email\": \"usery@example.com\",\n",
    "        \"preferences\": {\n",
    "            \"theme\": \"light\",\n",
    "            \"notifications\": False\n",
    "        }\n",
    "    }\n",
    "}\n",
    "print(\"User X theme:\", user_preferences[\"userX\"][\"preferences\"][\"theme\"])"
   ]
  },
  {
   "cell_type": "markdown",
   "id": "d7ef0928-08d6-4ed3-870e-8099f8cb72ba",
   "metadata": {
    "slideshow": {
     "slide_type": "slide"
    }
   },
   "source": [
    "## Accessing Non-existent Keys will Raise a `KeyError`"
   ]
  },
  {
   "cell_type": "code",
   "execution_count": 5,
   "id": "4a51d80c-7622-4375-ba43-f4afc864c02e",
   "metadata": {
    "slideshow": {
     "slide_type": "fragment"
    }
   },
   "outputs": [
    {
     "name": "stdout",
     "output_type": "stream",
     "text": [
      "The 'brightness' setting is missing.\n"
     ]
    }
   ],
   "source": [
    "config = {\n",
    "    \"resolution\": \"1920x1080\",\n",
    "    \"fullscreen\": True\n",
    "}\n",
    "\n",
    "try:\n",
    "    print(config[\"brightness\"])  # This key doesn't exist\n",
    "except KeyError:\n",
    "    print(\"The 'brightness' setting is missing.\")"
   ]
  },
  {
   "cell_type": "markdown",
   "id": "00427320-ee0f-436d-8712-0ef1ae09f326",
   "metadata": {
    "slideshow": {
     "slide_type": "slide"
    }
   },
   "source": [
    "## Checking if the Key Exists"
   ]
  },
  {
   "cell_type": "code",
   "execution_count": 6,
   "id": "06772485-b0dc-4305-aaf3-8cf479fde9dc",
   "metadata": {
    "slideshow": {
     "slide_type": "fragment"
    }
   },
   "outputs": [
    {
     "name": "stdout",
     "output_type": "stream",
     "text": [
      "The 'brightness' setting is missing.\n",
      "Resolution is: 1920x1080\n"
     ]
    }
   ],
   "source": [
    "config = {\n",
    "    \"resolution\": \"1920x1080\",\n",
    "    \"fullscreen\": True\n",
    "}\n",
    "\n",
    "# Check if the key is NOT present\n",
    "if \"brightness\" not in config:\n",
    "    print(\"The 'brightness' setting is missing.\")\n",
    "else:\n",
    "    print(\"Brightness is:\", config[\"brightness\"])\n",
    "\n",
    "# Check if the key is present\n",
    "if \"resolution\" in config:\n",
    "    print(\"Resolution is:\", config[\"resolution\"])\n",
    "else:\n",
    "    print(\"The 'resolution' setting is missing.\")"
   ]
  },
  {
   "cell_type": "markdown",
   "id": "68dec6fb-ea23-48f4-8fae-c99503808b97",
   "metadata": {
    "slideshow": {
     "slide_type": "slide"
    }
   },
   "source": [
    "## Accessing Elements with `get()`"
   ]
  },
  {
   "cell_type": "code",
   "execution_count": 7,
   "id": "24125085-28a8-4205-b19d-c94b5c881c32",
   "metadata": {
    "slideshow": {
     "slide_type": "fragment"
    }
   },
   "outputs": [
    {
     "name": "stdout",
     "output_type": "stream",
     "text": [
      "Resolution: 1920x1080\n",
      "Brightness: [MISSING: Set default brightness]\n",
      "Selected language: en\n",
      "Theme: None\n"
     ]
    }
   ],
   "source": [
    "config = {\n",
    "    \"resolution\": \"1920x1080\",\n",
    "    \"fullscreen\": True\n",
    "}\n",
    "\n",
    "resolution = config.get(\"resolution\", \"[MISSING: Set default resolution]\")\n",
    "print(\"Resolution:\", resolution)\n",
    "\n",
    "brightness = config.get(\"brightness\", \"[MISSING: Set default brightness]\") # Default to a warning message\n",
    "print(\"Brightness:\", brightness)\n",
    "\n",
    "language = config.get(\"language\", \"en\")  # Default to English\n",
    "print(\"Selected language:\", language)\n",
    "\n",
    "print(\"Theme:\", config.get(\"theme\")) # This non-existent key will NOT raise a KeyError"
   ]
  },
  {
   "cell_type": "markdown",
   "id": "52d16040-f7d9-47e2-a56b-cf28565d88f4",
   "metadata": {
    "slideshow": {
     "slide_type": "slide"
    }
   },
   "source": [
    "## Applying Default Values with `setdefault()`"
   ]
  },
  {
   "cell_type": "code",
   "execution_count": 8,
   "id": "35b1dfcb-ba48-4e9a-839a-377a95de23da",
   "metadata": {
    "slideshow": {
     "slide_type": "fragment"
    }
   },
   "outputs": [
    {
     "name": "stdout",
     "output_type": "stream",
     "text": [
      "User's role: viewer\n",
      "Username: data_builder\n",
      "{'username': 'data_builder', 'role': 'viewer'}\n"
     ]
    }
   ],
   "source": [
    "user = {\n",
    "    \"username\": \"data_builder\"\n",
    "}\n",
    "\n",
    "user_role = user.setdefault(\"role\", \"viewer\") # If the key doesn't exist, add it with the default value\n",
    "print(\"User's role:\", user_role)\n",
    "\n",
    "username = user.setdefault(\"username\", \"data_tester\") # If the key exists, return its corresponding value\n",
    "print(\"Username:\", username)\n",
    "\n",
    "print(user)"
   ]
  },
  {
   "cell_type": "markdown",
   "id": "b95461dd-8e61-479e-8795-72d72e04eb39",
   "metadata": {
    "slideshow": {
     "slide_type": "slide"
    }
   },
   "source": [
    "## Adding and Updating Items"
   ]
  },
  {
   "cell_type": "code",
   "execution_count": 9,
   "id": "1ae6e059-288f-417d-8afe-dfdf3624499b",
   "metadata": {
    "slideshow": {
     "slide_type": "fragment"
    }
   },
   "outputs": [
    {
     "name": "stdout",
     "output_type": "stream",
     "text": [
      "{'temperature': '23°C', 'humidity': '60%'}\n"
     ]
    }
   ],
   "source": [
    "sensors = {\n",
    "    \"temperature\": \"22°C\"\n",
    "}\n",
    "\n",
    "sensors[\"humidity\"] = \"60%\"  # Add new sensor reading\n",
    "sensors[\"temperature\"] = \"23°C\"  # Update reading\n",
    "\n",
    "print(sensors)"
   ]
  },
  {
   "cell_type": "markdown",
   "id": "aac24c8e-3052-49bd-ac91-850a4e672e7c",
   "metadata": {
    "slideshow": {
     "slide_type": "slide"
    }
   },
   "source": [
    "## Updating a Dictionary with `update()`"
   ]
  },
  {
   "cell_type": "code",
   "execution_count": 10,
   "id": "0070e5c4-45fd-4d4d-a487-319140d68f46",
   "metadata": {
    "slideshow": {
     "slide_type": "fragment"
    }
   },
   "outputs": [
    {
     "name": "stdout",
     "output_type": "stream",
     "text": [
      "{'sampling_rate': 60, 'units': 'imperial', 'precision': 3, 'calibration_offset': 0.05}\n"
     ]
    }
   ],
   "source": [
    "global_settings = {\n",
    "    \"sampling_rate\": 60,\n",
    "    \"units\": \"metric\",\n",
    "    \"precision\": 2\n",
    "}\n",
    "\n",
    "device_overrides = {\n",
    "    \"precision\": 3,             # existing key\n",
    "    \"units\": \"imperial\",        # existing key\n",
    "    \"calibration_offset\": 0.05  # new key\n",
    "}\n",
    "\n",
    "global_settings.update(device_overrides)\n",
    "\n",
    "print(global_settings)"
   ]
  },
  {
   "cell_type": "markdown",
   "id": "6006fda5-27de-471f-8075-fc0d00accd4e",
   "metadata": {
    "slideshow": {
     "slide_type": "slide"
    }
   },
   "source": [
    "## Updating a Dictionary <br> with the `|=` (Merge-update) Operator"
   ]
  },
  {
   "cell_type": "code",
   "execution_count": 11,
   "id": "9f6db67e-e6d5-4a0e-8cf4-43f9bcf5c78c",
   "metadata": {
    "slideshow": {
     "slide_type": "fragment"
    }
   },
   "outputs": [
    {
     "name": "stdout",
     "output_type": "stream",
     "text": [
      "{'sampling_rate': 60, 'units': 'imperial', 'precision': 3, 'calibration_offset': 0.05}\n"
     ]
    }
   ],
   "source": [
    "global_settings = {\n",
    "    \"sampling_rate\": 60,\n",
    "    \"units\": \"metric\",\n",
    "    \"precision\": 2\n",
    "}\n",
    "\n",
    "device_overrides = {\n",
    "    \"precision\": 3,             # existing key\n",
    "    \"units\": \"imperial\",        # existing key\n",
    "    \"calibration_offset\": 0.05  # new key\n",
    "}\n",
    "\n",
    "global_settings |= device_overrides\n",
    "\n",
    "print(global_settings)"
   ]
  },
  {
   "cell_type": "markdown",
   "id": "edff21c5-9cd5-41a6-8fff-1f5de39b12da",
   "metadata": {
    "slideshow": {
     "slide_type": "slide"
    }
   },
   "source": [
    "## Merging Dictionaries with the `|` (Merge) Operator"
   ]
  },
  {
   "cell_type": "code",
   "execution_count": 12,
   "id": "a8b4dc02-d5ba-458e-b8c3-261b7546ac45",
   "metadata": {
    "slideshow": {
     "slide_type": "fragment"
    }
   },
   "outputs": [
    {
     "name": "stdout",
     "output_type": "stream",
     "text": [
      "{'sampling_rate': 60, 'units': 'imperial', 'precision': 3, 'calibration_offset': 0.05}\n"
     ]
    }
   ],
   "source": [
    "global_settings = {\n",
    "    \"sampling_rate\": 60,\n",
    "    \"units\": \"metric\",\n",
    "    \"precision\": 2\n",
    "}\n",
    "\n",
    "device_overrides = {\n",
    "    \"precision\": 3,             # existing key\n",
    "    \"units\": \"imperial\",        # existing key\n",
    "    \"calibration_offset\": 0.05  # new key\n",
    "}\n",
    "\n",
    "# Returns a new dictionary\n",
    "new_settings = global_settings | device_overrides\n",
    "\n",
    "print(new_settings)"
   ]
  },
  {
   "cell_type": "markdown",
   "id": "79b00449-6678-45dd-bd49-0be5dc65f5e6",
   "metadata": {
    "slideshow": {
     "slide_type": "slide"
    }
   },
   "source": [
    "## Removing Items with `del`"
   ]
  },
  {
   "cell_type": "code",
   "execution_count": 13,
   "id": "1d92dbe1-e5e4-4def-b18a-5d43947b7efe",
   "metadata": {
    "slideshow": {
     "slide_type": "fragment"
    }
   },
   "outputs": [
    {
     "name": "stdout",
     "output_type": "stream",
     "text": [
      "{'temperature': '22°C', 'pressure': '1013 hPa'}\n"
     ]
    }
   ],
   "source": [
    "sensors = {\n",
    "    \"temperature\": \"22°C\",\n",
    "    \"humidity\": \"60%\",\n",
    "    \"pressure\": \"1013 hPa\"\n",
    "}\n",
    "\n",
    "# If the key doesn't exist, del will raise a KeyError\n",
    "del sensors[\"humidity\"]\n",
    "\n",
    "print(sensors)"
   ]
  },
  {
   "cell_type": "markdown",
   "id": "a428647e-d935-4fde-950a-002ebecc7421",
   "metadata": {
    "slideshow": {
     "slide_type": "slide"
    }
   },
   "source": [
    "## Removing Items with `pop()`"
   ]
  },
  {
   "cell_type": "code",
   "execution_count": 14,
   "id": "157b2b52-a059-4eda-9ec7-1256f85c652a",
   "metadata": {
    "slideshow": {
     "slide_type": "fragment"
    }
   },
   "outputs": [
    {
     "name": "stdout",
     "output_type": "stream",
     "text": [
      "1013 hPa\n",
      "{'temperature': '22°C', 'humidity': '60%'}\n"
     ]
    }
   ],
   "source": [
    "sensors = {\n",
    "    \"temperature\": \"22°C\",\n",
    "    \"humidity\": \"60%\",\n",
    "    \"pressure\": \"1013 hPa\"\n",
    "}\n",
    "# pop() will return the value of the removed element\n",
    "value = sensors.pop(\"pressure\")\n",
    "\n",
    "print(value)\n",
    "print(sensors) "
   ]
  },
  {
   "cell_type": "code",
   "execution_count": 15,
   "id": "344991ca-1e5c-40c8-9bcc-26d3eac4ca79",
   "metadata": {
    "slideshow": {
     "slide_type": "fragment"
    }
   },
   "outputs": [
    {
     "name": "stdout",
     "output_type": "stream",
     "text": [
      "Preassure is not found\n"
     ]
    }
   ],
   "source": [
    "sensors = {\n",
    "    \"temperature\": \"22°C\"\n",
    "}\n",
    "\n",
    "# If the default value is not provided for non-existent keys, pop() will raise a KeyError\n",
    "value = sensors.pop(\"pressure\", \"Preassure is not found\")\n",
    "print(value)"
   ]
  },
  {
   "cell_type": "markdown",
   "id": "5511c9c6-3bdf-4c4a-9402-3301558c746e",
   "metadata": {
    "slideshow": {
     "slide_type": "slide"
    }
   },
   "source": [
    "## Removing Items with `popitem()`"
   ]
  },
  {
   "cell_type": "code",
   "execution_count": 16,
   "id": "3568148c-175a-4965-8099-d0ff8ee11de5",
   "metadata": {
    "slideshow": {
     "slide_type": "fragment"
    }
   },
   "outputs": [
    {
     "name": "stdout",
     "output_type": "stream",
     "text": [
      "('pressure', '1013 hPa')\n",
      "{'temperature': '22°C', 'humidity': '60%'}\n"
     ]
    }
   ],
   "source": [
    "sensors = {\n",
    "    \"temperature\": \"22°C\",\n",
    "    \"humidity\": \"60%\",\n",
    "    \"pressure\": \"1013 hPa\"\n",
    "}\n",
    "\n",
    "# popitem() will remove and return the last key-value pair\n",
    "last_element = sensors.popitem()\n",
    "\n",
    "print(last_element)\n",
    "print(sensors)  "
   ]
  },
  {
   "cell_type": "markdown",
   "id": "a1e0918f-7e39-40e7-8156-f923cef8c770",
   "metadata": {
    "slideshow": {
     "slide_type": "slide"
    }
   },
   "source": [
    "## Clearing the Dictionary with `clear()`"
   ]
  },
  {
   "cell_type": "code",
   "execution_count": 17,
   "id": "2ff99e11-d276-4658-a425-99257f0ea95c",
   "metadata": {
    "slideshow": {
     "slide_type": "fragment"
    }
   },
   "outputs": [
    {
     "name": "stdout",
     "output_type": "stream",
     "text": [
      "{}\n"
     ]
    }
   ],
   "source": [
    "sensors = {\n",
    "    \"temperature\": \"22°C\",\n",
    "    \"humidity\": \"60%\",\n",
    "    \"pressure\": \"1013 hPa\"\n",
    "}\n",
    "\n",
    "sensors.clear()\n",
    "print(sensors)"
   ]
  },
  {
   "cell_type": "markdown",
   "id": "50522f6e-4de0-4533-9139-6ecf88fc561d",
   "metadata": {
    "slideshow": {
     "slide_type": "slide"
    }
   },
   "source": [
    "## Creating Dictionary View Objects with `items()`"
   ]
  },
  {
   "cell_type": "code",
   "execution_count": 18,
   "id": "5313cf5e-be0d-4f0c-8b52-109e763db7e7",
   "metadata": {
    "slideshow": {
     "slide_type": "fragment"
    }
   },
   "outputs": [
    {
     "name": "stdout",
     "output_type": "stream",
     "text": [
      "dict_items([('keyboard', 29.99), ('monitor', 189.99), ('mouse', 19.99), ('chair', 120.0)])\n"
     ]
    }
   ],
   "source": [
    "prices = {\n",
    "    \"keyboard\": 29.99,\n",
    "    \"monitor\": 189.99,\n",
    "    \"mouse\": 19.99,\n",
    "    \"chair\": 120.00\n",
    "}\n",
    "\n",
    "print(prices.items())"
   ]
  },
  {
   "cell_type": "markdown",
   "id": "42b71b28-5a11-43ea-9179-4f5012676ebf",
   "metadata": {
    "slideshow": {
     "slide_type": "slide"
    }
   },
   "source": [
    "## Sorting Dictionaries by Key"
   ]
  },
  {
   "cell_type": "code",
   "execution_count": 19,
   "id": "48b4d1dd-83cf-41f7-9a34-7af5e5215b66",
   "metadata": {
    "slideshow": {
     "slide_type": "fragment"
    }
   },
   "outputs": [
    {
     "name": "stdout",
     "output_type": "stream",
     "text": [
      "dict_items([('keyboard', 29.99), ('monitor', 189.99), ('mouse', 19.99), ('chair', 120.0)])\n",
      "{'chair': 120.0, 'keyboard': 29.99, 'monitor': 189.99, 'mouse': 19.99}\n"
     ]
    }
   ],
   "source": [
    "prices = {\n",
    "    \"keyboard\": 29.99,\n",
    "    \"monitor\": 189.99,\n",
    "    \"mouse\": 19.99,\n",
    "    \"chair\": 120.00\n",
    "}\n",
    "print(prices.items())\n",
    "\n",
    "alphabetical = dict(sorted(prices.items()))\n",
    "\n",
    "print(alphabetical)"
   ]
  },
  {
   "cell_type": "markdown",
   "id": "095504ed-3a5e-4627-813d-ddb04afbb96a",
   "metadata": {
    "slideshow": {
     "slide_type": "slide"
    }
   },
   "source": [
    "## Sorting Dictionaries by Value"
   ]
  },
  {
   "cell_type": "code",
   "execution_count": 20,
   "id": "dbc52dc7-d85d-4c6c-b7fc-a748369658ea",
   "metadata": {
    "slideshow": {
     "slide_type": "fragment"
    }
   },
   "outputs": [
    {
     "name": "stdout",
     "output_type": "stream",
     "text": [
      "dict_items([('keyboard', 29.99), ('monitor', 189.99), ('mouse', 19.99), ('chair', 120.0)])\n",
      "{'mouse': 19.99, 'keyboard': 29.99, 'chair': 120.0, 'monitor': 189.99}\n"
     ]
    }
   ],
   "source": [
    "prices = {\n",
    "    \"keyboard\": 29.99,\n",
    "    \"monitor\": 189.99,\n",
    "    \"mouse\": 19.99,\n",
    "    \"chair\": 120.00\n",
    "}\n",
    "\n",
    "print(prices.items())\n",
    "\n",
    "# item[1] from the key argument refers to the view object returned from items()\n",
    "sorted_prices = dict(sorted(prices.items(), key=lambda item: item[1]))\n",
    "\n",
    "print(sorted_prices)"
   ]
  },
  {
   "cell_type": "markdown",
   "id": "a5ed69dc-b449-480e-9085-4f1a1d7772ae",
   "metadata": {
    "slideshow": {
     "slide_type": "slide"
    }
   },
   "source": [
    "## Sorting Dictionaries by Value with `itemgetter()`"
   ]
  },
  {
   "cell_type": "code",
   "execution_count": 21,
   "id": "597f0550-af26-4247-82ef-a3e5ee03c53e",
   "metadata": {
    "slideshow": {
     "slide_type": "fragment"
    }
   },
   "outputs": [
    {
     "name": "stdout",
     "output_type": "stream",
     "text": [
      "Sorted with itemgetter: {'mouse': 19.99, 'keyboard': 29.99, 'chair': 120.0, 'monitor': 189.99}\n"
     ]
    }
   ],
   "source": [
    "from operator import itemgetter\n",
    "\n",
    "prices = {\n",
    "    \"keyboard\": 29.99,\n",
    "    \"monitor\": 189.99,\n",
    "    \"mouse\": 19.99,\n",
    "    \"chair\": 120.00\n",
    "}\n",
    "\n",
    "sorted_prices_getter = dict(sorted(prices.items(), key=itemgetter(1)))\n",
    "print(\"Sorted with itemgetter:\", sorted_prices_getter)"
   ]
  },
  {
   "cell_type": "markdown",
   "id": "e0cbb6e5-1088-493e-94bb-26617418c191",
   "metadata": {
    "slideshow": {
     "slide_type": "slide"
    }
   },
   "source": [
    "## Creating Dictionary View Objects with `values()`"
   ]
  },
  {
   "cell_type": "code",
   "execution_count": 22,
   "id": "36ffe7df-1ded-411f-b71b-bd8c2f06fda7",
   "metadata": {
    "slideshow": {
     "slide_type": "fragment"
    }
   },
   "outputs": [
    {
     "name": "stdout",
     "output_type": "stream",
     "text": [
      "dict_values([120, 98, 143, 0])\n"
     ]
    }
   ],
   "source": [
    "uptime_hours = {\n",
    "    \"server1\": 120,\n",
    "    \"server2\": 98,\n",
    "    \"server3\": 143,\n",
    "    \"server4\": 0  # offline\n",
    "}\n",
    "\n",
    "print(uptime_hours.values())"
   ]
  },
  {
   "cell_type": "markdown",
   "id": "6df9703f-2c93-483c-978a-3efa72f29dbe",
   "metadata": {
    "slideshow": {
     "slide_type": "slide"
    }
   },
   "source": [
    "## Aggregate Functions"
   ]
  },
  {
   "cell_type": "code",
   "execution_count": 23,
   "id": "4a2ab50e-2e9b-460c-9145-247324b69d77",
   "metadata": {
    "slideshow": {
     "slide_type": "fragment"
    }
   },
   "outputs": [
    {
     "name": "stdout",
     "output_type": "stream",
     "text": [
      "Total servers: 4\n",
      "Total uptime: 361\n",
      "Max uptime: 143\n",
      "Min uptime: 0\n",
      "All running? False\n",
      "Any running? True\n"
     ]
    }
   ],
   "source": [
    "uptime_hours = {\n",
    "    \"server1\": 120,\n",
    "    \"server2\": 98,\n",
    "    \"server3\": 143,\n",
    "    \"server4\": 0  # offline\n",
    "}\n",
    "\n",
    "values = uptime_hours.values()\n",
    "\n",
    "print(\"Total servers:\", len(values))            # Total number of servers\n",
    "print(\"Total uptime:\", sum(values))             # Combined uptime\n",
    "print(\"Max uptime:\", max(values))               # Longest running server\n",
    "print(\"Min uptime:\", min(values))               # Shortest (could be 0)\n",
    "print(\"All running?\", all(values))              # False if any value is 0\n",
    "print(\"Any running?\", any(values))              # True if at least one is > 0"
   ]
  },
  {
   "cell_type": "markdown",
   "id": "d4798a7e-3997-4c63-a1ce-7ca1258551d2",
   "metadata": {
    "slideshow": {
     "slide_type": "slide"
    }
   },
   "source": [
    "## Iterating Over Dictionary Keys"
   ]
  },
  {
   "cell_type": "code",
   "execution_count": 24,
   "id": "47d40da6-0d21-439e-9c28-4a0ed9ce3d31",
   "metadata": {
    "slideshow": {
     "slide_type": "fragment"
    }
   },
   "outputs": [
    {
     "name": "stdout",
     "output_type": "stream",
     "text": [
      "Status code: 200\n",
      "Status code: 404\n",
      "Status code: 500\n",
      "Status code: 403\n"
     ]
    }
   ],
   "source": [
    "status_messages = {\n",
    "    200: \"OK\",\n",
    "    404: \"Not Found\",\n",
    "    500: \"Server Error\",\n",
    "    403: \"Forbidden\"\n",
    "}\n",
    "\n",
    "for code in status_messages:\n",
    "    print(\"Status code:\", code)"
   ]
  },
  {
   "cell_type": "code",
   "execution_count": 25,
   "id": "a2dffe8a-72e3-4b4b-ace3-c218930a76f3",
   "metadata": {
    "slideshow": {
     "slide_type": "fragment"
    }
   },
   "outputs": [
    {
     "name": "stdout",
     "output_type": "stream",
     "text": [
      "Status code: 200\n",
      "Status code: 404\n",
      "Status code: 500\n",
      "Status code: 403\n"
     ]
    }
   ],
   "source": [
    "# You can be more explicit with keys() method, but this is not a common practice anymore\n",
    "for code in status_messages.keys():\n",
    "    print(\"Status code:\", code)"
   ]
  },
  {
   "cell_type": "markdown",
   "id": "e7b4a26b-5dbf-450d-bbab-cf17a71913b1",
   "metadata": {
    "slideshow": {
     "slide_type": "slide"
    }
   },
   "source": [
    "## Iterating Over Dictionary Values"
   ]
  },
  {
   "cell_type": "code",
   "execution_count": 26,
   "id": "fb835490-9354-4965-b09c-82a09e7a817c",
   "metadata": {
    "slideshow": {
     "slide_type": "fragment"
    }
   },
   "outputs": [
    {
     "name": "stdout",
     "output_type": "stream",
     "text": [
      "Message: OK\n",
      "Message: Not Found\n",
      "Message: Server Error\n",
      "Message: Forbidden\n"
     ]
    }
   ],
   "source": [
    "status_messages = {\n",
    "    200: \"OK\",\n",
    "    404: \"Not Found\",\n",
    "    500: \"Server Error\",\n",
    "    403: \"Forbidden\"\n",
    "}\n",
    "\n",
    "for message in status_messages.values():\n",
    "    print(\"Message:\", message)"
   ]
  },
  {
   "cell_type": "code",
   "execution_count": 27,
   "id": "7abd7f3e-88b5-4406-b376-a57ba5702779",
   "metadata": {
    "slideshow": {
     "slide_type": "fragment"
    }
   },
   "outputs": [
    {
     "name": "stdout",
     "output_type": "stream",
     "text": [
      "Message: OK\n",
      "Message: Not Found\n",
      "Message: Server Error\n",
      "Message: Forbidden\n"
     ]
    }
   ],
   "source": [
    "# This is less efficient and less explicit\n",
    "for code in status_messages:\n",
    "    print(\"Message:\", status_messages[code])"
   ]
  },
  {
   "cell_type": "markdown",
   "id": "1f8be5b8-e452-40bb-9a47-815fecc45c19",
   "metadata": {
    "slideshow": {
     "slide_type": "slide"
    }
   },
   "source": [
    "## Iterating Over Dictionary Items"
   ]
  },
  {
   "cell_type": "code",
   "execution_count": 28,
   "id": "836ddc74-0e62-457d-a2e8-865a5b63315e",
   "metadata": {
    "slideshow": {
     "slide_type": "fragment"
    }
   },
   "outputs": [
    {
     "name": "stdout",
     "output_type": "stream",
     "text": [
      "200: OK\n",
      "404: Not Found\n",
      "500: Server Error\n",
      "403: Forbidden\n"
     ]
    }
   ],
   "source": [
    "status_messages = {\n",
    "    200: \"OK\",\n",
    "    404: \"Not Found\",\n",
    "    500: \"Server Error\",\n",
    "    403: \"Forbidden\"\n",
    "}\n",
    "\n",
    "for code, message in status_messages.items():\n",
    "    print(f\"{code}: {message}\")"
   ]
  },
  {
   "cell_type": "markdown",
   "id": "de57d3cd-a5c6-40fe-a8ca-d10be1f70caa",
   "metadata": {
    "slideshow": {
     "slide_type": "slide"
    }
   },
   "source": [
    "## Transforming Dictionaries with Dictionary Comprehensions"
   ]
  },
  {
   "cell_type": "code",
   "execution_count": 30,
   "id": "2233263a-dcbc-4f58-9ec2-161403834fd7",
   "metadata": {
    "slideshow": {
     "slide_type": "fragment"
    }
   },
   "outputs": [
    {
     "name": "stdout",
     "output_type": "stream",
     "text": [
      "{'report.pdf': 4096, 'photo.png': 2048, 'data.csv': 12288}\n"
     ]
    }
   ],
   "source": [
    "# File sizes in MB\n",
    "file_sizes = {\n",
    "    \"report.pdf\": 4,\n",
    "    \"photo.png\": 2,\n",
    "    \"data.csv\": 12\n",
    "}\n",
    "\n",
    "# Convert file sizes to KB\n",
    "sizes_kb = {filename: size * 1024 for filename, size in file_sizes.items()}\n",
    "\n",
    "print(sizes_kb)"
   ]
  },
  {
   "cell_type": "markdown",
   "id": "bf236ebe-0434-4440-8ff9-2e3986c8cec0",
   "metadata": {
    "slideshow": {
     "slide_type": "slide"
    }
   },
   "source": [
    "## Aliasing Dictionaries"
   ]
  },
  {
   "cell_type": "code",
   "execution_count": 31,
   "id": "3ef65894-ccfd-4e55-983b-d4fbbe1680b1",
   "metadata": {
    "slideshow": {
     "slide_type": "fragment"
    }
   },
   "outputs": [
    {
     "name": "stdout",
     "output_type": "stream",
     "text": [
      "original: {'theme': 'light'}\n",
      "alias: {'theme': 'light'}\n"
     ]
    }
   ],
   "source": [
    "original = {\"theme\": \"dark\"}\n",
    "\n",
    "alias = original\n",
    "\n",
    "alias[\"theme\"] = \"light\"\n",
    "\n",
    "print(\"original:\", original)\n",
    "print(\"alias:\", alias)"
   ]
  },
  {
   "cell_type": "markdown",
   "id": "f9b5fdb7-9ff2-4aa3-8a08-7aade5e82943",
   "metadata": {
    "slideshow": {
     "slide_type": "slide"
    }
   },
   "source": [
    "## Making a Shallow Copy of a Dictionary with `copy()`"
   ]
  },
  {
   "cell_type": "code",
   "execution_count": 32,
   "id": "c3267f03-4007-47df-8f1c-6f322db45cbc",
   "metadata": {
    "slideshow": {
     "slide_type": "fragment"
    }
   },
   "outputs": [
    {
     "name": "stdout",
     "output_type": "stream",
     "text": [
      "original: {'theme': 'dark'}\n",
      "shallow_copy: {'theme': 'light'}\n"
     ]
    }
   ],
   "source": [
    "original = {\"theme\": \"dark\"}\n",
    "\n",
    "shallow_copy = original.copy()\n",
    "# You can also use dict()\n",
    "# shallow_copy = dict(original)\n",
    "\n",
    "shallow_copy[\"theme\"] = \"light\"\n",
    "\n",
    "print(\"original:\", original)\n",
    "print(\"shallow_copy:\", shallow_copy)"
   ]
  },
  {
   "cell_type": "markdown",
   "id": "85de60f1-4a21-49ab-b13b-264b5ef9d8c0",
   "metadata": {
    "slideshow": {
     "slide_type": "slide"
    }
   },
   "source": [
    "## Making a Deep Copy of a Dictionary with `deepcopy()`"
   ]
  },
  {
   "cell_type": "code",
   "execution_count": 33,
   "id": "420d539d-41ff-4571-8f8c-51e8707a4225",
   "metadata": {
    "slideshow": {
     "slide_type": "fragment"
    }
   },
   "outputs": [
    {
     "name": "stdout",
     "output_type": "stream",
     "text": [
      "original: {'theme': 'dark', 'options': {'autosave': True}}\n",
      "deep_copy: {'theme': 'dark', 'options': {'autosave': False}}\n"
     ]
    }
   ],
   "source": [
    "import copy\n",
    "\n",
    "original = {\n",
    "    \"theme\": \"dark\",\n",
    "    \"options\": {\"autosave\": True}\n",
    "}\n",
    "\n",
    "deep_copy = copy.deepcopy(original)\n",
    "\n",
    "deep_copy[\"options\"][\"autosave\"] = False\n",
    "\n",
    "print(\"original:\", original)\n",
    "print(\"deep_copy:\", deep_copy)"
   ]
  },
  {
   "cell_type": "markdown",
   "id": "c43af5a8-d870-4bfb-8d06-a2b034900398",
   "metadata": {
    "slideshow": {
     "slide_type": "slide"
    }
   },
   "source": [
    "## Unpacking Dictionaries with the `**` Operator"
   ]
  },
  {
   "cell_type": "code",
   "execution_count": 34,
   "id": "c23b8938-a7c5-4a92-afa6-be83e7968322",
   "metadata": {
    "slideshow": {
     "slide_type": "fragment"
    }
   },
   "outputs": [
    {
     "name": "stdout",
     "output_type": "stream",
     "text": [
      "Welcome, Guest!\n",
      "Good evening, Visitor!\n",
      "Hello, Traveler!\n"
     ]
    }
   ],
   "source": [
    "def greet(greeting, name):\n",
    "    print(f\"{greeting}, {name}!\")\n",
    "\n",
    "# Positional arguments\n",
    "greet(\"Welcome\", \"Guest\")\n",
    "\n",
    "# Keyword Arguments\n",
    "greet(greeting=\"Good evening\", name=\"Visitor\")\n",
    "\n",
    "kwargs = {\n",
    "    \"greeting\": \"Hello\",\n",
    "    \"name\": \"Traveler\"\n",
    "}\n",
    "\n",
    "greet(**kwargs)\n",
    "# This is equal to calling:\n",
    "# greet(greeting=kwargs[\"greeting\"], name=kwargs[\"name\"])"
   ]
  },
  {
   "cell_type": "markdown",
   "id": "925a002e-263d-42a3-a1fe-62ea99e00aed",
   "metadata": {
    "slideshow": {
     "slide_type": "slide"
    }
   },
   "source": [
    "## Passing Wrong Parameter Names Will Result in a `TypeError`"
   ]
  },
  {
   "cell_type": "code",
   "execution_count": 35,
   "id": "a9874210-c190-45d3-a645-89ab44105563",
   "metadata": {
    "slideshow": {
     "slide_type": "fragment"
    }
   },
   "outputs": [
    {
     "name": "stdout",
     "output_type": "stream",
     "text": [
      "TypeError caught: greet() got an unexpected keyword argument 'salutation'\n"
     ]
    }
   ],
   "source": [
    "def greet(greeting, name):\n",
    "    print(f\"{greeting}, {name}!\")\n",
    "\n",
    "wrong_kwargs = {\"salutation\": \"Hey\", \"name\": \"Guest\"}  # 'salutation' doesn't match parameter name\n",
    "\n",
    "try:\n",
    "    greet(**wrong_kwargs)\n",
    "except TypeError as e:\n",
    "    print(\"TypeError caught:\", e)"
   ]
  },
  {
   "cell_type": "markdown",
   "id": "f62f3aff-cc91-404f-b6a6-584d22dd22cb",
   "metadata": {
    "slideshow": {
     "slide_type": "slide"
    }
   },
   "source": [
    "## Packing Keyword Arguments with the `**` Operator"
   ]
  },
  {
   "cell_type": "code",
   "execution_count": 36,
   "id": "59150457-2aef-438a-8182-14643fbd2291",
   "metadata": {
    "slideshow": {
     "slide_type": "fragment"
    }
   },
   "outputs": [
    {
     "name": "stdout",
     "output_type": "stream",
     "text": [
      "Event: login\n",
      "Details: {'user': 'anon', 'location': 'unknown'}\n"
     ]
    }
   ],
   "source": [
    "def log_event(event_type, **metadata):\n",
    "    print(\"Event:\", event_type)\n",
    "    print(\"Details:\", metadata)\n",
    "\n",
    "log_event(\"login\", user=\"anon\", location=\"unknown\")"
   ]
  },
  {
   "cell_type": "markdown",
   "id": "8a301d90-9898-43d3-923b-e65fd83edae1",
   "metadata": {
    "slideshow": {
     "slide_type": "slide"
    }
   },
   "source": [
    "## Example of Using Keyword Arguments"
   ]
  },
  {
   "cell_type": "code",
   "execution_count": 37,
   "id": "68745878-ce09-45df-ab7f-7836f1a9043c",
   "metadata": {
    "slideshow": {
     "slide_type": "fragment"
    }
   },
   "outputs": [
    {
     "name": "stdout",
     "output_type": "stream",
     "text": [
      "kwargs: {'href': 'https://example.com', 'style': 'color: red;'}\n",
      "<a href=\"https://example.com\" style=\"color: red;\">Click Here</a>\n"
     ]
    }
   ],
   "source": [
    "def html_tag(tag, content, **kwargs):\n",
    "    \"\"\"\n",
    "    Returns a string representation of an HTML tag.\n",
    "    \n",
    "    :param tag: The HTML tag name.\n",
    "    :param content: The content inside the tag.\n",
    "    :param kwargs: Optional HTML attributes for the tag.\n",
    "    \"\"\"\n",
    "    print(\"kwargs:\", kwargs)\n",
    "    attributes = ' '.join([f'{key}=\"{value}\"' for key, value in kwargs.items()])\n",
    "    return f'<{tag} {attributes}>{content}</{tag}>'\n",
    "\n",
    "# Example usage\n",
    "print(html_tag('a', 'Click Here', href=\"https://example.com\", style=\"color: red;\"))"
   ]
  },
  {
   "cell_type": "markdown",
   "id": "fd6596e1-3bc6-46cd-af19-b1d40ce48113",
   "metadata": {
    "slideshow": {
     "slide_type": "skip"
    }
   },
   "source": [
    "![HTML Tags Slide](html_tags.png)"
   ]
  }
 ],
 "metadata": {
  "celltoolbar": "Slideshow",
  "kernelspec": {
   "display_name": "Python 3 (ipykernel)",
   "language": "python",
   "name": "python3"
  },
  "language_info": {
   "codemirror_mode": {
    "name": "ipython",
    "version": 3
   },
   "file_extension": ".py",
   "mimetype": "text/x-python",
   "name": "python",
   "nbconvert_exporter": "python",
   "pygments_lexer": "ipython3",
   "version": "3.11.10"
  }
 },
 "nbformat": 4,
 "nbformat_minor": 5
}
