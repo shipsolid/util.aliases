{
 "cells": [
  {
   "cell_type": "markdown",
   "id": "69f27608-a3ea-468a-9ab6-a42f127fd654",
   "metadata": {
    "slideshow": {
     "slide_type": "slide"
    }
   },
   "source": [
    "# Lists"
   ]
  },
  {
   "cell_type": "markdown",
   "id": "aeb30fa1-f027-4c4d-82c5-78b2436bef74",
   "metadata": {
    "slideshow": {
     "slide_type": "slide"
    }
   },
   "source": [
    "## Creating Lists"
   ]
  },
  {
   "cell_type": "code",
   "execution_count": 1,
   "id": "f8cac96f-d816-4d42-a959-a63493b8ed8d",
   "metadata": {
    "slideshow": {
     "slide_type": "fragment"
    }
   },
   "outputs": [
    {
     "name": "stdout",
     "output_type": "stream",
     "text": [
      "Temperatures: [21.5, 22.0, 22.3, 21.8, 21.0]\n",
      "List length: 5\n",
      "File info: ['report.pdf', 2.4, True]\n",
      "List length: 3\n"
     ]
    }
   ],
   "source": [
    "# Empty lists\n",
    "empty_list = []\n",
    "\n",
    "# Homogeneous List\n",
    "# List of temperatures recorded every hour (all floats)\n",
    "hourly_temperatures = [21.5, 22.0, 22.3, 21.8, 21.0]\n",
    "print(\"Temperatures:\", hourly_temperatures)\n",
    "print(\"List length:\", len(hourly_temperatures))\n",
    "\n",
    "# Heterogeneous List\n",
    "# Data about a file: name (str), size in MB (float), is_downloaded (bool)\n",
    "file_info = [\"report.pdf\", 2.4, True]\n",
    "print(\"File info:\", file_info)\n",
    "print(\"List length:\", len(file_info))"
   ]
  },
  {
   "cell_type": "markdown",
   "id": "97916f80-d786-4d91-82dc-19123439cd5d",
   "metadata": {
    "slideshow": {
     "slide_type": "slide"
    }
   },
   "source": [
    "## Why Do We Need Container Types Like Lists?"
   ]
  },
  {
   "cell_type": "code",
   "execution_count": 2,
   "id": "0e2a05fd-088b-4d27-8521-cc001f76e9dc",
   "metadata": {
    "slideshow": {
     "slide_type": "fragment"
    }
   },
   "outputs": [],
   "source": [
    "# Recent app notifications\n",
    "notification1 = \"Update available\"\n",
    "notification2 = \"New message\"\n",
    "notification3 = \"Battery low\"\n",
    "notification4 = \"Backup completed\""
   ]
  },
  {
   "cell_type": "markdown",
   "id": "a8e0a56f-b2a3-4c69-a3f5-eaee6b97b76d",
   "metadata": {
    "slideshow": {
     "slide_type": "slide"
    }
   },
   "source": [
    "## Accessing List Elements with Positive Indices"
   ]
  },
  {
   "cell_type": "code",
   "execution_count": 3,
   "id": "c5398252-8811-4e24-8664-4437572d1f26",
   "metadata": {
    "slideshow": {
     "slide_type": "fragment"
    }
   },
   "outputs": [
    {
     "name": "stdout",
     "output_type": "stream",
     "text": [
      "First notification: Update available\n",
      "Third notification: Battery low\n"
     ]
    }
   ],
   "source": [
    "# List of recent app notifications\n",
    "notifications = [\"Update available\", \"New message\", \"Battery low\", \"Backup completed\"]\n",
    "\n",
    "# Access the first and third notification\n",
    "print(\"First notification:\", notifications[0])\n",
    "print(\"Third notification:\", notifications[2])"
   ]
  },
  {
   "cell_type": "markdown",
   "id": "8c3999dc",
   "metadata": {
    "slideshow": {
     "slide_type": "skip"
    }
   },
   "source": [
    "![Positive Indices](pos_ind.png)"
   ]
  },
  {
   "cell_type": "markdown",
   "id": "d3e5ef8a-a077-4c82-a53f-c2231427bca5",
   "metadata": {
    "slideshow": {
     "slide_type": "slide"
    }
   },
   "source": [
    "## Accessing List Elements with Negative Indices"
   ]
  },
  {
   "cell_type": "code",
   "execution_count": 4,
   "id": "45fc318f-d212-496c-a146-c49b3eee2121",
   "metadata": {
    "slideshow": {
     "slide_type": "fragment"
    }
   },
   "outputs": [
    {
     "name": "stdout",
     "output_type": "stream",
     "text": [
      "Last search: coffee shops nearby\n",
      "Second last search: weather tomorrow\n"
     ]
    }
   ],
   "source": [
    "# List of recent search queries\n",
    "search_history = [\"python lists\", \"sort algorithm\", \"weather tomorrow\", \"coffee shops nearby\"]\n",
    "\n",
    "# Access the last and second-to-last search\n",
    "print(\"Last search:\", search_history[-1])\n",
    "print(\"Second last search:\", search_history[-2])"
   ]
  },
  {
   "cell_type": "markdown",
   "id": "c06b0aa4",
   "metadata": {
    "slideshow": {
     "slide_type": "skip"
    }
   },
   "source": [
    "![Negative Indices](neg_ind.png)"
   ]
  },
  {
   "cell_type": "markdown",
   "id": "09c4d520-6b16-4d94-9cfc-445a16197174",
   "metadata": {
    "slideshow": {
     "slide_type": "slide"
    }
   },
   "source": [
    "## Accessing Non-existent Elements Will Result in an `IndexError`"
   ]
  },
  {
   "cell_type": "code",
   "execution_count": 5,
   "id": "5f32bd21-8d14-4951-aa2e-1c0b27c3e78c",
   "metadata": {
    "slideshow": {
     "slide_type": "fragment"
    }
   },
   "outputs": [
    {
     "name": "stdout",
     "output_type": "stream",
     "text": [
      "That meeting does not exist in the list.\n"
     ]
    }
   ],
   "source": [
    "# List of scheduled meetings\n",
    "meetings = [\"Team Sync\", \"Client Call\", \"Project Review\"]\n",
    "\n",
    "try:\n",
    "    # Attempt to access a meeting that doesn't exist\n",
    "    print(\"Meeting 5:\", meetings[3])\n",
    "except IndexError:\n",
    "    print(\"That meeting does not exist in the list.\")"
   ]
  },
  {
   "cell_type": "markdown",
   "id": "d381d072-337f-4501-a2cf-92888ea728bc",
   "metadata": {
    "slideshow": {
     "slide_type": "slide"
    }
   },
   "source": [
    "## Appending New Elements to the End of the List"
   ]
  },
  {
   "cell_type": "code",
   "execution_count": 6,
   "id": "53de9338-812f-40bc-ab07-f33d8677ae7b",
   "metadata": {
    "slideshow": {
     "slide_type": "fragment"
    }
   },
   "outputs": [
    {
     "name": "stdout",
     "output_type": "stream",
     "text": [
      "Event log: ['System start', 'User login', 'File uploaded']\n"
     ]
    }
   ],
   "source": [
    "# Log of system events\n",
    "event_log = [\"System start\", \"User login\"]\n",
    "\n",
    "# Appending a new element to the list\n",
    "event_log.append(\"File uploaded\")\n",
    "\n",
    "print(\"Event log:\", event_log)"
   ]
  },
  {
   "cell_type": "markdown",
   "id": "1dae6d28-5ae7-4c49-903b-f03cdb421f11",
   "metadata": {
    "slideshow": {
     "slide_type": "slide"
    }
   },
   "source": [
    "## Using `insert()` to Add Elements at a Specific Position"
   ]
  },
  {
   "cell_type": "code",
   "execution_count": 7,
   "id": "95a7c452-00fe-4470-bae4-5cb6f3de26d5",
   "metadata": {
    "slideshow": {
     "slide_type": "fragment"
    }
   },
   "outputs": [
    {
     "name": "stdout",
     "output_type": "stream",
     "text": [
      "Task list: ['Fix critical bug', 'Write report', 'Send email', 'Clean workspace']\n"
     ]
    }
   ],
   "source": [
    "# List of tasks ordered by priority\n",
    "tasks = [\"Fix critical bug\", \"Send email\", \"Clean workspace\"]\n",
    "\n",
    "# Insert an element at a specific position\n",
    "tasks.insert(1, \"Write report\")\n",
    "\n",
    "print(\"Task list:\", tasks)"
   ]
  },
  {
   "cell_type": "markdown",
   "id": "826777b9-e7d8-41b5-bf3f-ec81a853d1d5",
   "metadata": {
    "slideshow": {
     "slide_type": "slide"
    }
   },
   "source": [
    "## Combining Lists with the `+` Operator"
   ]
  },
  {
   "cell_type": "code",
   "execution_count": 8,
   "id": "56a5bf46-0b52-40f1-88a7-4e0567301b6c",
   "metadata": {
    "slideshow": {
     "slide_type": "fragment"
    }
   },
   "outputs": [
    {
     "name": "stdout",
     "output_type": "stream",
     "text": [
      "Full day schedule: ['Make bed', 'Exercise', 'Breakfast', 'Meeting', 'Code review', 'Emails']\n"
     ]
    }
   ],
   "source": [
    "# Morning and afternoon checklists\n",
    "morning_tasks = [\"Make bed\", \"Exercise\", \"Breakfast\"]\n",
    "afternoon_tasks = [\"Meeting\", \"Code review\", \"Emails\"]\n",
    "\n",
    "# Concatenation - combining two lists into one\n",
    "full_day = morning_tasks + afternoon_tasks\n",
    "\n",
    "print(\"Full day schedule:\", full_day)"
   ]
  },
  {
   "cell_type": "markdown",
   "id": "50109c19-4019-48e6-87e5-63bbde6c6732",
   "metadata": {
    "slideshow": {
     "slide_type": "slide"
    }
   },
   "source": [
    "## Adding Multiple Elements with `extend()`"
   ]
  },
  {
   "cell_type": "code",
   "execution_count": 9,
   "id": "3f3a4260-c331-4fc4-b38f-a7a90dc2a8bd",
   "metadata": {
    "slideshow": {
     "slide_type": "fragment"
    }
   },
   "outputs": [
    {
     "name": "stdout",
     "output_type": "stream",
     "text": [
      "Updated print queue: ['Invoice.pdf', 'Poster.png', 'Contract.docx', 'Blueprint.dwg']\n"
     ]
    }
   ],
   "source": [
    "# Current queue of print jobs\n",
    "print_queue = [\"Invoice.pdf\", \"Poster.png\"]\n",
    "\n",
    "# New batch of jobs arrives\n",
    "new_jobs = [\"Contract.docx\", \"Blueprint.dwg\"]\n",
    "\n",
    "# Use the extend method to add multiple items to an existing list\n",
    "print_queue.extend(new_jobs)\n",
    "\n",
    "print(\"Updated print queue:\", print_queue)"
   ]
  },
  {
   "cell_type": "markdown",
   "id": "443e0a04-df8b-4856-afa5-ce18f0d98ed3",
   "metadata": {
    "slideshow": {
     "slide_type": "slide"
    }
   },
   "source": [
    "## Removing the Last Element with `pop()`"
   ]
  },
  {
   "cell_type": "code",
   "execution_count": 10,
   "id": "a48c4701-4007-4711-80ca-da47d08d7996",
   "metadata": {
    "slideshow": {
     "slide_type": "fragment"
    }
   },
   "outputs": [
    {
     "name": "stdout",
     "output_type": "stream",
     "text": [
      "Remaining tasks: ['Write draft', 'Submit form']\n",
      "Last completed task: Fix bug\n"
     ]
    }
   ],
   "source": [
    "# Recently completed tasks (stack-style)\n",
    "completed_tasks = [\"Write draft\", \"Submit form\", \"Fix bug\"]\n",
    "\n",
    "# Remove and retrieve the last element\n",
    "last_task = completed_tasks.pop()\n",
    "\n",
    "print(\"Remaining tasks:\", completed_tasks)\n",
    "print(\"Last completed task:\", last_task)"
   ]
  },
  {
   "cell_type": "markdown",
   "id": "157bd48e-a29e-40e2-add6-c37478e0122c",
   "metadata": {
    "slideshow": {
     "slide_type": "slide"
    }
   },
   "source": [
    "## Removing Elements by Index with `pop()`"
   ]
  },
  {
   "cell_type": "code",
   "execution_count": 11,
   "id": "7d21a284-b350-42c2-90f0-c93429005d4c",
   "metadata": {
    "slideshow": {
     "slide_type": "fragment"
    }
   },
   "outputs": [
    {
     "name": "stdout",
     "output_type": "stream",
     "text": [
      "Remaining timers: [300, 120, 45]\n",
      "Cancelled timer: 600\n"
     ]
    }
   ],
   "source": [
    "# Active timers in seconds\n",
    "timers = [300, 600, 120, 45]\n",
    "\n",
    "# Remove specific element by index\n",
    "# Cancel the second timer (index 1)\n",
    "cancelled = timers.pop(1)\n",
    "\n",
    "print(\"Remaining timers:\", timers)\n",
    "print(\"Cancelled timer:\", cancelled)"
   ]
  },
  {
   "cell_type": "markdown",
   "id": "8ad6a0fa-3138-4fae-8845-d143ed4ce83d",
   "metadata": {
    "slideshow": {
     "slide_type": "slide"
    }
   },
   "source": [
    "## Removing Elements by Value with `remove()`"
   ]
  },
  {
   "cell_type": "code",
   "execution_count": 12,
   "id": "25d9f787-7282-4f1e-af76-16761ebf367c",
   "metadata": {
    "slideshow": {
     "slide_type": "fragment"
    }
   },
   "outputs": [
    {
     "name": "stdout",
     "output_type": "stream",
     "text": [
      "Updated shopping list: ['rice', 'tofu', 'pasta']\n"
     ]
    }
   ],
   "source": [
    "# Items in a virtual shopping list\n",
    "shopping_list = [\"rice\", \"pasta\", \"tofu\", \"pasta\"]\n",
    "\n",
    "# Remove an element by value (first match)\n",
    "shopping_list.remove(\"pasta\")\n",
    "\n",
    "print(\"Updated shopping list:\", shopping_list)"
   ]
  },
  {
   "cell_type": "markdown",
   "id": "8496e239-584d-4b3c-bf4f-88a9a1fefcb7",
   "metadata": {
    "slideshow": {
     "slide_type": "slide"
    }
   },
   "source": [
    "## Clearing All Elements with `clear()`"
   ]
  },
  {
   "cell_type": "code",
   "execution_count": 13,
   "id": "93b9835f-1dcd-4edb-9a51-c5c7a7bedf7b",
   "metadata": {
    "slideshow": {
     "slide_type": "fragment"
    }
   },
   "outputs": [
    {
     "name": "stdout",
     "output_type": "stream",
     "text": [
      "Download cache after clearing: []\n"
     ]
    }
   ],
   "source": [
    "# Temporary cache of downloaded files\n",
    "download_cache = [\"img1.png\", \"doc2.pdf\", \"slides.pptx\"]\n",
    "\n",
    "# Clear all elements\n",
    "download_cache.clear()\n",
    "\n",
    "print(\"Download cache after clearing:\", download_cache)"
   ]
  },
  {
   "cell_type": "markdown",
   "id": "9185b2e7-7115-48fc-8b6c-3c7c50bc163c",
   "metadata": {
    "slideshow": {
     "slide_type": "slide"
    }
   },
   "source": [
    "## Updating Elements"
   ]
  },
  {
   "cell_type": "code",
   "execution_count": 14,
   "id": "d5c599a5-5d89-440f-b390-2616798e63f6",
   "metadata": {
    "slideshow": {
     "slide_type": "fragment"
    }
   },
   "outputs": [
    {
     "name": "stdout",
     "output_type": "stream",
     "text": [
      "Updated playlist: ['Song A', 'Song X', 'Song C']\n"
     ]
    }
   ],
   "source": [
    "# A simple playlist\n",
    "playlist = [\"Song A\", \"Song B\", \"Song C\"]\n",
    "\n",
    "# Update an element by index\n",
    "playlist[1] = \"Song X\"\n",
    "\n",
    "print(\"Updated playlist:\", playlist)"
   ]
  },
  {
   "cell_type": "markdown",
   "id": "7cb4174d-5893-4fe6-8273-17f96fc771d6",
   "metadata": {
    "slideshow": {
     "slide_type": "slide"
    }
   },
   "source": [
    "## Iterating over List Elements"
   ]
  },
  {
   "cell_type": "code",
   "execution_count": 15,
   "id": "5e7a0ee2-9b28-4b89-afcc-4cdf5812b60f",
   "metadata": {
    "slideshow": {
     "slide_type": "fragment"
    }
   },
   "outputs": [
    {
     "name": "stdout",
     "output_type": "stream",
     "text": [
      "I can play the guitar\n",
      "I can play the piano\n",
      "I can play the drums\n"
     ]
    }
   ],
   "source": [
    "# A list of instruments\n",
    "instruments = [\"guitar\", \"piano\", \"drums\"]\n",
    "\n",
    "for instrument in instruments:\n",
    "    print(\"I can play the\",  instrument)"
   ]
  },
  {
   "cell_type": "markdown",
   "id": "834349c1-3636-4416-a724-e69a4afe1fdf",
   "metadata": {
    "slideshow": {
     "slide_type": "slide"
    }
   },
   "source": [
    "## Using `enumerate()` to Loop with Index and Value"
   ]
  },
  {
   "cell_type": "code",
   "execution_count": 16,
   "id": "01056ef3-d941-4d8c-a2bd-48407a60ec56",
   "metadata": {
    "slideshow": {
     "slide_type": "fragment"
    }
   },
   "outputs": [
    {
     "name": "stdout",
     "output_type": "stream",
     "text": [
      "Item 1: Keyboard\n",
      "Item 2: Mouse\n",
      "Item 3: Monitor\n"
     ]
    }
   ],
   "source": [
    "# List of items in a delivery package\n",
    "package_contents = [\"Keyboard\", \"Mouse\", \"Monitor\"]\n",
    "\n",
    "# Label each item with its position\n",
    "for i, item in enumerate(package_contents, 1):\n",
    "    print(f\"Item {i}: {item}\")"
   ]
  },
  {
   "cell_type": "markdown",
   "id": "9fb55e5c-8e1b-4f06-8a79-b343e4c0f6df",
   "metadata": {
    "slideshow": {
     "slide_type": "slide"
    }
   },
   "source": [
    "## Looping Over Nested Lists"
   ]
  },
  {
   "cell_type": "code",
   "execution_count": 17,
   "id": "43e21a8a-8686-43ed-a078-69dd5e52c9c2",
   "metadata": {
    "slideshow": {
     "slide_type": "fragment"
    }
   },
   "outputs": [
    {
     "name": "stdout",
     "output_type": "stream",
     "text": [
      "Row: [1, 2, 3]\n",
      "Row: [4, 5, 6]\n",
      "Value: 1\n",
      "Value: 2\n",
      "Value: 3\n",
      "Value: 4\n",
      "Value: 5\n",
      "Value: 6\n"
     ]
    }
   ],
   "source": [
    "# Nested lists\n",
    "matrix = [\n",
    "    [1, 2, 3],\n",
    "    [4, 5, 6]\n",
    "]\n",
    "\n",
    "# Print each row of the matrix\n",
    "for row in matrix:\n",
    "    print(\"Row:\", row)\n",
    "\n",
    "# Print every element in the matrix, row by row\n",
    "for row in matrix:\n",
    "    for value in row:\n",
    "        print(\"Value:\", value)"
   ]
  },
  {
   "cell_type": "markdown",
   "id": "81bb452c-ab79-4796-8613-a6cefe0ce060",
   "metadata": {
    "slideshow": {
     "slide_type": "slide"
    }
   },
   "source": [
    "## Counting Elements with the Same Value"
   ]
  },
  {
   "cell_type": "code",
   "execution_count": 18,
   "id": "0c2c7c0a-adb5-408d-9bf1-8f6d0a55dc1b",
   "metadata": {
    "slideshow": {
     "slide_type": "fragment"
    }
   },
   "outputs": [
    {
     "name": "stdout",
     "output_type": "stream",
     "text": [
      "Systems online: 3\n"
     ]
    }
   ],
   "source": [
    "# Logged system statuses\n",
    "statuses = [\"online\", \"offline\", \"online\", \"error\", \"online\"]\n",
    "\n",
    "# Count how many times \"online\" appears\n",
    "online_count = statuses.count(\"online\")\n",
    "\n",
    "print(\"Systems online:\", online_count)"
   ]
  },
  {
   "cell_type": "markdown",
   "id": "e597df12-5489-4e19-8ad6-76e59af0ddda",
   "metadata": {
    "slideshow": {
     "slide_type": "slide"
    }
   },
   "source": [
    "## Find the First Occurrence of a Value"
   ]
  },
  {
   "cell_type": "code",
   "execution_count": 19,
   "id": "cddf72fa-dfc9-4651-bc1a-0b5f5dd1d0de",
   "metadata": {
    "slideshow": {
     "slide_type": "fragment"
    }
   },
   "outputs": [
    {
     "name": "stdout",
     "output_type": "stream",
     "text": [
      "First 'scan' task is at position: 1\n"
     ]
    }
   ],
   "source": [
    "task_queue = [\"backup\", \"scan\", \"update\", \"scan\"]\n",
    "\n",
    "# Get the position of the first \"scan\" task\n",
    "first_scan = task_queue.index(\"scan\")\n",
    "\n",
    "print(\"First 'scan' task is at position:\", first_scan)"
   ]
  },
  {
   "cell_type": "markdown",
   "id": "b61489b6-e45e-461c-bb19-a0ae6ccb9244",
   "metadata": {
    "slideshow": {
     "slide_type": "slide"
    }
   },
   "source": [
    "## Check if the Element Exists"
   ]
  },
  {
   "cell_type": "code",
   "execution_count": 20,
   "id": "3d476254-aba3-41cf-b521-0cda6e405918",
   "metadata": {
    "slideshow": {
     "slide_type": "fragment"
    }
   },
   "outputs": [
    {
     "name": "stdout",
     "output_type": "stream",
     "text": [
      "Autosave found at position: 2\n"
     ]
    }
   ],
   "source": [
    "# List of enabled features\n",
    "features = [\"dark_mode\", \"notifications\", \"autosave\"]\n",
    "\n",
    "# Only get index if the feature exists\n",
    "if \"autosave\" in features:\n",
    "    position = features.index(\"autosave\")\n",
    "    print(\"Autosave found at position:\", position)\n",
    "else:\n",
    "    print(\"Autosave not enabled.\")"
   ]
  },
  {
   "cell_type": "markdown",
   "id": "dc714329-e2f2-4128-b575-fa97d80645c0",
   "metadata": {
    "slideshow": {
     "slide_type": "slide"
    }
   },
   "source": [
    "## Check if the Element Does Not Exist"
   ]
  },
  {
   "cell_type": "code",
   "execution_count": 21,
   "id": "e4458d3b-da15-4efc-8d67-8b1f14b0d54c",
   "metadata": {
    "slideshow": {
     "slide_type": "fragment"
    }
   },
   "outputs": [
    {
     "name": "stdout",
     "output_type": "stream",
     "text": [
      "SSD not available for allocation.\n"
     ]
    }
   ],
   "source": [
    "# Available resources\n",
    "resources = [\"GPU\", \"CPU\", \"RAM\"]\n",
    "\n",
    "if \"SSD\" not in resources:\n",
    "    print(\"SSD not available for allocation.\")"
   ]
  },
  {
   "cell_type": "markdown",
   "id": "fbd57542-54ba-4563-910e-ded92460d9c7",
   "metadata": {
    "slideshow": {
     "slide_type": "slide"
    }
   },
   "source": [
    "## Sorting a List In-Place with `sort()`"
   ]
  },
  {
   "cell_type": "code",
   "execution_count": 22,
   "id": "8068ba8c-3dcc-43cf-b250-d026464e549e",
   "metadata": {
    "slideshow": {
     "slide_type": "fragment"
    }
   },
   "outputs": [
    {
     "name": "stdout",
     "output_type": "stream",
     "text": [
      "Alphabetical file order: ['config.txt', 'error.txt', 'log.txt']\n",
      "Temperatures from lowest to highest: [18.5, 19.8, 21.0, 23.1]\n",
      "Alphabetical file order in reverse: ['log.txt', 'error.txt', 'config.txt']\n",
      "Temperatures from highest to lowest: [23.1, 21.0, 19.8, 18.5]\n"
     ]
    }
   ],
   "source": [
    "files = [\"log.txt\", \"config.txt\", \"error.txt\"]\n",
    "temps = [18.5, 21.0, 19.8, 23.1]\n",
    "\n",
    "# Sort alphabetically, modifies original list\n",
    "files.sort()\n",
    "# Sort in ascending order\n",
    "temps.sort()\n",
    "print(\"Alphabetical file order:\", files)\n",
    "print(\"Temperatures from lowest to highest:\", temps)\n",
    "\n",
    "files.sort(reverse=True)\n",
    "temps.sort(reverse=True)\n",
    "print(\"Alphabetical file order in reverse:\", files)\n",
    "print(\"Temperatures from highest to lowest:\", temps)"
   ]
  },
  {
   "cell_type": "markdown",
   "id": "69a3e920-20f5-4908-9d5f-ad9b6df7a8bb",
   "metadata": {
    "slideshow": {
     "slide_type": "slide"
    }
   },
   "source": [
    "## Creating a Sorted Copy with `sorted()`"
   ]
  },
  {
   "cell_type": "code",
   "execution_count": 23,
   "id": "75bd8ea5-e85c-489d-85e9-81c586c84724",
   "metadata": {
    "slideshow": {
     "slide_type": "fragment"
    }
   },
   "outputs": [
    {
     "name": "stdout",
     "output_type": "stream",
     "text": [
      "Original priorities: [3, 1, 2]\n",
      "Sorted copy: [1, 2, 3]\n"
     ]
    }
   ],
   "source": [
    "# Preserve original order of priorities\n",
    "priorities = [3, 1, 2]\n",
    "\n",
    "# Create a new sorted version\n",
    "sorted_priorities = sorted(priorities)\n",
    "# Or in descending order\n",
    "# sorted_priorities = sorted(priorities, reverse=True)\n",
    "\n",
    "print(\"Original priorities:\", priorities)\n",
    "print(\"Sorted copy:\", sorted_priorities)"
   ]
  },
  {
   "cell_type": "markdown",
   "id": "135db81f-7ba5-4b3a-8cab-ddf14a9abedf",
   "metadata": {
    "slideshow": {
     "slide_type": "slide"
    }
   },
   "source": [
    "## Flipping the List Order"
   ]
  },
  {
   "cell_type": "code",
   "execution_count": 24,
   "id": "92b0d736-c38b-4940-8bc8-db1b1d6dd602",
   "metadata": {
    "slideshow": {
     "slide_type": "fragment"
    }
   },
   "outputs": [
    {
     "name": "stdout",
     "output_type": "stream",
     "text": [
      "Events in reverse order: ['Finish', 'Process', 'Load', 'Start']\n"
     ]
    }
   ],
   "source": [
    "# Log of events, most recent last\n",
    "events = [\"Start\", \"Load\", \"Process\", \"Finish\"]\n",
    "\n",
    "# Reverse the list to show most recent first\n",
    "events.reverse()\n",
    "\n",
    "print(\"Events in reverse order:\", events)"
   ]
  },
  {
   "cell_type": "markdown",
   "id": "d5207c92-6fd3-4306-9dc1-13ec50e100c8",
   "metadata": {
    "slideshow": {
     "slide_type": "slide"
    }
   },
   "source": [
    "## List Slicing"
   ]
  },
  {
   "cell_type": "code",
   "execution_count": 25,
   "id": "232d92ac-8cec-46ec-ac40-7af8c7f810d6",
   "metadata": {
    "slideshow": {
     "slide_type": "fragment"
    }
   },
   "outputs": [
    {
     "name": "stdout",
     "output_type": "stream",
     "text": [
      "letters:\t ['a', 'b', 'c', 'd', 'e', 'f', 'g']\n",
      "letters[2:5]:\t ['c', 'd', 'e']\n",
      "letters[-4:-1]:\t ['d', 'e', 'f']\n",
      "letters[:3]:\t ['a', 'b', 'c']\n",
      "letters[4:]:\t ['e', 'f', 'g']\n"
     ]
    }
   ],
   "source": [
    "letters = [\"a\", \"b\", \"c\", \"d\", \"e\", \"f\", \"g\"]\n",
    "\n",
    "print(\"letters:\\t\", letters)\n",
    "# list[start:end] (start element is included)\n",
    "print(\"letters[2:5]:\\t\", letters[2:5])\n",
    "\n",
    "# You can use negative indices\n",
    "print(\"letters[-4:-1]:\\t\", letters[-4:-1])\n",
    "\n",
    "# list[:end] (from beginning of the list to the index)\n",
    "print(\"letters[:3]:\\t\", letters[:3])\n",
    "# list[start:] (from the start index to the end of the list)\n",
    "print(\"letters[4:]:\\t\", letters[4:])"
   ]
  },
  {
   "cell_type": "markdown",
   "id": "a7e7f429-6564-4bcc-a6be-d1ec1c4691ae",
   "metadata": {
    "slideshow": {
     "slide_type": "slide"
    }
   },
   "source": [
    "## List Slicing with a Step"
   ]
  },
  {
   "cell_type": "code",
   "execution_count": 26,
   "id": "6578fac3-04fc-4620-9ff3-c9006e4785ba",
   "metadata": {
    "slideshow": {
     "slide_type": "fragment"
    }
   },
   "outputs": [
    {
     "name": "stdout",
     "output_type": "stream",
     "text": [
      "letters[1:6:2]:\t ['b', 'd', 'f']\n",
      "letters[::-3]:\t ['g', 'd', 'a']\n"
     ]
    }
   ],
   "source": [
    "letters = [\"a\", \"b\", \"c\", \"d\", \"e\", \"f\", \"g\"]\n",
    "\n",
    "# list[::step] (get every other element)\n",
    "print(\"letters[1:6:2]:\\t\", letters[1:6:2])\n",
    "\n",
    "# Reverse the list\n",
    "print(\"letters[::-3]:\\t\", letters[::-3])"
   ]
  },
  {
   "cell_type": "markdown",
   "id": "560883bb-7391-4e0f-9260-2a14e624cb4b",
   "metadata": {
    "slideshow": {
     "slide_type": "slide"
    }
   },
   "source": [
    "## List Aliasing"
   ]
  },
  {
   "cell_type": "code",
   "execution_count": 27,
   "id": "1793e5c8-a5eb-4eb9-a6a8-c5abac3f7428",
   "metadata": {
    "slideshow": {
     "slide_type": "fragment"
    }
   },
   "outputs": [
    {
     "name": "stdout",
     "output_type": "stream",
     "text": [
      "Original list: ['core', 'auth', 'storage', 'analytics']\n",
      "Alias list: ['core', 'auth', 'storage', 'analytics']\n"
     ]
    }
   ],
   "source": [
    "# List of enabled modules\n",
    "modules = [\"core\", \"auth\", \"storage\"]\n",
    "\n",
    "# This creates an alias, not a copy\n",
    "linked = modules\n",
    "\n",
    "linked.append(\"analytics\")\n",
    "\n",
    "print(\"Original list:\", modules)\n",
    "print(\"Alias list:\", linked)"
   ]
  },
  {
   "cell_type": "markdown",
   "id": "30deb22e",
   "metadata": {
    "slideshow": {
     "slide_type": "skip"
    }
   },
   "source": [
    "![List Alias](alias.png)"
   ]
  },
  {
   "cell_type": "markdown",
   "id": "d5a50d01-5732-4721-a43b-c8293c1ef537",
   "metadata": {
    "slideshow": {
     "slide_type": "slide"
    }
   },
   "source": [
    "## Shallow Copy of a List"
   ]
  },
  {
   "cell_type": "code",
   "execution_count": 28,
   "id": "88bbab78-300c-417e-8f7a-aac8196a30c7",
   "metadata": {
    "slideshow": {
     "slide_type": "fragment"
    }
   },
   "outputs": [
    {
     "name": "stdout",
     "output_type": "stream",
     "text": [
      "Original: ['core', 'auth', 'storage']\n",
      "Shallow copy: ['core', 'storage']\n"
     ]
    }
   ],
   "source": [
    "# List of enabled modules\n",
    "modules = [\"core\", \"auth\", \"storage\"]\n",
    "\n",
    "# Create a shallow copy using slicing\n",
    "copied = modules[:]\n",
    "# Or you can use the list constructor\n",
    "# copied = list(modules)\n",
    "\n",
    "copied.remove(\"auth\")\n",
    "\n",
    "print(\"Original:\", modules)\n",
    "print(\"Shallow copy:\", copied)"
   ]
  },
  {
   "cell_type": "markdown",
   "id": "471a1017",
   "metadata": {
    "slideshow": {
     "slide_type": "skip"
    }
   },
   "source": [
    "![Copy of a list](copy.png)"
   ]
  },
  {
   "cell_type": "markdown",
   "id": "8f124efa-4d89-4f89-a340-b8e7dd1fd6b7",
   "metadata": {
    "slideshow": {
     "slide_type": "slide"
    }
   },
   "source": [
    "## Shallow Copy of a Nested List"
   ]
  },
  {
   "cell_type": "code",
   "execution_count": 29,
   "id": "8b513255-322c-4bed-a37f-ce23e23e7acf",
   "metadata": {
    "slideshow": {
     "slide_type": "fragment"
    }
   },
   "outputs": [
    {
     "name": "stdout",
     "output_type": "stream",
     "text": [
      "Original after shallow copy: [['volume', 20], ['brightness', 50]]\n",
      "Shallow copy: [['volume', 20], ['brightness', 50]]\n"
     ]
    }
   ],
   "source": [
    "# List of settings, each with a sub-list of values\n",
    "settings = [[\"volume\", 70], [\"brightness\", 50]]\n",
    "\n",
    "# Create a shallow copy\n",
    "shallow_copy = settings[:]\n",
    "\n",
    "# Modify the inner list in the shallow copy\n",
    "shallow_copy[0][1] = 20\n",
    "\n",
    "print(\"Original after shallow copy:\", settings)\n",
    "print(\"Shallow copy:\", shallow_copy)"
   ]
  },
  {
   "cell_type": "markdown",
   "id": "a9f39fcd-17ba-4fcb-9699-b0a939455a36",
   "metadata": {
    "slideshow": {
     "slide_type": "slide"
    }
   },
   "source": [
    "## Deep Copy of a Nested List"
   ]
  },
  {
   "cell_type": "code",
   "execution_count": 30,
   "id": "bcae2aea-9fcf-45c8-b6bf-b457af5f165d",
   "metadata": {
    "scrolled": true,
    "slideshow": {
     "slide_type": "fragment"
    }
   },
   "outputs": [
    {
     "name": "stdout",
     "output_type": "stream",
     "text": [
      "Original after deep copy: [['volume', 70], ['brightness', 50]]\n",
      "Deep copy: [['volume', 20], ['brightness', 50]]\n"
     ]
    }
   ],
   "source": [
    "import copy\n",
    "\n",
    "# List of settings, each with a sub-list of values\n",
    "settings = [[\"volume\", 70], [\"brightness\", 50]]\n",
    "\n",
    "# Create a deep copy\n",
    "deep_copy = copy.deepcopy(settings)\n",
    "\n",
    "# Modify the inner list in the deep copy\n",
    "deep_copy[0][1] = 20\n",
    "\n",
    "print(\"Original after deep copy:\", settings)\n",
    "print(\"Deep copy:\", deep_copy)"
   ]
  },
  {
   "cell_type": "markdown",
   "id": "e8116c6a-0e66-4c02-ba67-8b0f7ca54f84",
   "metadata": {
    "slideshow": {
     "slide_type": "slide"
    }
   },
   "source": [
    "## List Unpacking"
   ]
  },
  {
   "cell_type": "code",
   "execution_count": 31,
   "id": "e07555fd-eee6-42cd-a8ab-2c8513240e5d",
   "metadata": {
    "slideshow": {
     "slide_type": "fragment"
    }
   },
   "outputs": [
    {
     "name": "stdout",
     "output_type": "stream",
     "text": [
      "Width: 10\n",
      "Height: 20\n",
      "Depth: 5\n"
     ]
    }
   ],
   "source": [
    "dimensions = [10, 20, 5]\n",
    "\n",
    "# Unpack each element into its own variable\n",
    "width, height, depth = dimensions\n",
    "\n",
    "print(\"Width:\", width)\n",
    "print(\"Height:\", height)\n",
    "print(\"Depth:\", depth)"
   ]
  },
  {
   "cell_type": "markdown",
   "id": "8b2a4f00-b2de-40e3-ad72-f3645817f476",
   "metadata": {
    "slideshow": {
     "slide_type": "slide"
    }
   },
   "source": [
    "## Unpacking Requires the Same Number of Variables as List Elements"
   ]
  },
  {
   "cell_type": "code",
   "execution_count": 32,
   "id": "29e9f16b-4a46-48ed-9518-2e6b56785caa",
   "metadata": {
    "slideshow": {
     "slide_type": "fragment"
    }
   },
   "outputs": [
    {
     "name": "stdout",
     "output_type": "stream",
     "text": [
      "Too many variables: not enough values to unpack (expected 4, got 3)\n",
      "Too few variables: too many values to unpack (expected 2)\n"
     ]
    }
   ],
   "source": [
    "user_info = [\"Alice\", \"Engineer\", \"Canada\"]\n",
    "\n",
    "# Too many variables\n",
    "try:\n",
    "    name, job, country, age = user_info\n",
    "except ValueError as e:\n",
    "    print(\"Too many variables:\", e)\n",
    "\n",
    "# Too few variables\n",
    "try:\n",
    "    name, job = user_info\n",
    "except ValueError as e:\n",
    "    print(\"Too few variables:\", e)"
   ]
  },
  {
   "cell_type": "markdown",
   "id": "ba23537a-9fb4-483f-8289-01b026aa6030",
   "metadata": {
    "slideshow": {
     "slide_type": "slide"
    }
   },
   "source": [
    "## Extended Unpacking with the Star `*` Operator"
   ]
  },
  {
   "cell_type": "code",
   "execution_count": 33,
   "id": "dece3baa-e387-4e63-84c6-589fbebb89f2",
   "metadata": {
    "slideshow": {
     "slide_type": "fragment"
    }
   },
   "outputs": [
    {
     "name": "stdout",
     "output_type": "stream",
     "text": [
      "Status Code: 200\n",
      "Message: ['OK', 'Data loaded successfully', 'Time: 0.32s']\n"
     ]
    }
   ],
   "source": [
    "http_response = [200, \"OK\", \"Data loaded successfully\", \"Time: 0.32s\"]\n",
    "\n",
    "status_code, *message_parts = http_response\n",
    "\n",
    "print(\"Status Code:\", status_code)\n",
    "print(\"Message:\", message_parts)"
   ]
  },
  {
   "cell_type": "markdown",
   "id": "20c03e0f-413c-45ac-85c4-61a30b865e5f",
   "metadata": {
    "slideshow": {
     "slide_type": "slide"
    }
   },
   "source": [
    "## Transforming Lists with List Comprehensions"
   ]
  },
  {
   "cell_type": "code",
   "execution_count": 34,
   "id": "cdeca19c-9b5c-4edc-bf54-f3848afa71b6",
   "metadata": {
    "slideshow": {
     "slide_type": "fragment"
    }
   },
   "outputs": [
    {
     "name": "stdout",
     "output_type": "stream",
     "text": [
      "Squares: [1, 4, 9, 16]\n"
     ]
    }
   ],
   "source": [
    "numbers = [1, 2, 3, 4]\n",
    "# Square each number\n",
    "# Basic transformation\n",
    "squares = [n ** 2 for n in numbers]\n",
    "\n",
    "print(\"Squares:\", squares)"
   ]
  },
  {
   "cell_type": "markdown",
   "id": "e124d1b5-ed96-4ebd-b00e-4bff9ad51179",
   "metadata": {
    "slideshow": {
     "slide_type": "slide"
    }
   },
   "source": [
    "## Filtering Lists with List Comprehensions"
   ]
  },
  {
   "cell_type": "code",
   "execution_count": 35,
   "id": "4a9d43a6-bc67-4233-98a7-020481b1a5c2",
   "metadata": {
    "slideshow": {
     "slide_type": "fragment"
    }
   },
   "outputs": [
    {
     "name": "stdout",
     "output_type": "stream",
     "text": [
      "Even numbers: [2, 4]\n"
     ]
    }
   ],
   "source": [
    "numbers = [1, 2, 3, 4]\n",
    "\n",
    "# Only keep even numbers\n",
    "# Filtering with a condition\n",
    "evens = [n for n in numbers if n % 2 == 0]\n",
    "\n",
    "print(\"Even numbers:\", evens)"
   ]
  },
  {
   "cell_type": "markdown",
   "id": "f5e7589f-a8b3-47dd-af67-14c5d26f3c24",
   "metadata": {
    "slideshow": {
     "slide_type": "slide"
    }
   },
   "source": [
    "## Joining List Elements into a String"
   ]
  },
  {
   "cell_type": "code",
   "execution_count": 36,
   "id": "5244024f-4de2-4829-ab19-5ad0c9540c1e",
   "metadata": {
    "slideshow": {
     "slide_type": "fragment"
    }
   },
   "outputs": [
    {
     "name": "stdout",
     "output_type": "stream",
     "text": [
      "Linux/macOS path: home/user/documents/project\n",
      "Windows path:     home\\user\\documents\\project\n",
      "Split folders:    ['home', 'user', 'documents', 'project']\n"
     ]
    }
   ],
   "source": [
    "# Parts of a file path\n",
    "folders = [\"home\", \"user\", \"documents\", \"project\"]\n",
    "\n",
    "# For Linux/macOS: use '/'\n",
    "linux_path = \"/\".join(folders)\n",
    "print(\"Linux/macOS path:\", linux_path)\n",
    "\n",
    "# For Windows: use '\\\\' (escaped backslash)\n",
    "windows_path = \"\\\\\".join(folders)\n",
    "print(\"Windows path:    \", windows_path)\n",
    "\n",
    "# Splitting a path back into parts\n",
    "split_folders = linux_path.split(\"/\")\n",
    "print(\"Split folders:   \", split_folders)"
   ]
  },
  {
   "cell_type": "markdown",
   "id": "20617e88-0f85-4050-85b7-af38df0cd649",
   "metadata": {
    "slideshow": {
     "slide_type": "slide"
    }
   },
   "source": [
    "## Aggregate Functions"
   ]
  },
  {
   "cell_type": "code",
   "execution_count": 37,
   "id": "ed73c876-a921-44e9-b654-5d2c496c964e",
   "metadata": {
    "slideshow": {
     "slide_type": "fragment"
    }
   },
   "outputs": [
    {
     "name": "stdout",
     "output_type": "stream",
     "text": [
      "Sum of values: 0.30000000000000004\n",
      "Maximum value: 0.2\n",
      "Minimum value: 0.0\n",
      "Contains any truthy values? True\n",
      "All values are truthy? False\n"
     ]
    }
   ],
   "source": [
    "# Sensor readings\n",
    "readings = [0.0, 0.1, 0.0, 0.2]\n",
    "\n",
    "print(\"Sum of values:\", sum(readings))\n",
    "print(\"Maximum value:\", max(readings))\n",
    "print(\"Minimum value:\", min(readings))\n",
    "print(\"Contains any truthy values?\", any(readings))\n",
    "print(\"All values are truthy?\", all(readings))"
   ]
  }
 ],
 "metadata": {
  "celltoolbar": "Slideshow",
  "kernelspec": {
   "display_name": "Python 3 (ipykernel)",
   "language": "python",
   "name": "python3"
  },
  "language_info": {
   "codemirror_mode": {
    "name": "ipython",
    "version": 3
   },
   "file_extension": ".py",
   "mimetype": "text/x-python",
   "name": "python",
   "nbconvert_exporter": "python",
   "pygments_lexer": "ipython3",
   "version": "3.11.10"
  }
 },
 "nbformat": 4,
 "nbformat_minor": 5
}
