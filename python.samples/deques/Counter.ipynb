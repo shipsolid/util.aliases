{
 "cells": [
  {
   "cell_type": "markdown",
   "id": "c4e3f37d-92c0-42bc-9e5d-580857f7e6e1",
   "metadata": {
    "slideshow": {
     "slide_type": "slide"
    }
   },
   "source": [
    "# Counter"
   ]
  },
  {
   "cell_type": "markdown",
   "id": "c6470111-d458-476d-a7fb-2fab7ef90461",
   "metadata": {
    "slideshow": {
     "slide_type": "slide"
    }
   },
   "source": [
    "## Creating `Counter` Dictionaries\n",
    "\n",
    "`Counter` is a dictionary subclass"
   ]
  },
  {
   "cell_type": "code",
   "execution_count": 2,
   "id": "f228020c-1706-49fa-bbc0-a24c866df672",
   "metadata": {
    "slideshow": {
     "slide_type": "fragment"
    }
   },
   "outputs": [
    {
     "name": "stdout",
     "output_type": "stream",
     "text": [
      "Counter({'a': 3, 'c': 1, 'd': 1, 'b': 1})\n",
      "Counter({'s': 4, 'c': 2, 'o': 2, 'n': 2, 'i': 1, 'u': 1, 'e': 1})\n",
      "Counter({'b': 12, 'c': 11, 'a': 10})\n"
     ]
    }
   ],
   "source": [
    "from collections import Counter\n",
    "\n",
    "letters = [\"a\", \"c\", \"d\", \"a\", \"a\", \"b\"]\n",
    "counter_from_list = Counter(letters)\n",
    "print(counter_from_list)\n",
    "\n",
    "string_word = \"consciousness\"\n",
    "counter_from_string = Counter(string_word)\n",
    "print(counter_from_string)\n",
    "\n",
    "# Provide initial counts of an existing group of objects\n",
    "# counter_from_kwargs = Counter(a=10, b=12, c=11)\n",
    "initial_data = {\"a\": 10, \"b\": 12, \"c\": 11}\n",
    "counter_from_dict = Counter(initial_data)\n",
    "print(counter_from_dict)"
   ]
  },
  {
   "cell_type": "markdown",
   "id": "7ae52a1d-4d08-41da-81bf-a746c2e8ca93",
   "metadata": {
    "slideshow": {
     "slide_type": "slide"
    }
   },
   "source": [
    "## Accessing Counts"
   ]
  },
  {
   "cell_type": "code",
   "execution_count": 3,
   "id": "8f1f98a0-a626-4b20-ad04-b11b45f50f9f",
   "metadata": {
    "slideshow": {
     "slide_type": "fragment"
    }
   },
   "outputs": [
    {
     "name": "stdout",
     "output_type": "stream",
     "text": [
      "Counter({'Rust': 4, 'Python': 3, 'Go': 3, 'JavaScript': 2, 'Java': 1})\n",
      "Votes for Python: 3\n",
      "Votes for Go: 3\n",
      "Votes for Elixir (not in list): 0\n"
     ]
    }
   ],
   "source": [
    "from collections import Counter\n",
    "\n",
    "# Simulated voting poll: each item is a vote for a programming language\n",
    "votes = [\n",
    "    \"Python\", \"JavaScript\", \"Python\", \"Rust\", \"Python\", \"Go\",\n",
    "    \"JavaScript\", \"Go\", \"Rust\", \"Rust\", \"Rust\", \"Java\", \"Go\"\n",
    "]\n",
    "vote_counts = Counter(votes)\n",
    "\n",
    "print(vote_counts)\n",
    "print(\"Votes for Python:\", vote_counts[\"Python\"])\n",
    "print(\"Votes for Go:\", vote_counts[\"Go\"])\n",
    "print(\"Votes for Elixir (not in list):\", vote_counts[\"Elixir\"])"
   ]
  },
  {
   "cell_type": "markdown",
   "id": "cbeb33ed-57f5-43ea-a9c4-4e9ad54663ed",
   "metadata": {
    "slideshow": {
     "slide_type": "slide"
    }
   },
   "source": [
    "## Updating Counts"
   ]
  },
  {
   "cell_type": "code",
   "execution_count": 4,
   "id": "16dd6f65-5d0c-4d91-95cd-33d6778cbf54",
   "metadata": {
    "slideshow": {
     "slide_type": "fragment"
    }
   },
   "outputs": [
    {
     "name": "stdout",
     "output_type": "stream",
     "text": [
      "Initial stock:\t\t Counter({'smartphone': 8, 'keyboard': 6, 'laptop': 5, 'tablet': 4, 'monitor': 3})\n",
      "Stock after delivery:\t Counter({'smartphone': 13, 'laptop': 8, 'keyboard': 6, 'tablet': 4, 'monitor': 3})\n",
      "Stock after orders:\t Counter({'smartphone': 13, 'keyboard': 6, 'monitor': 1, 'laptop': -2, 'tablet': -3})\n"
     ]
    }
   ],
   "source": [
    "from collections import Counter\n",
    "\n",
    "# Initial stock of electronic devices\n",
    "stock = Counter({\"laptop\": 5, \"smartphone\": 8, \"tablet\": 4, \"monitor\": 3,\"keyboard\": 6})\n",
    "print(\"Initial stock:\\t\\t\", stock)\n",
    "\n",
    "# update() adds to existing counts, it doesn't overwrite keys\n",
    "monthly_delivery = {\"laptop\": 3, \"smartphone\": 5}\n",
    "stock.update(monthly_delivery)\n",
    "print(\"Stock after delivery:\\t\", stock)\n",
    "\n",
    "# subtract() reduces counts, values can be negative\n",
    "orders = {\"laptop\": 10, \"tablet\": 7, \"monitor\": 2}\n",
    "stock.subtract(orders)\n",
    "print(\"Stock after orders:\\t\", stock)"
   ]
  },
  {
   "cell_type": "markdown",
   "id": "670f9640-5acc-4b12-82a6-a1445800af27",
   "metadata": {
    "slideshow": {
     "slide_type": "slide"
    }
   },
   "source": [
    "## Using `Counter` Operators: `+` and `-`\n",
    "\n",
    "Both of these operators discard negative values in the result by default."
   ]
  },
  {
   "cell_type": "code",
   "execution_count": 5,
   "id": "01c7eaeb-b69a-4959-b4fd-11c422cc6aef",
   "metadata": {
    "slideshow": {
     "slide_type": "fragment"
    }
   },
   "outputs": [
    {
     "name": "stdout",
     "output_type": "stream",
     "text": [
      "Total checkouts (day1 + day2):\n",
      "Counter({'mystery': 13, 'fiction': 12, 'non_fiction': 10, 'fantasy': 3, 'sci_fi': 2})\n",
      "Checkouts that increased on day 2 (day2 - day1):\n",
      "Counter({'mystery': 3, 'fantasy': 3, 'non_fiction': 2})\n"
     ]
    }
   ],
   "source": [
    "from collections import Counter\n",
    "\n",
    "# Books checked out from the library on two different days\n",
    "day1_checkouts = Counter({\"fiction\": 7, \"non_fiction\": 4, \"mystery\": 5, \"sci_fi\": 2})\n",
    "day2_checkouts = Counter({\"fiction\": 5, \"non_fiction\": 6, \"mystery\": 8, \"fantasy\": 3})\n",
    "\n",
    "total_checkouts = day1_checkouts + day2_checkouts # Total Checkouts\n",
    "print(\"Total checkouts (day1 + day2):\")\n",
    "print(total_checkouts)\n",
    "\n",
    "# The negative value for 'fiction' is discarded\n",
    "more_on_day2 = day2_checkouts - day1_checkouts # Increase in day 2 compared to day 1\n",
    "print(\"Checkouts that increased on day 2 (day2 - day1):\")\n",
    "print(more_on_day2)"
   ]
  },
  {
   "cell_type": "markdown",
   "id": "3843d429-65cc-4f74-91bc-a0fd04829c5d",
   "metadata": {
    "slideshow": {
     "slide_type": "skip"
    }
   },
   "source": [
    "## Using `Counter` Operators: `&` and `|`"
   ]
  },
  {
   "cell_type": "code",
   "execution_count": 6,
   "id": "8fca8141-ab42-402f-b524-8aed4f85162e",
   "metadata": {
    "slideshow": {
     "slide_type": "skip"
    }
   },
   "outputs": [
    {
     "name": "stdout",
     "output_type": "stream",
     "text": [
      "Reliable step counts (minimum from both):\n",
      "Counter({'walking': 5500, 'running': 3000, 'stairs': 800})\n",
      "\n",
      "Total possible steps (maximum from either):\n",
      "Counter({'walking': 6000, 'running': 3500, 'cycling': 1500, 'swimming': 1200, 'stairs': 900})\n"
     ]
    }
   ],
   "source": [
    "from collections import Counter\n",
    "\n",
    "# Number of steps in two different fitness apps\n",
    "apple_watch = Counter({\"walking\": 6000, \"running\": 3000, \"stairs\": 800, \"cycling\": 1500})\n",
    "fitbit = Counter({\"walking\": 5500, \"running\": 3500, \"stairs\": 900, \"swimming\": 1200})\n",
    "\n",
    "# Keeps only keys present in both counters, using the minimum count for each\n",
    "# intersection\n",
    "agreed_steps = apple_watch & fitbit\n",
    "print(\"Reliable step counts (minimum from both):\")\n",
    "print(agreed_steps)\n",
    "\n",
    "# Combines all keys, keeping the maximum count per key from either counter\n",
    "# union\n",
    "max_steps = apple_watch | fitbit\n",
    "print(\"\\nTotal possible steps (maximum from either):\")\n",
    "print(max_steps)"
   ]
  },
  {
   "cell_type": "markdown",
   "id": "8746f0e7-7863-4cf5-adea-95daa1a8e799",
   "metadata": {
    "slideshow": {
     "slide_type": "slide"
    }
   },
   "source": [
    "## Using `Counter` Unary Operators"
   ]
  },
  {
   "cell_type": "code",
   "execution_count": 7,
   "id": "bf97f217-9c2e-4601-8524-f8580a88ad75",
   "metadata": {
    "slideshow": {
     "slide_type": "fragment"
    }
   },
   "outputs": [
    {
     "name": "stdout",
     "output_type": "stream",
     "text": [
      "Available inventory:\t Counter({'smartphone': 13, 'keyboard': 6, 'monitor': 1})\n",
      "Backordered items:\t Counter({'tablet': 3, 'laptop': 2})\n"
     ]
    }
   ],
   "source": [
    "from collections import Counter\n",
    "\n",
    "stock = Counter({\n",
    "    \"smartphone\": 13,\n",
    "    \"keyboard\": 6,\n",
    "    \"monitor\": 1,\n",
    "    \"laptop\": -2,\n",
    "    \"tablet\": -3\n",
    "})\n",
    "\n",
    "# Only return items with non-negative counts (what's in stock)\n",
    "available_inventory = +stock\n",
    "print(\"Available inventory:\\t\", available_inventory)\n",
    "\n",
    "# Only return items with negative counts, but flip them to positive (shortages/backorders)\n",
    "backordered_items = -stock\n",
    "print(\"Backordered items:\\t\", backordered_items)"
   ]
  },
  {
   "cell_type": "markdown",
   "id": "bbab1018-9925-4550-89dd-6660aa01c24f",
   "metadata": {
    "slideshow": {
     "slide_type": "slide"
    }
   },
   "source": [
    "## Utilizing `Counter` methods: `most_common()` and `total()`"
   ]
  },
  {
   "cell_type": "code",
   "execution_count": 8,
   "id": "470af128-114b-4f8f-a4e8-ee7a8fa01f71",
   "metadata": {
    "slideshow": {
     "slide_type": "fragment"
    }
   },
   "outputs": [
    {
     "name": "stdout",
     "output_type": "stream",
     "text": [
      "Most visited pages: [('home', 4), ('about', 3)]\n",
      "Least visited pages: [('profile', 1), ('contact', 2)]\n",
      "Total visits: 10\n"
     ]
    }
   ],
   "source": [
    "# Visits to web pages\n",
    "visits = [\"home\", \"about\", \"contact\", \"home\", \"about\", \"home\", \"profile\", \"home\", \"about\", \"contact\"]\n",
    "visit_counts = Counter(visits)\n",
    "\n",
    "# Get the top 2 most visited pages (most_common(n) returns the n highest-count items)\n",
    "most_visited = visit_counts.most_common(2)\n",
    "print(\"Most visited pages:\", most_visited)\n",
    "\n",
    "# Get all visited pages sorted by count\n",
    "# Then we can use slicing to reverse them and limit the result to last two items\n",
    "least_visited = visit_counts.most_common()[:-3:-1]\n",
    "print(\"Least visited pages:\", least_visited)\n",
    "\n",
    "# Get the sum of all counts (total visits)\n",
    "print(\"Total visits:\", visit_counts.total())"
   ]
  },
  {
   "cell_type": "markdown",
   "id": "1b6d6cf9-abed-4e1d-941b-158a436d3f88",
   "metadata": {
    "slideshow": {
     "slide_type": "slide"
    }
   },
   "source": [
    "## Reconstruct the Dataset with `elements()`"
   ]
  },
  {
   "cell_type": "code",
   "execution_count": 9,
   "id": "8d93b21b-dbfd-4ade-845d-d2789fe1ac99",
   "metadata": {
    "slideshow": {
     "slide_type": "fragment"
    }
   },
   "outputs": [
    {
     "name": "stdout",
     "output_type": "stream",
     "text": [
      "Ticket pool: ['participant_01', 'participant_01', 'participant_01', 'participant_01', 'participant_01', 'participant_02', 'participant_02', 'participant_03', 'participant_03', 'participant_03']\n",
      "\n",
      "Winner: participant_03\n"
     ]
    }
   ],
   "source": [
    "from collections import Counter\n",
    "import random\n",
    "\n",
    "# Number of purchased tickets\n",
    "tickets = Counter({\n",
    "    \"participant_01\": 5,\n",
    "    \"participant_02\": 2,\n",
    "    \"participant_03\": 3\n",
    "})\n",
    "\n",
    "# elements() expands the counts into a list \n",
    "# where each item appears as many times as its count\n",
    "ticket_pool = list(tickets.elements())\n",
    "print(\"Ticket pool:\", ticket_pool)\n",
    "\n",
    "# Simulating chance weighted by frequency\n",
    "winner = random.choice(ticket_pool)\n",
    "print(\"\\nWinner:\", winner)"
   ]
  },
  {
   "cell_type": "markdown",
   "id": "b304bff8-6d43-4a9f-8d63-8a7a525b61b6",
   "metadata": {
    "slideshow": {
     "slide_type": "slide"
    }
   },
   "source": [
    "## `Counter` is Python's Multiset Implementation\n",
    "\n",
    "- `Counter` keys are unique like in regular sets\n",
    "- Tracking counts (multiplicity) for each key makes it function like a multiset\n",
    "- Supports multiset math: addition, subtraction, intersection, union\n",
    "- Allows comparison based on element counts"
   ]
  },
  {
   "cell_type": "code",
   "execution_count": 10,
   "id": "b6c34cde-5a33-4cb5-95a4-ad63a91ce794",
   "metadata": {
    "slideshow": {
     "slide_type": "fragment"
    }
   },
   "outputs": [
    {
     "name": "stdout",
     "output_type": "stream",
     "text": [
      "is_anagram(\"night\", \"thing\"): True\n"
     ]
    }
   ],
   "source": [
    "from collections import Counter\n",
    "\n",
    "def is_anagram(word1, word2):\n",
    "    return Counter(word1) == Counter(word2)\n",
    "\n",
    "print('is_anagram(\"night\", \"thing\"):', is_anagram(\"night\", \"thing\"))"
   ]
  }
 ],
 "metadata": {
  "celltoolbar": "Slideshow",
  "kernelspec": {
   "display_name": "Python 3 (ipykernel)",
   "language": "python",
   "name": "python3"
  },
  "language_info": {
   "codemirror_mode": {
    "name": "ipython",
    "version": 3
   },
   "file_extension": ".py",
   "mimetype": "text/x-python",
   "name": "python",
   "nbconvert_exporter": "python",
   "pygments_lexer": "ipython3",
   "version": "3.11.10"
  }
 },
 "nbformat": 4,
 "nbformat_minor": 5
}
